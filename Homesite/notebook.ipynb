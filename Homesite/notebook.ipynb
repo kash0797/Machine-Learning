{
  "cells": [
    {
      "cell_type": "code",
      "execution_count": null,
      "metadata": {
        "colab": {
          "base_uri": "https://localhost:8080/"
        },
        "id": "wdWf4CZf9u1J",
        "outputId": "3eece079-7a00-4745-f871-c886eb6a6713"
      },
      "outputs": [
        {
          "output_type": "stream",
          "name": "stdout",
          "text": [
            "Requirement already satisfied: vecstack in /usr/local/lib/python3.10/dist-packages (0.4.0)\n",
            "Requirement already satisfied: numpy in /usr/local/lib/python3.10/dist-packages (from vecstack) (1.23.5)\n",
            "Requirement already satisfied: scipy in /usr/local/lib/python3.10/dist-packages (from vecstack) (1.11.3)\n",
            "Requirement already satisfied: scikit-learn>=0.18 in /usr/local/lib/python3.10/dist-packages (from vecstack) (1.2.2)\n",
            "Requirement already satisfied: joblib>=1.1.1 in /usr/local/lib/python3.10/dist-packages (from scikit-learn>=0.18->vecstack) (1.3.2)\n",
            "Requirement already satisfied: threadpoolctl>=2.0.0 in /usr/local/lib/python3.10/dist-packages (from scikit-learn>=0.18->vecstack) (3.2.0)\n"
          ]
        }
      ],
      "source": [
        "!pip install vecstack\n"
      ]
    },
    {
      "cell_type": "code",
      "execution_count": null,
      "metadata": {
        "id": "5Wyedif3_1Wy"
      },
      "outputs": [],
      "source": [
        "from vecstack import stacking\n",
        "import pandas as pd\n",
        "import numpy as np\n",
        "from sklearn.metrics import accuracy_score #works\n",
        "from sklearn.model_selection import train_test_split\n",
        "from sklearn.ensemble import RandomForestClassifier\n",
        "from sklearn.tree import DecisionTreeClassifier\n",
        "from sklearn.model_selection import GridSearchCV, RandomizedSearchCV, cross_val_score\n",
        "from sklearn.ensemble import GradientBoostingClassifier\n",
        "from sklearn.neural_network import MLPClassifier\n",
        "from imblearn.over_sampling import SMOTE\n",
        "from sklearn.svm import SVC\n",
        "from sklearn.metrics import accuracy_score, precision_score, recall_score, f1_score, roc_auc_score, confusion_matrix\n",
        "from sklearn.neighbors import KNeighborsClassifier\n",
        "from sklearn.svm import LinearSVC\n",
        "\n",
        "\n"
      ]
    },
    {
      "cell_type": "code",
      "execution_count": null,
      "metadata": {
        "id": "OXvytYKU_815"
      },
      "outputs": [],
      "source": [
        "#Read training data file\n",
        "#trainfile = '/content/drive/MyDrive/NewHomesiteTrain.csv'\n",
        "trainfile = '/content/drive/MyDrive/RevisedHomesiteTrain1.csv'\n",
        "trainData = pd.read_csv(trainfile)\n",
        "\n",
        "#Read test data file\n",
        "#testfile = '/content/drive/MyDrive/NewHomesiteTest.csv'\n",
        "testfile = '/content/drive/MyDrive/RevisedHomesiteTest1.csv'\n",
        "testData = pd.read_csv(testfile)"
      ]
    },
    {
      "cell_type": "code",
      "execution_count": null,
      "metadata": {
        "colab": {
          "base_uri": "https://localhost:8080/"
        },
        "id": "7Msf5JZraSwl",
        "outputId": "739131ba-12fa-486c-8a3f-31196c484a12"
      },
      "outputs": [
        {
          "output_type": "stream",
          "name": "stdout",
          "text": [
            "Drive already mounted at /content/drive; to attempt to forcibly remount, call drive.mount(\"/content/drive\", force_remount=True).\n"
          ]
        }
      ],
      "source": [
        "from google.colab import drive\n",
        "drive.mount('/content/drive')"
      ]
    },
    {
      "cell_type": "code",
      "execution_count": null,
      "metadata": {
        "colab": {
          "base_uri": "https://localhost:8080/"
        },
        "id": "3zQJ2m6nU0Eq",
        "outputId": "2cafaf66-b6c0-4883-897c-5ec348dddf4e"
      },
      "outputs": [
        {
          "output_type": "stream",
          "name": "stdout",
          "text": [
            "(65000, 596)\n",
            "(173836, 596)\n"
          ]
        }
      ],
      "source": [
        "print(trainData.shape)\n",
        "print(testData.shape)"
      ]
    },
    {
      "cell_type": "code",
      "execution_count": null,
      "metadata": {
        "colab": {
          "base_uri": "https://localhost:8080/",
          "height": 255
        },
        "id": "Sk7NrhMHYLvD",
        "outputId": "9629206c-2ec1-420b-9bad-bb04f03dd5f2"
      },
      "outputs": [
        {
          "output_type": "execute_result",
          "data": {
            "text/plain": [
              "   CoverageField11A  CoverageField11B  CoverageField1A  CoverageField1B  \\\n",
              "0                 2                 1               17               23   \n",
              "1                 5                 9                6                8   \n",
              "2                 4                 6                7               12   \n",
              "3                15                23                3                2   \n",
              "4                 4                 6                8               13   \n",
              "\n",
              "   CoverageField2A  CoverageField2B  CoverageField3A  CoverageField3B  \\\n",
              "0               17               23               15               22   \n",
              "1                6                8                5                7   \n",
              "2                7               12                6               10   \n",
              "3                3                2                2                2   \n",
              "4                8               13                7               11   \n",
              "\n",
              "   CoverageField4A  CoverageField4B  ...  PropertyField38_N  \\\n",
              "0               16               22  ...                  1   \n",
              "1                5                8  ...                  1   \n",
              "2                7               11  ...                  1   \n",
              "3                3                2  ...                  1   \n",
              "4                7               13  ...                  1   \n",
              "\n",
              "   PropertyField38_Y  GeographicField63_   GeographicField63_N  \\\n",
              "0                  0                    0                    1   \n",
              "1                  0                    0                    1   \n",
              "2                  0                    0                    1   \n",
              "3                  0                    0                    1   \n",
              "4                  0                    0                    1   \n",
              "\n",
              "   GeographicField63_Y  GeographicField64_CA  GeographicField64_IL  \\\n",
              "0                    0                     1                     0   \n",
              "1                    0                     0                     0   \n",
              "2                    0                     0                     0   \n",
              "3                    0                     0                     0   \n",
              "4                    0                     0                     1   \n",
              "\n",
              "   GeographicField64_NJ  GeographicField64_TX  QuoteConversion_Flag  \n",
              "0                     0                     0                     0  \n",
              "1                     1                     0                     0  \n",
              "2                     1                     0                     0  \n",
              "3                     0                     1                     0  \n",
              "4                     0                     0                     0  \n",
              "\n",
              "[5 rows x 596 columns]"
            ],
            "text/html": [
              "\n",
              "  <div id=\"df-34160522-5888-4489-bbd2-032b56ff6527\" class=\"colab-df-container\">\n",
              "    <div>\n",
              "<style scoped>\n",
              "    .dataframe tbody tr th:only-of-type {\n",
              "        vertical-align: middle;\n",
              "    }\n",
              "\n",
              "    .dataframe tbody tr th {\n",
              "        vertical-align: top;\n",
              "    }\n",
              "\n",
              "    .dataframe thead th {\n",
              "        text-align: right;\n",
              "    }\n",
              "</style>\n",
              "<table border=\"1\" class=\"dataframe\">\n",
              "  <thead>\n",
              "    <tr style=\"text-align: right;\">\n",
              "      <th></th>\n",
              "      <th>CoverageField11A</th>\n",
              "      <th>CoverageField11B</th>\n",
              "      <th>CoverageField1A</th>\n",
              "      <th>CoverageField1B</th>\n",
              "      <th>CoverageField2A</th>\n",
              "      <th>CoverageField2B</th>\n",
              "      <th>CoverageField3A</th>\n",
              "      <th>CoverageField3B</th>\n",
              "      <th>CoverageField4A</th>\n",
              "      <th>CoverageField4B</th>\n",
              "      <th>...</th>\n",
              "      <th>PropertyField38_N</th>\n",
              "      <th>PropertyField38_Y</th>\n",
              "      <th>GeographicField63_</th>\n",
              "      <th>GeographicField63_N</th>\n",
              "      <th>GeographicField63_Y</th>\n",
              "      <th>GeographicField64_CA</th>\n",
              "      <th>GeographicField64_IL</th>\n",
              "      <th>GeographicField64_NJ</th>\n",
              "      <th>GeographicField64_TX</th>\n",
              "      <th>QuoteConversion_Flag</th>\n",
              "    </tr>\n",
              "  </thead>\n",
              "  <tbody>\n",
              "    <tr>\n",
              "      <th>0</th>\n",
              "      <td>2</td>\n",
              "      <td>1</td>\n",
              "      <td>17</td>\n",
              "      <td>23</td>\n",
              "      <td>17</td>\n",
              "      <td>23</td>\n",
              "      <td>15</td>\n",
              "      <td>22</td>\n",
              "      <td>16</td>\n",
              "      <td>22</td>\n",
              "      <td>...</td>\n",
              "      <td>1</td>\n",
              "      <td>0</td>\n",
              "      <td>0</td>\n",
              "      <td>1</td>\n",
              "      <td>0</td>\n",
              "      <td>1</td>\n",
              "      <td>0</td>\n",
              "      <td>0</td>\n",
              "      <td>0</td>\n",
              "      <td>0</td>\n",
              "    </tr>\n",
              "    <tr>\n",
              "      <th>1</th>\n",
              "      <td>5</td>\n",
              "      <td>9</td>\n",
              "      <td>6</td>\n",
              "      <td>8</td>\n",
              "      <td>6</td>\n",
              "      <td>8</td>\n",
              "      <td>5</td>\n",
              "      <td>7</td>\n",
              "      <td>5</td>\n",
              "      <td>8</td>\n",
              "      <td>...</td>\n",
              "      <td>1</td>\n",
              "      <td>0</td>\n",
              "      <td>0</td>\n",
              "      <td>1</td>\n",
              "      <td>0</td>\n",
              "      <td>0</td>\n",
              "      <td>0</td>\n",
              "      <td>1</td>\n",
              "      <td>0</td>\n",
              "      <td>0</td>\n",
              "    </tr>\n",
              "    <tr>\n",
              "      <th>2</th>\n",
              "      <td>4</td>\n",
              "      <td>6</td>\n",
              "      <td>7</td>\n",
              "      <td>12</td>\n",
              "      <td>7</td>\n",
              "      <td>12</td>\n",
              "      <td>6</td>\n",
              "      <td>10</td>\n",
              "      <td>7</td>\n",
              "      <td>11</td>\n",
              "      <td>...</td>\n",
              "      <td>1</td>\n",
              "      <td>0</td>\n",
              "      <td>0</td>\n",
              "      <td>1</td>\n",
              "      <td>0</td>\n",
              "      <td>0</td>\n",
              "      <td>0</td>\n",
              "      <td>1</td>\n",
              "      <td>0</td>\n",
              "      <td>0</td>\n",
              "    </tr>\n",
              "    <tr>\n",
              "      <th>3</th>\n",
              "      <td>15</td>\n",
              "      <td>23</td>\n",
              "      <td>3</td>\n",
              "      <td>2</td>\n",
              "      <td>3</td>\n",
              "      <td>2</td>\n",
              "      <td>2</td>\n",
              "      <td>2</td>\n",
              "      <td>3</td>\n",
              "      <td>2</td>\n",
              "      <td>...</td>\n",
              "      <td>1</td>\n",
              "      <td>0</td>\n",
              "      <td>0</td>\n",
              "      <td>1</td>\n",
              "      <td>0</td>\n",
              "      <td>0</td>\n",
              "      <td>0</td>\n",
              "      <td>0</td>\n",
              "      <td>1</td>\n",
              "      <td>0</td>\n",
              "    </tr>\n",
              "    <tr>\n",
              "      <th>4</th>\n",
              "      <td>4</td>\n",
              "      <td>6</td>\n",
              "      <td>8</td>\n",
              "      <td>13</td>\n",
              "      <td>8</td>\n",
              "      <td>13</td>\n",
              "      <td>7</td>\n",
              "      <td>11</td>\n",
              "      <td>7</td>\n",
              "      <td>13</td>\n",
              "      <td>...</td>\n",
              "      <td>1</td>\n",
              "      <td>0</td>\n",
              "      <td>0</td>\n",
              "      <td>1</td>\n",
              "      <td>0</td>\n",
              "      <td>0</td>\n",
              "      <td>1</td>\n",
              "      <td>0</td>\n",
              "      <td>0</td>\n",
              "      <td>0</td>\n",
              "    </tr>\n",
              "  </tbody>\n",
              "</table>\n",
              "<p>5 rows × 596 columns</p>\n",
              "</div>\n",
              "    <div class=\"colab-df-buttons\">\n",
              "\n",
              "  <div class=\"colab-df-container\">\n",
              "    <button class=\"colab-df-convert\" onclick=\"convertToInteractive('df-34160522-5888-4489-bbd2-032b56ff6527')\"\n",
              "            title=\"Convert this dataframe to an interactive table.\"\n",
              "            style=\"display:none;\">\n",
              "\n",
              "  <svg xmlns=\"http://www.w3.org/2000/svg\" height=\"24px\" viewBox=\"0 -960 960 960\">\n",
              "    <path d=\"M120-120v-720h720v720H120Zm60-500h600v-160H180v160Zm220 220h160v-160H400v160Zm0 220h160v-160H400v160ZM180-400h160v-160H180v160Zm440 0h160v-160H620v160ZM180-180h160v-160H180v160Zm440 0h160v-160H620v160Z\"/>\n",
              "  </svg>\n",
              "    </button>\n",
              "\n",
              "  <style>\n",
              "    .colab-df-container {\n",
              "      display:flex;\n",
              "      gap: 12px;\n",
              "    }\n",
              "\n",
              "    .colab-df-convert {\n",
              "      background-color: #E8F0FE;\n",
              "      border: none;\n",
              "      border-radius: 50%;\n",
              "      cursor: pointer;\n",
              "      display: none;\n",
              "      fill: #1967D2;\n",
              "      height: 32px;\n",
              "      padding: 0 0 0 0;\n",
              "      width: 32px;\n",
              "    }\n",
              "\n",
              "    .colab-df-convert:hover {\n",
              "      background-color: #E2EBFA;\n",
              "      box-shadow: 0px 1px 2px rgba(60, 64, 67, 0.3), 0px 1px 3px 1px rgba(60, 64, 67, 0.15);\n",
              "      fill: #174EA6;\n",
              "    }\n",
              "\n",
              "    .colab-df-buttons div {\n",
              "      margin-bottom: 4px;\n",
              "    }\n",
              "\n",
              "    [theme=dark] .colab-df-convert {\n",
              "      background-color: #3B4455;\n",
              "      fill: #D2E3FC;\n",
              "    }\n",
              "\n",
              "    [theme=dark] .colab-df-convert:hover {\n",
              "      background-color: #434B5C;\n",
              "      box-shadow: 0px 1px 3px 1px rgba(0, 0, 0, 0.15);\n",
              "      filter: drop-shadow(0px 1px 2px rgba(0, 0, 0, 0.3));\n",
              "      fill: #FFFFFF;\n",
              "    }\n",
              "  </style>\n",
              "\n",
              "    <script>\n",
              "      const buttonEl =\n",
              "        document.querySelector('#df-34160522-5888-4489-bbd2-032b56ff6527 button.colab-df-convert');\n",
              "      buttonEl.style.display =\n",
              "        google.colab.kernel.accessAllowed ? 'block' : 'none';\n",
              "\n",
              "      async function convertToInteractive(key) {\n",
              "        const element = document.querySelector('#df-34160522-5888-4489-bbd2-032b56ff6527');\n",
              "        const dataTable =\n",
              "          await google.colab.kernel.invokeFunction('convertToInteractive',\n",
              "                                                    [key], {});\n",
              "        if (!dataTable) return;\n",
              "\n",
              "        const docLinkHtml = 'Like what you see? Visit the ' +\n",
              "          '<a target=\"_blank\" href=https://colab.research.google.com/notebooks/data_table.ipynb>data table notebook</a>'\n",
              "          + ' to learn more about interactive tables.';\n",
              "        element.innerHTML = '';\n",
              "        dataTable['output_type'] = 'display_data';\n",
              "        await google.colab.output.renderOutput(dataTable, element);\n",
              "        const docLink = document.createElement('div');\n",
              "        docLink.innerHTML = docLinkHtml;\n",
              "        element.appendChild(docLink);\n",
              "      }\n",
              "    </script>\n",
              "  </div>\n",
              "\n",
              "\n",
              "<div id=\"df-91b1dfde-aac0-4ed3-9980-58cb8e13fd63\">\n",
              "  <button class=\"colab-df-quickchart\" onclick=\"quickchart('df-91b1dfde-aac0-4ed3-9980-58cb8e13fd63')\"\n",
              "            title=\"Suggest charts\"\n",
              "            style=\"display:none;\">\n",
              "\n",
              "<svg xmlns=\"http://www.w3.org/2000/svg\" height=\"24px\"viewBox=\"0 0 24 24\"\n",
              "     width=\"24px\">\n",
              "    <g>\n",
              "        <path d=\"M19 3H5c-1.1 0-2 .9-2 2v14c0 1.1.9 2 2 2h14c1.1 0 2-.9 2-2V5c0-1.1-.9-2-2-2zM9 17H7v-7h2v7zm4 0h-2V7h2v10zm4 0h-2v-4h2v4z\"/>\n",
              "    </g>\n",
              "</svg>\n",
              "  </button>\n",
              "\n",
              "<style>\n",
              "  .colab-df-quickchart {\n",
              "      --bg-color: #E8F0FE;\n",
              "      --fill-color: #1967D2;\n",
              "      --hover-bg-color: #E2EBFA;\n",
              "      --hover-fill-color: #174EA6;\n",
              "      --disabled-fill-color: #AAA;\n",
              "      --disabled-bg-color: #DDD;\n",
              "  }\n",
              "\n",
              "  [theme=dark] .colab-df-quickchart {\n",
              "      --bg-color: #3B4455;\n",
              "      --fill-color: #D2E3FC;\n",
              "      --hover-bg-color: #434B5C;\n",
              "      --hover-fill-color: #FFFFFF;\n",
              "      --disabled-bg-color: #3B4455;\n",
              "      --disabled-fill-color: #666;\n",
              "  }\n",
              "\n",
              "  .colab-df-quickchart {\n",
              "    background-color: var(--bg-color);\n",
              "    border: none;\n",
              "    border-radius: 50%;\n",
              "    cursor: pointer;\n",
              "    display: none;\n",
              "    fill: var(--fill-color);\n",
              "    height: 32px;\n",
              "    padding: 0;\n",
              "    width: 32px;\n",
              "  }\n",
              "\n",
              "  .colab-df-quickchart:hover {\n",
              "    background-color: var(--hover-bg-color);\n",
              "    box-shadow: 0 1px 2px rgba(60, 64, 67, 0.3), 0 1px 3px 1px rgba(60, 64, 67, 0.15);\n",
              "    fill: var(--button-hover-fill-color);\n",
              "  }\n",
              "\n",
              "  .colab-df-quickchart-complete:disabled,\n",
              "  .colab-df-quickchart-complete:disabled:hover {\n",
              "    background-color: var(--disabled-bg-color);\n",
              "    fill: var(--disabled-fill-color);\n",
              "    box-shadow: none;\n",
              "  }\n",
              "\n",
              "  .colab-df-spinner {\n",
              "    border: 2px solid var(--fill-color);\n",
              "    border-color: transparent;\n",
              "    border-bottom-color: var(--fill-color);\n",
              "    animation:\n",
              "      spin 1s steps(1) infinite;\n",
              "  }\n",
              "\n",
              "  @keyframes spin {\n",
              "    0% {\n",
              "      border-color: transparent;\n",
              "      border-bottom-color: var(--fill-color);\n",
              "      border-left-color: var(--fill-color);\n",
              "    }\n",
              "    20% {\n",
              "      border-color: transparent;\n",
              "      border-left-color: var(--fill-color);\n",
              "      border-top-color: var(--fill-color);\n",
              "    }\n",
              "    30% {\n",
              "      border-color: transparent;\n",
              "      border-left-color: var(--fill-color);\n",
              "      border-top-color: var(--fill-color);\n",
              "      border-right-color: var(--fill-color);\n",
              "    }\n",
              "    40% {\n",
              "      border-color: transparent;\n",
              "      border-right-color: var(--fill-color);\n",
              "      border-top-color: var(--fill-color);\n",
              "    }\n",
              "    60% {\n",
              "      border-color: transparent;\n",
              "      border-right-color: var(--fill-color);\n",
              "    }\n",
              "    80% {\n",
              "      border-color: transparent;\n",
              "      border-right-color: var(--fill-color);\n",
              "      border-bottom-color: var(--fill-color);\n",
              "    }\n",
              "    90% {\n",
              "      border-color: transparent;\n",
              "      border-bottom-color: var(--fill-color);\n",
              "    }\n",
              "  }\n",
              "</style>\n",
              "\n",
              "  <script>\n",
              "    async function quickchart(key) {\n",
              "      const quickchartButtonEl =\n",
              "        document.querySelector('#' + key + ' button');\n",
              "      quickchartButtonEl.disabled = true;  // To prevent multiple clicks.\n",
              "      quickchartButtonEl.classList.add('colab-df-spinner');\n",
              "      try {\n",
              "        const charts = await google.colab.kernel.invokeFunction(\n",
              "            'suggestCharts', [key], {});\n",
              "      } catch (error) {\n",
              "        console.error('Error during call to suggestCharts:', error);\n",
              "      }\n",
              "      quickchartButtonEl.classList.remove('colab-df-spinner');\n",
              "      quickchartButtonEl.classList.add('colab-df-quickchart-complete');\n",
              "    }\n",
              "    (() => {\n",
              "      let quickchartButtonEl =\n",
              "        document.querySelector('#df-91b1dfde-aac0-4ed3-9980-58cb8e13fd63 button');\n",
              "      quickchartButtonEl.style.display =\n",
              "        google.colab.kernel.accessAllowed ? 'block' : 'none';\n",
              "    })();\n",
              "  </script>\n",
              "</div>\n",
              "    </div>\n",
              "  </div>\n"
            ]
          },
          "metadata": {},
          "execution_count": 6
        }
      ],
      "source": [
        "trainData.head()"
      ]
    },
    {
      "cell_type": "code",
      "execution_count": null,
      "metadata": {
        "id": "O66GRYMea3fA"
      },
      "outputs": [],
      "source": [
        "testData = testData.drop('GeographicField64', axis=1)"
      ]
    },
    {
      "cell_type": "code",
      "execution_count": null,
      "metadata": {
        "colab": {
          "base_uri": "https://localhost:8080/",
          "height": 255
        },
        "id": "tjNe1ZQoYUBx",
        "outputId": "e91bab43-2760-45e5-ba42-77b936a088a1"
      },
      "outputs": [
        {
          "output_type": "execute_result",
          "data": {
            "text/plain": [
              "   CoverageField11A  CoverageField11B  CoverageField1A  CoverageField1B  \\\n",
              "0                13                22                4                4   \n",
              "1                 4                 5                8               14   \n",
              "2                 3                 3               11               18   \n",
              "3                 5                 9               14               22   \n",
              "4                12                21                4                5   \n",
              "\n",
              "   CoverageField2A  CoverageField2B  CoverageField3A  CoverageField3B  \\\n",
              "0                4                4                3                3   \n",
              "1                8               14                7               12   \n",
              "2               11               18               10               16   \n",
              "3               15               22               13               20   \n",
              "4                4                5                4                4   \n",
              "\n",
              "   CoverageField4A  CoverageField4B  ...  PropertyField37_Y  \\\n",
              "0                3                4  ...                  1   \n",
              "1                8               13  ...                  0   \n",
              "2               10               18  ...                  0   \n",
              "3               22               25  ...                  0   \n",
              "4                4                5  ...                  0   \n",
              "\n",
              "   PropertyField38_N  PropertyField38_Y  GeographicField63_   \\\n",
              "0                  1                  0                    0   \n",
              "1                  1                  0                    0   \n",
              "2                  1                  0                    0   \n",
              "3                  1                  0                    0   \n",
              "4                  1                  0                    0   \n",
              "\n",
              "   GeographicField63_N  GeographicField63_Y  GeographicField64_CA  \\\n",
              "0                    0                    1                     0   \n",
              "1                    1                    0                     0   \n",
              "2                    1                    0                     0   \n",
              "3                    1                    0                     0   \n",
              "4                    1                    0                     0   \n",
              "\n",
              "   GeographicField64_IL  GeographicField64_NJ  GeographicField64_TX  \n",
              "0                     0                     0                     0  \n",
              "1                     0                     0                     0  \n",
              "2                     0                     0                     0  \n",
              "3                     0                     0                     0  \n",
              "4                     0                     0                     0  \n",
              "\n",
              "[5 rows x 595 columns]"
            ],
            "text/html": [
              "\n",
              "  <div id=\"df-b920f76e-c791-494b-a6d0-1d3a24a46991\" class=\"colab-df-container\">\n",
              "    <div>\n",
              "<style scoped>\n",
              "    .dataframe tbody tr th:only-of-type {\n",
              "        vertical-align: middle;\n",
              "    }\n",
              "\n",
              "    .dataframe tbody tr th {\n",
              "        vertical-align: top;\n",
              "    }\n",
              "\n",
              "    .dataframe thead th {\n",
              "        text-align: right;\n",
              "    }\n",
              "</style>\n",
              "<table border=\"1\" class=\"dataframe\">\n",
              "  <thead>\n",
              "    <tr style=\"text-align: right;\">\n",
              "      <th></th>\n",
              "      <th>CoverageField11A</th>\n",
              "      <th>CoverageField11B</th>\n",
              "      <th>CoverageField1A</th>\n",
              "      <th>CoverageField1B</th>\n",
              "      <th>CoverageField2A</th>\n",
              "      <th>CoverageField2B</th>\n",
              "      <th>CoverageField3A</th>\n",
              "      <th>CoverageField3B</th>\n",
              "      <th>CoverageField4A</th>\n",
              "      <th>CoverageField4B</th>\n",
              "      <th>...</th>\n",
              "      <th>PropertyField37_Y</th>\n",
              "      <th>PropertyField38_N</th>\n",
              "      <th>PropertyField38_Y</th>\n",
              "      <th>GeographicField63_</th>\n",
              "      <th>GeographicField63_N</th>\n",
              "      <th>GeographicField63_Y</th>\n",
              "      <th>GeographicField64_CA</th>\n",
              "      <th>GeographicField64_IL</th>\n",
              "      <th>GeographicField64_NJ</th>\n",
              "      <th>GeographicField64_TX</th>\n",
              "    </tr>\n",
              "  </thead>\n",
              "  <tbody>\n",
              "    <tr>\n",
              "      <th>0</th>\n",
              "      <td>13</td>\n",
              "      <td>22</td>\n",
              "      <td>4</td>\n",
              "      <td>4</td>\n",
              "      <td>4</td>\n",
              "      <td>4</td>\n",
              "      <td>3</td>\n",
              "      <td>3</td>\n",
              "      <td>3</td>\n",
              "      <td>4</td>\n",
              "      <td>...</td>\n",
              "      <td>1</td>\n",
              "      <td>1</td>\n",
              "      <td>0</td>\n",
              "      <td>0</td>\n",
              "      <td>0</td>\n",
              "      <td>1</td>\n",
              "      <td>0</td>\n",
              "      <td>0</td>\n",
              "      <td>0</td>\n",
              "      <td>0</td>\n",
              "    </tr>\n",
              "    <tr>\n",
              "      <th>1</th>\n",
              "      <td>4</td>\n",
              "      <td>5</td>\n",
              "      <td>8</td>\n",
              "      <td>14</td>\n",
              "      <td>8</td>\n",
              "      <td>14</td>\n",
              "      <td>7</td>\n",
              "      <td>12</td>\n",
              "      <td>8</td>\n",
              "      <td>13</td>\n",
              "      <td>...</td>\n",
              "      <td>0</td>\n",
              "      <td>1</td>\n",
              "      <td>0</td>\n",
              "      <td>0</td>\n",
              "      <td>1</td>\n",
              "      <td>0</td>\n",
              "      <td>0</td>\n",
              "      <td>0</td>\n",
              "      <td>0</td>\n",
              "      <td>0</td>\n",
              "    </tr>\n",
              "    <tr>\n",
              "      <th>2</th>\n",
              "      <td>3</td>\n",
              "      <td>3</td>\n",
              "      <td>11</td>\n",
              "      <td>18</td>\n",
              "      <td>11</td>\n",
              "      <td>18</td>\n",
              "      <td>10</td>\n",
              "      <td>16</td>\n",
              "      <td>10</td>\n",
              "      <td>18</td>\n",
              "      <td>...</td>\n",
              "      <td>0</td>\n",
              "      <td>1</td>\n",
              "      <td>0</td>\n",
              "      <td>0</td>\n",
              "      <td>1</td>\n",
              "      <td>0</td>\n",
              "      <td>0</td>\n",
              "      <td>0</td>\n",
              "      <td>0</td>\n",
              "      <td>0</td>\n",
              "    </tr>\n",
              "    <tr>\n",
              "      <th>3</th>\n",
              "      <td>5</td>\n",
              "      <td>9</td>\n",
              "      <td>14</td>\n",
              "      <td>22</td>\n",
              "      <td>15</td>\n",
              "      <td>22</td>\n",
              "      <td>13</td>\n",
              "      <td>20</td>\n",
              "      <td>22</td>\n",
              "      <td>25</td>\n",
              "      <td>...</td>\n",
              "      <td>0</td>\n",
              "      <td>1</td>\n",
              "      <td>0</td>\n",
              "      <td>0</td>\n",
              "      <td>1</td>\n",
              "      <td>0</td>\n",
              "      <td>0</td>\n",
              "      <td>0</td>\n",
              "      <td>0</td>\n",
              "      <td>0</td>\n",
              "    </tr>\n",
              "    <tr>\n",
              "      <th>4</th>\n",
              "      <td>12</td>\n",
              "      <td>21</td>\n",
              "      <td>4</td>\n",
              "      <td>5</td>\n",
              "      <td>4</td>\n",
              "      <td>5</td>\n",
              "      <td>4</td>\n",
              "      <td>4</td>\n",
              "      <td>4</td>\n",
              "      <td>5</td>\n",
              "      <td>...</td>\n",
              "      <td>0</td>\n",
              "      <td>1</td>\n",
              "      <td>0</td>\n",
              "      <td>0</td>\n",
              "      <td>1</td>\n",
              "      <td>0</td>\n",
              "      <td>0</td>\n",
              "      <td>0</td>\n",
              "      <td>0</td>\n",
              "      <td>0</td>\n",
              "    </tr>\n",
              "  </tbody>\n",
              "</table>\n",
              "<p>5 rows × 595 columns</p>\n",
              "</div>\n",
              "    <div class=\"colab-df-buttons\">\n",
              "\n",
              "  <div class=\"colab-df-container\">\n",
              "    <button class=\"colab-df-convert\" onclick=\"convertToInteractive('df-b920f76e-c791-494b-a6d0-1d3a24a46991')\"\n",
              "            title=\"Convert this dataframe to an interactive table.\"\n",
              "            style=\"display:none;\">\n",
              "\n",
              "  <svg xmlns=\"http://www.w3.org/2000/svg\" height=\"24px\" viewBox=\"0 -960 960 960\">\n",
              "    <path d=\"M120-120v-720h720v720H120Zm60-500h600v-160H180v160Zm220 220h160v-160H400v160Zm0 220h160v-160H400v160ZM180-400h160v-160H180v160Zm440 0h160v-160H620v160ZM180-180h160v-160H180v160Zm440 0h160v-160H620v160Z\"/>\n",
              "  </svg>\n",
              "    </button>\n",
              "\n",
              "  <style>\n",
              "    .colab-df-container {\n",
              "      display:flex;\n",
              "      gap: 12px;\n",
              "    }\n",
              "\n",
              "    .colab-df-convert {\n",
              "      background-color: #E8F0FE;\n",
              "      border: none;\n",
              "      border-radius: 50%;\n",
              "      cursor: pointer;\n",
              "      display: none;\n",
              "      fill: #1967D2;\n",
              "      height: 32px;\n",
              "      padding: 0 0 0 0;\n",
              "      width: 32px;\n",
              "    }\n",
              "\n",
              "    .colab-df-convert:hover {\n",
              "      background-color: #E2EBFA;\n",
              "      box-shadow: 0px 1px 2px rgba(60, 64, 67, 0.3), 0px 1px 3px 1px rgba(60, 64, 67, 0.15);\n",
              "      fill: #174EA6;\n",
              "    }\n",
              "\n",
              "    .colab-df-buttons div {\n",
              "      margin-bottom: 4px;\n",
              "    }\n",
              "\n",
              "    [theme=dark] .colab-df-convert {\n",
              "      background-color: #3B4455;\n",
              "      fill: #D2E3FC;\n",
              "    }\n",
              "\n",
              "    [theme=dark] .colab-df-convert:hover {\n",
              "      background-color: #434B5C;\n",
              "      box-shadow: 0px 1px 3px 1px rgba(0, 0, 0, 0.15);\n",
              "      filter: drop-shadow(0px 1px 2px rgba(0, 0, 0, 0.3));\n",
              "      fill: #FFFFFF;\n",
              "    }\n",
              "  </style>\n",
              "\n",
              "    <script>\n",
              "      const buttonEl =\n",
              "        document.querySelector('#df-b920f76e-c791-494b-a6d0-1d3a24a46991 button.colab-df-convert');\n",
              "      buttonEl.style.display =\n",
              "        google.colab.kernel.accessAllowed ? 'block' : 'none';\n",
              "\n",
              "      async function convertToInteractive(key) {\n",
              "        const element = document.querySelector('#df-b920f76e-c791-494b-a6d0-1d3a24a46991');\n",
              "        const dataTable =\n",
              "          await google.colab.kernel.invokeFunction('convertToInteractive',\n",
              "                                                    [key], {});\n",
              "        if (!dataTable) return;\n",
              "\n",
              "        const docLinkHtml = 'Like what you see? Visit the ' +\n",
              "          '<a target=\"_blank\" href=https://colab.research.google.com/notebooks/data_table.ipynb>data table notebook</a>'\n",
              "          + ' to learn more about interactive tables.';\n",
              "        element.innerHTML = '';\n",
              "        dataTable['output_type'] = 'display_data';\n",
              "        await google.colab.output.renderOutput(dataTable, element);\n",
              "        const docLink = document.createElement('div');\n",
              "        docLink.innerHTML = docLinkHtml;\n",
              "        element.appendChild(docLink);\n",
              "      }\n",
              "    </script>\n",
              "  </div>\n",
              "\n",
              "\n",
              "<div id=\"df-5c25255e-0f5a-44a6-be98-45e4251edde2\">\n",
              "  <button class=\"colab-df-quickchart\" onclick=\"quickchart('df-5c25255e-0f5a-44a6-be98-45e4251edde2')\"\n",
              "            title=\"Suggest charts\"\n",
              "            style=\"display:none;\">\n",
              "\n",
              "<svg xmlns=\"http://www.w3.org/2000/svg\" height=\"24px\"viewBox=\"0 0 24 24\"\n",
              "     width=\"24px\">\n",
              "    <g>\n",
              "        <path d=\"M19 3H5c-1.1 0-2 .9-2 2v14c0 1.1.9 2 2 2h14c1.1 0 2-.9 2-2V5c0-1.1-.9-2-2-2zM9 17H7v-7h2v7zm4 0h-2V7h2v10zm4 0h-2v-4h2v4z\"/>\n",
              "    </g>\n",
              "</svg>\n",
              "  </button>\n",
              "\n",
              "<style>\n",
              "  .colab-df-quickchart {\n",
              "      --bg-color: #E8F0FE;\n",
              "      --fill-color: #1967D2;\n",
              "      --hover-bg-color: #E2EBFA;\n",
              "      --hover-fill-color: #174EA6;\n",
              "      --disabled-fill-color: #AAA;\n",
              "      --disabled-bg-color: #DDD;\n",
              "  }\n",
              "\n",
              "  [theme=dark] .colab-df-quickchart {\n",
              "      --bg-color: #3B4455;\n",
              "      --fill-color: #D2E3FC;\n",
              "      --hover-bg-color: #434B5C;\n",
              "      --hover-fill-color: #FFFFFF;\n",
              "      --disabled-bg-color: #3B4455;\n",
              "      --disabled-fill-color: #666;\n",
              "  }\n",
              "\n",
              "  .colab-df-quickchart {\n",
              "    background-color: var(--bg-color);\n",
              "    border: none;\n",
              "    border-radius: 50%;\n",
              "    cursor: pointer;\n",
              "    display: none;\n",
              "    fill: var(--fill-color);\n",
              "    height: 32px;\n",
              "    padding: 0;\n",
              "    width: 32px;\n",
              "  }\n",
              "\n",
              "  .colab-df-quickchart:hover {\n",
              "    background-color: var(--hover-bg-color);\n",
              "    box-shadow: 0 1px 2px rgba(60, 64, 67, 0.3), 0 1px 3px 1px rgba(60, 64, 67, 0.15);\n",
              "    fill: var(--button-hover-fill-color);\n",
              "  }\n",
              "\n",
              "  .colab-df-quickchart-complete:disabled,\n",
              "  .colab-df-quickchart-complete:disabled:hover {\n",
              "    background-color: var(--disabled-bg-color);\n",
              "    fill: var(--disabled-fill-color);\n",
              "    box-shadow: none;\n",
              "  }\n",
              "\n",
              "  .colab-df-spinner {\n",
              "    border: 2px solid var(--fill-color);\n",
              "    border-color: transparent;\n",
              "    border-bottom-color: var(--fill-color);\n",
              "    animation:\n",
              "      spin 1s steps(1) infinite;\n",
              "  }\n",
              "\n",
              "  @keyframes spin {\n",
              "    0% {\n",
              "      border-color: transparent;\n",
              "      border-bottom-color: var(--fill-color);\n",
              "      border-left-color: var(--fill-color);\n",
              "    }\n",
              "    20% {\n",
              "      border-color: transparent;\n",
              "      border-left-color: var(--fill-color);\n",
              "      border-top-color: var(--fill-color);\n",
              "    }\n",
              "    30% {\n",
              "      border-color: transparent;\n",
              "      border-left-color: var(--fill-color);\n",
              "      border-top-color: var(--fill-color);\n",
              "      border-right-color: var(--fill-color);\n",
              "    }\n",
              "    40% {\n",
              "      border-color: transparent;\n",
              "      border-right-color: var(--fill-color);\n",
              "      border-top-color: var(--fill-color);\n",
              "    }\n",
              "    60% {\n",
              "      border-color: transparent;\n",
              "      border-right-color: var(--fill-color);\n",
              "    }\n",
              "    80% {\n",
              "      border-color: transparent;\n",
              "      border-right-color: var(--fill-color);\n",
              "      border-bottom-color: var(--fill-color);\n",
              "    }\n",
              "    90% {\n",
              "      border-color: transparent;\n",
              "      border-bottom-color: var(--fill-color);\n",
              "    }\n",
              "  }\n",
              "</style>\n",
              "\n",
              "  <script>\n",
              "    async function quickchart(key) {\n",
              "      const quickchartButtonEl =\n",
              "        document.querySelector('#' + key + ' button');\n",
              "      quickchartButtonEl.disabled = true;  // To prevent multiple clicks.\n",
              "      quickchartButtonEl.classList.add('colab-df-spinner');\n",
              "      try {\n",
              "        const charts = await google.colab.kernel.invokeFunction(\n",
              "            'suggestCharts', [key], {});\n",
              "      } catch (error) {\n",
              "        console.error('Error during call to suggestCharts:', error);\n",
              "      }\n",
              "      quickchartButtonEl.classList.remove('colab-df-spinner');\n",
              "      quickchartButtonEl.classList.add('colab-df-quickchart-complete');\n",
              "    }\n",
              "    (() => {\n",
              "      let quickchartButtonEl =\n",
              "        document.querySelector('#df-5c25255e-0f5a-44a6-be98-45e4251edde2 button');\n",
              "      quickchartButtonEl.style.display =\n",
              "        google.colab.kernel.accessAllowed ? 'block' : 'none';\n",
              "    })();\n",
              "  </script>\n",
              "</div>\n",
              "    </div>\n",
              "  </div>\n"
            ]
          },
          "metadata": {},
          "execution_count": 8
        }
      ],
      "source": [
        "testData.head()"
      ]
    },
    {
      "cell_type": "code",
      "execution_count": null,
      "metadata": {
        "colab": {
          "base_uri": "https://localhost:8080/"
        },
        "id": "NyUM8cMbZPc3",
        "outputId": "fab39acd-2e8b-4a08-cb3d-502a62c739dd"
      },
      "outputs": [
        {
          "output_type": "stream",
          "name": "stdout",
          "text": [
            "CoverageField11A        0\n",
            "CoverageField11B        0\n",
            "CoverageField1A         0\n",
            "CoverageField1B         0\n",
            "CoverageField2A         0\n",
            "                       ..\n",
            "GeographicField64_CA    0\n",
            "GeographicField64_IL    0\n",
            "GeographicField64_NJ    0\n",
            "GeographicField64_TX    0\n",
            "QuoteConversion_Flag    0\n",
            "Length: 596, dtype: int64\n",
            "CoverageField11A        0\n",
            "CoverageField11B        0\n",
            "CoverageField1A         0\n",
            "CoverageField1B         0\n",
            "CoverageField2A         0\n",
            "                       ..\n",
            "GeographicField63_Y     0\n",
            "GeographicField64_CA    0\n",
            "GeographicField64_IL    0\n",
            "GeographicField64_NJ    0\n",
            "GeographicField64_TX    0\n",
            "Length: 595, dtype: int64\n"
          ]
        }
      ],
      "source": [
        "print(trainData.isnull().sum())\n",
        "print(testData.isnull().sum())"
      ]
    },
    {
      "cell_type": "code",
      "execution_count": null,
      "metadata": {
        "colab": {
          "base_uri": "https://localhost:8080/"
        },
        "id": "j2hWUK9pZVZ4",
        "outputId": "3dc88ecf-4d37-4ba2-95fe-255123f6ad86"
      },
      "outputs": [
        {
          "output_type": "stream",
          "name": "stdout",
          "text": [
            "0    52738\n",
            "1    12262\n",
            "Name: QuoteConversion_Flag, dtype: int64\n"
          ]
        }
      ],
      "source": [
        "# Split dataset\n",
        "Xtrain = trainData.drop(\"QuoteConversion_Flag\", axis=1)\n",
        "Ytrain = trainData[\"QuoteConversion_Flag\"]\n",
        "print(Ytrain.value_counts())\n",
        "X_train, X_test, Y_train, Y_test = train_test_split(Xtrain, Ytrain, test_size = .20, random_state = 7)\n"
      ]
    },
    {
      "cell_type": "code",
      "execution_count": null,
      "metadata": {
        "colab": {
          "base_uri": "https://localhost:8080/"
        },
        "id": "OEEVvNCWfsQH",
        "outputId": "077107c5-a5b8-4c58-9bb0-94f88fca4917"
      },
      "outputs": [
        {
          "output_type": "stream",
          "name": "stdout",
          "text": [
            "1    42135\n",
            "0    42135\n",
            "Name: QuoteConversion_Flag, dtype: int64\n"
          ]
        }
      ],
      "source": [
        "smote = SMOTE(sampling_strategy = 1)\n",
        "x_res, y_res = smote.fit_resample(X_train, Y_train)\n",
        "print(y_res.value_counts())"
      ]
    },
    {
      "cell_type": "code",
      "execution_count": null,
      "metadata": {
        "colab": {
          "base_uri": "https://localhost:8080/"
        },
        "id": "AmdjtNlYhCyy",
        "outputId": "c1e86170-0bb1-4e7e-8908-ca7005558289"
      },
      "outputs": [
        {
          "output_type": "stream",
          "name": "stdout",
          "text": [
            "Accuracy: 0.8760769230769231\n",
            "Precision: 0.653876272513704\n",
            "Recall: 0.6967042136003337\n",
            "F1 Score: 0.6746111896586547\n",
            "ROC-AUC Score: 0.8066657916063539\n",
            "Confusion Matrix:\n",
            " [[9719  884]\n",
            " [ 727 1670]]\n"
          ]
        }
      ],
      "source": [
        "dt = DecisionTreeClassifier(random_state = 7)\n",
        "dt.fit(x_res, y_res)\n",
        "dt_pred = dt.predict(X_test)\n",
        "#Model Accuracy\n",
        "print(\"Accuracy:\", accuracy_score(Y_test, dt_pred))\n",
        "print(\"Precision:\", precision_score(Y_test, dt_pred))\n",
        "print(\"Recall:\", recall_score(Y_test, dt_pred))\n",
        "print(\"F1 Score:\", f1_score(Y_test, dt_pred))\n",
        "print(\"ROC-AUC Score:\", roc_auc_score(Y_test, dt_pred))\n",
        "print(\"Confusion Matrix:\\n\", confusion_matrix(Y_test, dt_pred))"
      ]
    },
    {
      "cell_type": "code",
      "execution_count": null,
      "metadata": {
        "colab": {
          "base_uri": "https://localhost:8080/"
        },
        "id": "7bqdJJxEl-L9",
        "outputId": "759007ed-0033-42a7-94cc-1c417e814fbe"
      },
      "outputs": [
        {
          "output_type": "stream",
          "name": "stdout",
          "text": [
            "Accuracy: 0.901\n",
            "Precision: 0.7911857292759706\n",
            "Recall: 0.6291197329995828\n",
            "F1 Score: 0.7009063444108762\n",
            "ROC-AUC Score: 0.7957915933695452\n",
            "Confusion Matrix:\n",
            " [[10205   398]\n",
            " [  889  1508]]\n"
          ]
        }
      ],
      "source": [
        "rf = RandomForestClassifier(random_state = 7, n_jobs = -1)\n",
        "rf.fit(x_res, y_res)\n",
        "rf_pred = rf.predict(X_test)\n",
        "#Model Accuracy\n",
        "print(\"Accuracy:\", accuracy_score(Y_test, rf_pred))\n",
        "print(\"Precision:\", precision_score(Y_test, rf_pred))\n",
        "print(\"Recall:\", recall_score(Y_test, rf_pred))\n",
        "print(\"F1 Score:\", f1_score(Y_test, rf_pred))\n",
        "print(\"ROC-AUC Score:\", roc_auc_score(Y_test, rf_pred))\n",
        "print(\"Confusion Matrix:\\n\", confusion_matrix(Y_test, rf_pred))"
      ]
    },
    {
      "cell_type": "code",
      "execution_count": null,
      "metadata": {
        "colab": {
          "base_uri": "https://localhost:8080/"
        },
        "id": "7hC3gK67nqtP",
        "outputId": "b3b2318c-95e1-4fce-fbf9-a58a02115192"
      },
      "outputs": [
        {
          "output_type": "stream",
          "name": "stdout",
          "text": [
            "0    42135\n",
            "1    31601\n",
            "Name: QuoteConversion_Flag, dtype: int64\n"
          ]
        }
      ],
      "source": [
        "smote = SMOTE(sampling_strategy = 0.75)\n",
        "x_res1, y_res1 = smote.fit_resample(X_train, Y_train)\n",
        "print(y_res1.value_counts())"
      ]
    },
    {
      "cell_type": "code",
      "execution_count": null,
      "metadata": {
        "colab": {
          "base_uri": "https://localhost:8080/"
        },
        "id": "0_MSq5AEn6q2",
        "outputId": "80c933b1-634d-46e0-de10-acf945f17729"
      },
      "outputs": [
        {
          "output_type": "stream",
          "name": "stdout",
          "text": [
            "Accuracy: 0.8773076923076923\n",
            "Precision: 0.6539938556067588\n",
            "Recall: 0.7104714226115978\n",
            "F1 Score: 0.6810637872425515\n",
            "ROC-AUC Score: 0.8127477362044124\n",
            "Confusion Matrix:\n",
            " [[9702  901]\n",
            " [ 694 1703]]\n"
          ]
        }
      ],
      "source": [
        "dt = DecisionTreeClassifier(random_state = 7)\n",
        "dt.fit(x_res1, y_res1)\n",
        "dt_pred = dt.predict(X_test)\n",
        "#Model Accuracy\n",
        "print(\"Accuracy:\", accuracy_score(Y_test, dt_pred))\n",
        "print(\"Precision:\", precision_score(Y_test, dt_pred))\n",
        "print(\"Recall:\", recall_score(Y_test, dt_pred))\n",
        "print(\"F1 Score:\", f1_score(Y_test, dt_pred))\n",
        "print(\"ROC-AUC Score:\", roc_auc_score(Y_test, dt_pred))\n",
        "print(\"Confusion Matrix:\\n\", confusion_matrix(Y_test, dt_pred))"
      ]
    },
    {
      "cell_type": "code",
      "execution_count": null,
      "metadata": {
        "colab": {
          "base_uri": "https://localhost:8080/"
        },
        "id": "j2-flL7jn8iW",
        "outputId": "b885cff6-edb7-42ca-a28f-c2b431ed4e68"
      },
      "outputs": [
        {
          "output_type": "stream",
          "name": "stdout",
          "text": [
            "Accuracy: 0.9016923076923077\n",
            "Precision: 0.8072487644151565\n",
            "Recall: 0.6132665832290363\n",
            "F1 Score: 0.6970128022759602\n",
            "ROC-AUC Score: 0.7900813723463864\n",
            "Confusion Matrix:\n",
            " [[10252   351]\n",
            " [  927  1470]]\n"
          ]
        }
      ],
      "source": [
        "rf = RandomForestClassifier(random_state = 7, n_jobs = -1)\n",
        "rf.fit(x_res1, y_res1)\n",
        "rf_pred = rf.predict(X_test)\n",
        "#Model Accuracy\n",
        "print(\"Accuracy:\", accuracy_score(Y_test, rf_pred))\n",
        "print(\"Precision:\", precision_score(Y_test, rf_pred))\n",
        "print(\"Recall:\", recall_score(Y_test, rf_pred))\n",
        "print(\"F1 Score:\", f1_score(Y_test, rf_pred))\n",
        "print(\"ROC-AUC Score:\", roc_auc_score(Y_test, rf_pred))\n",
        "print(\"Confusion Matrix:\\n\", confusion_matrix(Y_test, rf_pred))"
      ]
    },
    {
      "cell_type": "code",
      "execution_count": null,
      "metadata": {
        "colab": {
          "base_uri": "https://localhost:8080/"
        },
        "id": "F_BMhV5Pfkjm",
        "outputId": "89a3f2d6-0829-4789-b8e2-75da1462286d"
      },
      "outputs": [
        {
          "output_type": "stream",
          "name": "stdout",
          "text": [
            "Accuracy: 0.6216153846153846\n",
            "Precision: 0.20426829268292682\n",
            "Recall: 0.36337088026700043\n",
            "F1 Score: 0.2615222939498574\n",
            "ROC-AUC Score: 0.5216835538748942\n",
            "Confusion Matrix:\n",
            " [[7210 3393]\n",
            " [1526  871]]\n"
          ]
        }
      ],
      "source": [
        "knn = KNeighborsClassifier(n_jobs = -1)\n",
        "knn.fit(x_res1, y_res1)\n",
        "knn_pred = knn.predict(X_test)\n",
        "#Model Accuracy\n",
        "print(\"Accuracy:\", accuracy_score(Y_test, knn_pred))\n",
        "print(\"Precision:\", precision_score(Y_test, knn_pred))\n",
        "print(\"Recall:\", recall_score(Y_test, knn_pred))\n",
        "print(\"F1 Score:\", f1_score(Y_test, knn_pred))\n",
        "print(\"ROC-AUC Score:\", roc_auc_score(Y_test, knn_pred))\n",
        "print(\"Confusion Matrix:\\n\", confusion_matrix(Y_test, knn_pred))"
      ]
    },
    {
      "cell_type": "code",
      "execution_count": null,
      "metadata": {
        "colab": {
          "base_uri": "https://localhost:8080/"
        },
        "id": "hh9_ivC1idIg",
        "outputId": "d06ec82e-744d-4983-c46c-3dafea46c46d"
      },
      "outputs": [
        {
          "output_type": "stream",
          "name": "stdout",
          "text": [
            "Accuracy: 0.35215384615384615\n",
            "Precision: 0.211197392388074\n",
            "Recall: 0.9190654985398414\n",
            "F1 Score: 0.34346741502962264\n",
            "ROC-AUC Score: 0.5715293540044298\n",
            "Confusion Matrix:\n",
            " [[2375 8228]\n",
            " [ 194 2203]]\n"
          ]
        },
        {
          "output_type": "stream",
          "name": "stderr",
          "text": [
            "/usr/local/lib/python3.10/dist-packages/sklearn/svm/_base.py:1244: ConvergenceWarning: Liblinear failed to converge, increase the number of iterations.\n",
            "  warnings.warn(\n"
          ]
        }
      ],
      "source": [
        "svc = LinearSVC()\n",
        "svc.fit(x_res1, y_res1)\n",
        "svc_pred = svc.predict(X_test)\n",
        "\n",
        "# Model Accuracy\n",
        "print(\"Accuracy:\", accuracy_score(Y_test, svc_pred))\n",
        "print(\"Precision:\", precision_score(Y_test, svc_pred))\n",
        "print(\"Recall:\", recall_score(Y_test, svc_pred))\n",
        "print(\"F1 Score:\", f1_score(Y_test, svc_pred))\n",
        "print(\"ROC-AUC Score:\", roc_auc_score(Y_test, svc_pred))\n",
        "print(\"Confusion Matrix:\\n\", confusion_matrix(Y_test, svc_pred))"
      ]
    },
    {
      "cell_type": "code",
      "execution_count": null,
      "metadata": {
        "colab": {
          "base_uri": "https://localhost:8080/"
        },
        "id": "vhX79z-3jl-j",
        "outputId": "fc73b6da-5f68-4849-df83-73a53835b67a"
      },
      "outputs": [
        {
          "output_type": "stream",
          "name": "stdout",
          "text": [
            "Accuracy: 0.815076923076923\n",
            "Precision: 0.4988792827409542\n",
            "Recall: 0.6499791405924071\n",
            "F1 Score: 0.5644927536231884\n",
            "ROC-AUC Score: 0.7511897023343059\n",
            "Confusion Matrix:\n",
            " [[9038 1565]\n",
            " [ 839 1558]]\n"
          ]
        }
      ],
      "source": [
        "mlp = MLPClassifier()\n",
        "\n",
        "# Fit the model on the training data\n",
        "mlp.fit(x_res1, y_res1)\n",
        "\n",
        "# Predict on the test data\n",
        "mlp_pred = mlp.predict(X_test)\n",
        "\n",
        "# Model Accuracy\n",
        "print(\"Accuracy:\", accuracy_score(Y_test, mlp_pred))\n",
        "print(\"Precision:\", precision_score(Y_test, mlp_pred))\n",
        "print(\"Recall:\", recall_score(Y_test, mlp_pred))\n",
        "print(\"F1 Score:\", f1_score(Y_test, mlp_pred))\n",
        "print(\"ROC-AUC Score:\", roc_auc_score(Y_test, mlp_pred))\n",
        "print(\"Confusion Matrix:\\n\", confusion_matrix(Y_test, mlp_pred))"
      ]
    },
    {
      "cell_type": "code",
      "execution_count": null,
      "metadata": {
        "colab": {
          "base_uri": "https://localhost:8080/"
        },
        "id": "gwpbBG4skLu3",
        "outputId": "3d75976a-6b48-4a3f-8a09-3ef1c7109417"
      },
      "outputs": [
        {
          "output_type": "stream",
          "name": "stdout",
          "text": [
            "Accuracy: 0.9198461538461539\n",
            "Precision: 0.8426909458775923\n",
            "Recall: 0.6950354609929078\n",
            "F1 Score: 0.761774119798811\n",
            "ROC-AUC Score: 0.8328520698343771\n",
            "Confusion Matrix:\n",
            " [[10292   311]\n",
            " [  731  1666]]\n"
          ]
        }
      ],
      "source": [
        "gbc = GradientBoostingClassifier()\n",
        "\n",
        "# Fit the model on the training data\n",
        "gbc.fit(x_res1, y_res1)\n",
        "\n",
        "# Predict on the test data\n",
        "gbc_pred = gbc.predict(X_test)\n",
        "\n",
        "# Model Accuracy\n",
        "print(\"Accuracy:\", accuracy_score(Y_test, gbc_pred))\n",
        "print(\"Precision:\", precision_score(Y_test, gbc_pred))\n",
        "print(\"Recall:\", recall_score(Y_test, gbc_pred))\n",
        "print(\"F1 Score:\", f1_score(Y_test, gbc_pred))\n",
        "print(\"ROC-AUC Score:\", roc_auc_score(Y_test, gbc_pred))\n",
        "print(\"Confusion Matrix:\\n\", confusion_matrix(Y_test, gbc_pred))"
      ]
    },
    {
      "cell_type": "code",
      "execution_count": null,
      "metadata": {
        "colab": {
          "base_uri": "https://localhost:8080/"
        },
        "id": "P4oI2Hfqw2Bu",
        "outputId": "88ec0157-f86c-4d4b-9e32-23629e08299a"
      },
      "outputs": [
        {
          "output_type": "stream",
          "name": "stdout",
          "text": [
            "task:         [classification]\n",
            "n_classes:    [2]\n",
            "metric:       [roc_auc_score]\n",
            "mode:         [oof_pred_bag]\n",
            "n_models:     [5]\n",
            "\n",
            "model  0:     [MLPClassifier]\n",
            "    fold  0:  [0.87682674]\n",
            "    fold  1:  [0.87243666]\n",
            "    fold  2:  [0.82224946]\n",
            "    ----\n",
            "    MEAN:     [0.85717095] + [0.02475818]\n",
            "    FULL:     [0.85717235]\n",
            "\n",
            "model  1:     [GradientBoostingClassifier]\n",
            "    fold  0:  [0.93487718]\n",
            "    fold  1:  [0.93704875]\n",
            "    fold  2:  [0.93341284]\n",
            "    ----\n",
            "    MEAN:     [0.93511292] + [0.00149368]\n",
            "    FULL:     [0.93511293]\n",
            "\n",
            "model  2:     [RandomForestClassifier]\n",
            "    fold  0:  [0.92681985]\n",
            "    fold  1:  [0.92680799]\n",
            "    fold  2:  [0.92393101]\n",
            "    ----\n",
            "    MEAN:     [0.92585295] + [0.00135902]\n",
            "    FULL:     [0.92585297]\n",
            "\n",
            "model  3:     [DecisionTreeClassifier]\n",
            "    fold  0:  [0.90594639]\n",
            "    fold  1:  [0.90706186]\n",
            "    fold  2:  [0.90543116]\n",
            "    ----\n",
            "    MEAN:     [0.90614647] + [0.00068060]\n",
            "    FULL:     [0.90614650]\n",
            "\n",
            "model  4:     [LinearSVC]\n"
          ]
        },
        {
          "output_type": "stream",
          "name": "stderr",
          "text": [
            "/usr/local/lib/python3.10/dist-packages/sklearn/svm/_base.py:1244: ConvergenceWarning: Liblinear failed to converge, increase the number of iterations.\n",
            "  warnings.warn(\n"
          ]
        },
        {
          "output_type": "stream",
          "name": "stdout",
          "text": [
            "    fold  0:  [0.58547238]\n"
          ]
        },
        {
          "output_type": "stream",
          "name": "stderr",
          "text": [
            "/usr/local/lib/python3.10/dist-packages/sklearn/svm/_base.py:1244: ConvergenceWarning: Liblinear failed to converge, increase the number of iterations.\n",
            "  warnings.warn(\n"
          ]
        },
        {
          "output_type": "stream",
          "name": "stdout",
          "text": [
            "    fold  1:  [0.66981245]\n"
          ]
        },
        {
          "output_type": "stream",
          "name": "stderr",
          "text": [
            "/usr/local/lib/python3.10/dist-packages/sklearn/svm/_base.py:1244: ConvergenceWarning: Liblinear failed to converge, increase the number of iterations.\n",
            "  warnings.warn(\n"
          ]
        },
        {
          "output_type": "stream",
          "name": "stdout",
          "text": [
            "    fold  2:  [0.66771942]\n",
            "    ----\n",
            "    MEAN:     [0.64100141] + [0.03927426]\n",
            "    FULL:     [0.64100144]\n",
            "\n"
          ]
        }
      ],
      "source": [
        "models = [ MLPClassifier(), GradientBoostingClassifier(), RandomForestClassifier(n_jobs = -1), DecisionTreeClassifier(), LinearSVC()]\n",
        "\n",
        "S_Train, S_Test = stacking(models,\n",
        "                           x_res1, y_res1, X_test,\n",
        "                           regression=False,\n",
        "\n",
        "                           mode='oof_pred_bag',\n",
        "\n",
        "                           needs_proba=False,\n",
        "\n",
        "                           save_dir=None,\n",
        "\n",
        "                           metric=roc_auc_score,\n",
        "\n",
        "                           n_folds=3,\n",
        "\n",
        "                           stratified=True,\n",
        "\n",
        "                           shuffle=True,\n",
        "\n",
        "                           random_state=7,\n",
        "\n",
        "                           verbose=2)\n"
      ]
    },
    {
      "cell_type": "code",
      "execution_count": null,
      "metadata": {
        "colab": {
          "base_uri": "https://localhost:8080/"
        },
        "id": "nzSXuXH-yE4t",
        "outputId": "b6fd944a-758c-47fa-b3ee-255adbd49977"
      },
      "outputs": [
        {
          "output_type": "stream",
          "name": "stdout",
          "text": [
            "Final prediction score for ensemble methods: [0.83696235]\n"
          ]
        }
      ],
      "source": [
        "model = MLPClassifier()\n",
        "\n",
        "model = model.fit(S_Train, y_res1)\n",
        "y_pred = model.predict(S_Test)\n",
        "print('Final prediction score for ensemble methods: [%.8f]' % roc_auc_score(Y_test, y_pred))\n"
      ]
    },
    {
      "cell_type": "code",
      "source": [
        "param_grid_meta = {\n",
        "    'hidden_layer_sizes': [(50,50,50), (50,100,50), (100,)],\n",
        "    'activation': ['tanh', 'relu'],\n",
        "    'learning_rate': ['constant','adaptive'],\n",
        "}\n",
        "\n",
        "\n",
        "CV_mlp = GridSearchCV(estimator=model, param_grid=param_grid_meta, cv=5,n_jobs =-1, verbose = 1)\n",
        "CV_mlp.fit(S_Train, y_res1)\n",
        "print(CV_mlp.best_params_)\n"
      ],
      "metadata": {
        "colab": {
          "base_uri": "https://localhost:8080/"
        },
        "id": "8EFUAHmk0QRi",
        "outputId": "7fa99734-9b86-493e-b95b-b28fe5559bae"
      },
      "execution_count": null,
      "outputs": [
        {
          "output_type": "stream",
          "name": "stdout",
          "text": [
            "Fitting 5 folds for each of 12 candidates, totalling 60 fits\n",
            "{'activation': 'tanh', 'hidden_layer_sizes': (50, 50, 50), 'learning_rate': 'adaptive'}\n"
          ]
        }
      ]
    },
    {
      "cell_type": "code",
      "source": [
        "final_model = MLPClassifier(**CV_mlp.best_params_)\n",
        "final_model.fit(S_Train, y_res1)\n",
        "final_y_pred = final_model.predict(S_Test)\n",
        "print('Final model score: [%.8f]' % roc_auc_score(Y_test, final_y_pred))\n"
      ],
      "metadata": {
        "id": "pRIomHme0ygC",
        "colab": {
          "base_uri": "https://localhost:8080/"
        },
        "outputId": "49126ad0-a8bd-4fe9-8ae6-81672c93f69a"
      },
      "execution_count": null,
      "outputs": [
        {
          "output_type": "stream",
          "name": "stdout",
          "text": [
            "Final model score: [0.83195779]\n"
          ]
        }
      ]
    },
    {
      "cell_type": "code",
      "source": [
        "print(S_Train.shape)\n",
        "print(S_Test.shape)"
      ],
      "metadata": {
        "colab": {
          "base_uri": "https://localhost:8080/"
        },
        "id": "cZAsJyoFbvpe",
        "outputId": "a99d0168-062d-46e4-b098-5f99072352c0"
      },
      "execution_count": null,
      "outputs": [
        {
          "output_type": "stream",
          "name": "stdout",
          "text": [
            "(73736, 5)\n",
            "(13000, 5)\n"
          ]
        }
      ]
    },
    {
      "cell_type": "code",
      "execution_count": null,
      "metadata": {
        "id": "0XdpzP5lxkel",
        "colab": {
          "base_uri": "https://localhost:8080/"
        },
        "outputId": "6b578c9c-09a1-4f31-d9ef-651da75fcc72"
      },
      "outputs": [
        {
          "output_type": "stream",
          "name": "stdout",
          "text": [
            "task:         [classification]\n",
            "n_classes:    [2]\n",
            "metric:       [roc_auc_score]\n",
            "mode:         [oof_pred_bag]\n",
            "n_models:     [4]\n",
            "\n",
            "model  0:     [MLPClassifier]\n",
            "    fold  0:  [0.83757327]\n",
            "    fold  1:  [0.74833314]\n",
            "    fold  2:  [0.87088334]\n",
            "    ----\n",
            "    MEAN:     [0.81892992] + [0.05173857]\n",
            "    FULL:     [0.81893048]\n",
            "\n",
            "model  1:     [GradientBoostingClassifier]\n",
            "    fold  0:  [0.93513824]\n",
            "    fold  1:  [0.93701315]\n",
            "    fold  2:  [0.93395861]\n",
            "    ----\n",
            "    MEAN:     [0.93537000] + [0.00125773]\n",
            "    FULL:     [0.93537004]\n",
            "\n",
            "model  2:     [RandomForestClassifier]\n",
            "    fold  0:  [0.92817261]\n",
            "    fold  1:  [0.92464831]\n",
            "    fold  2:  [0.92428688]\n",
            "    ----\n",
            "    MEAN:     [0.92570260] + [0.00175278]\n",
            "    FULL:     [0.92570266]\n",
            "\n",
            "model  3:     [DecisionTreeClassifier]\n",
            "    fold  0:  [0.90634983]\n",
            "    fold  1:  [0.90625498]\n",
            "    fold  2:  [0.90588220]\n",
            "    ----\n",
            "    MEAN:     [0.90616234] + [0.00020184]\n",
            "    FULL:     [0.90616232]\n",
            "\n"
          ]
        }
      ],
      "source": [
        "models = [ MLPClassifier(), GradientBoostingClassifier(), RandomForestClassifier(n_jobs = -1), DecisionTreeClassifier() ]\n",
        "\n",
        "S_Train, S_Test = stacking(models,\n",
        "                           x_res1, y_res1, testData,\n",
        "                           regression=False,\n",
        "\n",
        "                           mode='oof_pred_bag',\n",
        "\n",
        "                           needs_proba=False,\n",
        "\n",
        "                           save_dir=None,\n",
        "\n",
        "                           metric=roc_auc_score,\n",
        "\n",
        "                           n_folds=3,\n",
        "\n",
        "                           stratified=True,\n",
        "\n",
        "                           shuffle=True,\n",
        "\n",
        "                           random_state=7,\n",
        "\n",
        "                           verbose=2)\n"
      ]
    },
    {
      "cell_type": "code",
      "execution_count": null,
      "metadata": {
        "id": "MFRQEvnRxltf"
      },
      "outputs": [],
      "source": [
        "model = MLPClassifier()\n",
        "\n",
        "model = model.fit(S_Train, y_res1)\n",
        "y_pred = model.predict(S_Test)\n",
        "\n",
        "quote_numbers = testData['QuoteNumber']\n",
        "\n",
        "# Create a DataFrame with the QuoteNumber and your model predictions\n",
        "result_df = pd.DataFrame({\n",
        "    'QuoteNumber': quote_numbers,\n",
        "    'QuoteConversion_Flag': y_pred\n",
        "})\n",
        "\n",
        "# Save the DataFrame to a CSV file\n",
        "result_df.to_csv('predictions.csv', index=False)\n"
      ]
    },
    {
      "cell_type": "code",
      "source": [
        "param_grid_meta = {\n",
        "    'hidden_layer_sizes': [(50,50,50), (50,100,50), (100,)],\n",
        "    'activation': ['tanh', 'relu'],\n",
        "    'solver': ['sgd', 'adam'],\n",
        "    'alpha': [0.0001, 0.05],\n",
        "    'learning_rate': ['constant','adaptive'],\n",
        "}\n",
        "\n",
        "random_search = RandomizedSearchCV(estimator=model, param_distributions=param_grid_meta,\n",
        "                                   n_iter=15, cv=5, random_state=42)\n",
        "\n",
        "random_search.fit(S_Train, y_res1)\n",
        "print(random_search.best_params_)\n",
        "best_param = random_search.best_params_\n",
        "#CV_mlp = GridSearchCV(estimator=model, param_grid=param_grid_meta, cv=5,n_jobs =-1, verbose = 1)\n",
        "#CV_mlp.fit(S_Train, y_res1)\n",
        "#print(CV_mlp.best_params_)\n",
        "\n",
        "final_model = MLPClassifier(**best_param)\n",
        "final_model.fit(S_Train, y_res1)\n",
        "final_y_pred = final_model.predict(S_Test)\n",
        "\n",
        "# Create a DataFrame with the QuoteNumber and your model predictions\n",
        "result_df = pd.DataFrame({\n",
        "    'QuoteNumber': quote_numbers,\n",
        "    'QuoteConversion_Flag': y_pred\n",
        "})\n",
        "\n",
        "# Save the DataFrame to a CSV file\n",
        "result_df.to_csv('predictions1.csv', index=False)\n"
      ],
      "metadata": {
        "id": "YBTjgvXFCHEp",
        "colab": {
          "base_uri": "https://localhost:8080/"
        },
        "outputId": "5e458f1b-1c5e-499b-f718-29ca57e25afd"
      },
      "execution_count": null,
      "outputs": [
        {
          "output_type": "stream",
          "name": "stdout",
          "text": [
            "{'solver': 'sgd', 'learning_rate': 'constant', 'hidden_layer_sizes': (50, 50, 50), 'alpha': 0.05, 'activation': 'tanh'}\n"
          ]
        }
      ]
    },
    {
      "cell_type": "code",
      "source": [
        "grid_param = {'solver': 'sgd', 'learning_rate': 'constant', 'hidden_layer_sizes': (50, 50, 50), 'alpha': 0.05, 'activation': 'tanh'}\n",
        "\n",
        "\n",
        "final_model = MLPClassifier(**grid_param)\n",
        "final_model.fit(S_Train, y_res1)\n",
        "final_y_pred = final_model.predict(S_Test)\n",
        "\n",
        "# Create a DataFrame with the QuoteNumber and your model predictions\n",
        "result_df = pd.DataFrame({\n",
        "    'QuoteNumber': quote_numbers,\n",
        "    'QuoteConversion_Flag': y_pred\n",
        "})\n",
        "\n",
        "# Save the DataFrame to a CSV file\n",
        "result_df.to_csv('predictions2.csv', index=False)"
      ],
      "metadata": {
        "id": "wWNZM532coXd"
      },
      "execution_count": null,
      "outputs": []
    },
    {
      "cell_type": "markdown",
      "source": [
        "![image.png](data:image/png;base64,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)"
      ],
      "metadata": {
        "id": "cRKuC3H8wGvz"
      }
    }
  ],
  "metadata": {
    "colab": {
      "provenance": []
    },
    "kernelspec": {
      "display_name": "Python 3",
      "name": "python3"
    },
    "language_info": {
      "name": "python"
    }
  },
  "nbformat": 4,
  "nbformat_minor": 0
}
