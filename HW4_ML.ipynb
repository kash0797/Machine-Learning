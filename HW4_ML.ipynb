{
  "nbformat": 4,
  "nbformat_minor": 0,
  "metadata": {
    "colab": {
      "provenance": []
    },
    "kernelspec": {
      "name": "python3",
      "display_name": "Python 3"
    },
    "language_info": {
      "name": "python"
    }
  },
  "cells": [
    {
      "cell_type": "markdown",
      "source": [
        "#House Prices - Advanced Regression Techniques\n",
        "Predict sales prices and practice feature engineering, RFs, and gradient boosting\n"
      ],
      "metadata": {
        "id": "2TvnaKSWxAj7"
      }
    },
    {
      "cell_type": "code",
      "execution_count": 2,
      "metadata": {
        "id": "WCCCgGKYQSpe",
        "colab": {
          "base_uri": "https://localhost:8080/"
        },
        "outputId": "e0f3db49-acda-41ad-9609-06a11bbc1060"
      },
      "outputs": [
        {
          "output_type": "stream",
          "name": "stdout",
          "text": [
            "Drive already mounted at /content/drive; to attempt to forcibly remount, call drive.mount(\"/content/drive\", force_remount=True).\n",
            "Collecting vecstack\n",
            "  Downloading vecstack-0.4.0.tar.gz (18 kB)\n",
            "  Preparing metadata (setup.py) ... \u001b[?25l\u001b[?25hdone\n",
            "Requirement already satisfied: numpy in /usr/local/lib/python3.10/dist-packages (from vecstack) (1.23.5)\n",
            "Requirement already satisfied: scipy in /usr/local/lib/python3.10/dist-packages (from vecstack) (1.11.3)\n",
            "Requirement already satisfied: scikit-learn>=0.18 in /usr/local/lib/python3.10/dist-packages (from vecstack) (1.2.2)\n",
            "Requirement already satisfied: joblib>=1.1.1 in /usr/local/lib/python3.10/dist-packages (from scikit-learn>=0.18->vecstack) (1.3.2)\n",
            "Requirement already satisfied: threadpoolctl>=2.0.0 in /usr/local/lib/python3.10/dist-packages (from scikit-learn>=0.18->vecstack) (3.2.0)\n",
            "Building wheels for collected packages: vecstack\n",
            "  Building wheel for vecstack (setup.py) ... \u001b[?25l\u001b[?25hdone\n",
            "  Created wheel for vecstack: filename=vecstack-0.4.0-py3-none-any.whl size=19863 sha256=0c5454a2bd40269ac6a06a7be8331513e7a5cf5e8b5bf961e6b48205d76929d2\n",
            "  Stored in directory: /root/.cache/pip/wheels/b8/d8/51/3cf39adf22c522b0a91dc2208db4e9de4d2d9d171683596220\n",
            "Successfully built vecstack\n",
            "Installing collected packages: vecstack\n",
            "Successfully installed vecstack-0.4.0\n"
          ]
        }
      ],
      "source": [
        "from google.colab import drive\n",
        "drive.mount('/content/drive')\n",
        "!pip install vecstack"
      ]
    },
    {
      "cell_type": "code",
      "source": [
        "from vecstack import stacking\n",
        "import pandas as pd\n",
        "import numpy as np\n",
        "from sklearn.model_selection import GridSearchCV, RandomizedSearchCV, cross_val_score\n",
        "from sklearn.metrics import accuracy_score, precision_score, recall_score, f1_score, roc_auc_score, confusion_matrix\n",
        "import seaborn as sns\n",
        "from sklearn.preprocessing import LabelEncoder\n",
        "from sklearn.ensemble import RandomForestRegressor\n",
        "from sklearn.tree import DecisionTreeRegressor\n",
        "from sklearn.ensemble import GradientBoostingRegressor\n",
        "from sklearn.neural_network import MLPRegressor\n",
        "from math import sqrt\n",
        "from sklearn.metrics import mean_squared_error\n",
        "\n",
        "import warnings\n",
        "warnings.filterwarnings(\"ignore\")"
      ],
      "metadata": {
        "id": "AbrKYnqAhClQ"
      },
      "execution_count": 3,
      "outputs": []
    },
    {
      "cell_type": "code",
      "source": [
        "#Read training data file\n",
        "trainfile = '/content/drive/MyDrive/house_train.csv'\n",
        "trainData = pd.read_csv(trainfile)\n",
        "\n",
        "#Read test data file\n",
        "testfile = '/content/drive/MyDrive/house_test.csv'\n",
        "testData = pd.read_csv(testfile)\n",
        "\n",
        "print(trainData.shape)\n",
        "print(testData.shape)"
      ],
      "metadata": {
        "colab": {
          "base_uri": "https://localhost:8080/"
        },
        "id": "8FV2GwBuhuxn",
        "outputId": "c122c12d-1928-45bf-c18d-f6b0bc315611"
      },
      "execution_count": 4,
      "outputs": [
        {
          "output_type": "stream",
          "name": "stdout",
          "text": [
            "(1460, 81)\n",
            "(1459, 80)\n"
          ]
        }
      ]
    },
    {
      "cell_type": "markdown",
      "source": [
        "#EDA"
      ],
      "metadata": {
        "id": "eWabCEGpJB6d"
      }
    },
    {
      "cell_type": "code",
      "source": [
        "trainData.head()"
      ],
      "metadata": {
        "colab": {
          "base_uri": "https://localhost:8080/",
          "height": 256
        },
        "id": "nYU6gB_ajJhf",
        "outputId": "e8e1f43b-c0f1-4619-cc67-a19c862cb8b2"
      },
      "execution_count": 5,
      "outputs": [
        {
          "output_type": "execute_result",
          "data": {
            "text/plain": [
              "   Id  MSSubClass MSZoning  LotFrontage  LotArea Street Alley LotShape  \\\n",
              "0   1          60       RL         65.0     8450   Pave   NaN      Reg   \n",
              "1   2          20       RL         80.0     9600   Pave   NaN      Reg   \n",
              "2   3          60       RL         68.0    11250   Pave   NaN      IR1   \n",
              "3   4          70       RL         60.0     9550   Pave   NaN      IR1   \n",
              "4   5          60       RL         84.0    14260   Pave   NaN      IR1   \n",
              "\n",
              "  LandContour Utilities  ... PoolArea PoolQC Fence MiscFeature MiscVal MoSold  \\\n",
              "0         Lvl    AllPub  ...        0    NaN   NaN         NaN       0      2   \n",
              "1         Lvl    AllPub  ...        0    NaN   NaN         NaN       0      5   \n",
              "2         Lvl    AllPub  ...        0    NaN   NaN         NaN       0      9   \n",
              "3         Lvl    AllPub  ...        0    NaN   NaN         NaN       0      2   \n",
              "4         Lvl    AllPub  ...        0    NaN   NaN         NaN       0     12   \n",
              "\n",
              "  YrSold  SaleType  SaleCondition  SalePrice  \n",
              "0   2008        WD         Normal     208500  \n",
              "1   2007        WD         Normal     181500  \n",
              "2   2008        WD         Normal     223500  \n",
              "3   2006        WD        Abnorml     140000  \n",
              "4   2008        WD         Normal     250000  \n",
              "\n",
              "[5 rows x 81 columns]"
            ],
            "text/html": [
              "\n",
              "  <div id=\"df-0545bfd7-4f8b-4d08-9562-39d7cc0d83ed\" class=\"colab-df-container\">\n",
              "    <div>\n",
              "<style scoped>\n",
              "    .dataframe tbody tr th:only-of-type {\n",
              "        vertical-align: middle;\n",
              "    }\n",
              "\n",
              "    .dataframe tbody tr th {\n",
              "        vertical-align: top;\n",
              "    }\n",
              "\n",
              "    .dataframe thead th {\n",
              "        text-align: right;\n",
              "    }\n",
              "</style>\n",
              "<table border=\"1\" class=\"dataframe\">\n",
              "  <thead>\n",
              "    <tr style=\"text-align: right;\">\n",
              "      <th></th>\n",
              "      <th>Id</th>\n",
              "      <th>MSSubClass</th>\n",
              "      <th>MSZoning</th>\n",
              "      <th>LotFrontage</th>\n",
              "      <th>LotArea</th>\n",
              "      <th>Street</th>\n",
              "      <th>Alley</th>\n",
              "      <th>LotShape</th>\n",
              "      <th>LandContour</th>\n",
              "      <th>Utilities</th>\n",
              "      <th>...</th>\n",
              "      <th>PoolArea</th>\n",
              "      <th>PoolQC</th>\n",
              "      <th>Fence</th>\n",
              "      <th>MiscFeature</th>\n",
              "      <th>MiscVal</th>\n",
              "      <th>MoSold</th>\n",
              "      <th>YrSold</th>\n",
              "      <th>SaleType</th>\n",
              "      <th>SaleCondition</th>\n",
              "      <th>SalePrice</th>\n",
              "    </tr>\n",
              "  </thead>\n",
              "  <tbody>\n",
              "    <tr>\n",
              "      <th>0</th>\n",
              "      <td>1</td>\n",
              "      <td>60</td>\n",
              "      <td>RL</td>\n",
              "      <td>65.0</td>\n",
              "      <td>8450</td>\n",
              "      <td>Pave</td>\n",
              "      <td>NaN</td>\n",
              "      <td>Reg</td>\n",
              "      <td>Lvl</td>\n",
              "      <td>AllPub</td>\n",
              "      <td>...</td>\n",
              "      <td>0</td>\n",
              "      <td>NaN</td>\n",
              "      <td>NaN</td>\n",
              "      <td>NaN</td>\n",
              "      <td>0</td>\n",
              "      <td>2</td>\n",
              "      <td>2008</td>\n",
              "      <td>WD</td>\n",
              "      <td>Normal</td>\n",
              "      <td>208500</td>\n",
              "    </tr>\n",
              "    <tr>\n",
              "      <th>1</th>\n",
              "      <td>2</td>\n",
              "      <td>20</td>\n",
              "      <td>RL</td>\n",
              "      <td>80.0</td>\n",
              "      <td>9600</td>\n",
              "      <td>Pave</td>\n",
              "      <td>NaN</td>\n",
              "      <td>Reg</td>\n",
              "      <td>Lvl</td>\n",
              "      <td>AllPub</td>\n",
              "      <td>...</td>\n",
              "      <td>0</td>\n",
              "      <td>NaN</td>\n",
              "      <td>NaN</td>\n",
              "      <td>NaN</td>\n",
              "      <td>0</td>\n",
              "      <td>5</td>\n",
              "      <td>2007</td>\n",
              "      <td>WD</td>\n",
              "      <td>Normal</td>\n",
              "      <td>181500</td>\n",
              "    </tr>\n",
              "    <tr>\n",
              "      <th>2</th>\n",
              "      <td>3</td>\n",
              "      <td>60</td>\n",
              "      <td>RL</td>\n",
              "      <td>68.0</td>\n",
              "      <td>11250</td>\n",
              "      <td>Pave</td>\n",
              "      <td>NaN</td>\n",
              "      <td>IR1</td>\n",
              "      <td>Lvl</td>\n",
              "      <td>AllPub</td>\n",
              "      <td>...</td>\n",
              "      <td>0</td>\n",
              "      <td>NaN</td>\n",
              "      <td>NaN</td>\n",
              "      <td>NaN</td>\n",
              "      <td>0</td>\n",
              "      <td>9</td>\n",
              "      <td>2008</td>\n",
              "      <td>WD</td>\n",
              "      <td>Normal</td>\n",
              "      <td>223500</td>\n",
              "    </tr>\n",
              "    <tr>\n",
              "      <th>3</th>\n",
              "      <td>4</td>\n",
              "      <td>70</td>\n",
              "      <td>RL</td>\n",
              "      <td>60.0</td>\n",
              "      <td>9550</td>\n",
              "      <td>Pave</td>\n",
              "      <td>NaN</td>\n",
              "      <td>IR1</td>\n",
              "      <td>Lvl</td>\n",
              "      <td>AllPub</td>\n",
              "      <td>...</td>\n",
              "      <td>0</td>\n",
              "      <td>NaN</td>\n",
              "      <td>NaN</td>\n",
              "      <td>NaN</td>\n",
              "      <td>0</td>\n",
              "      <td>2</td>\n",
              "      <td>2006</td>\n",
              "      <td>WD</td>\n",
              "      <td>Abnorml</td>\n",
              "      <td>140000</td>\n",
              "    </tr>\n",
              "    <tr>\n",
              "      <th>4</th>\n",
              "      <td>5</td>\n",
              "      <td>60</td>\n",
              "      <td>RL</td>\n",
              "      <td>84.0</td>\n",
              "      <td>14260</td>\n",
              "      <td>Pave</td>\n",
              "      <td>NaN</td>\n",
              "      <td>IR1</td>\n",
              "      <td>Lvl</td>\n",
              "      <td>AllPub</td>\n",
              "      <td>...</td>\n",
              "      <td>0</td>\n",
              "      <td>NaN</td>\n",
              "      <td>NaN</td>\n",
              "      <td>NaN</td>\n",
              "      <td>0</td>\n",
              "      <td>12</td>\n",
              "      <td>2008</td>\n",
              "      <td>WD</td>\n",
              "      <td>Normal</td>\n",
              "      <td>250000</td>\n",
              "    </tr>\n",
              "  </tbody>\n",
              "</table>\n",
              "<p>5 rows × 81 columns</p>\n",
              "</div>\n",
              "    <div class=\"colab-df-buttons\">\n",
              "\n",
              "  <div class=\"colab-df-container\">\n",
              "    <button class=\"colab-df-convert\" onclick=\"convertToInteractive('df-0545bfd7-4f8b-4d08-9562-39d7cc0d83ed')\"\n",
              "            title=\"Convert this dataframe to an interactive table.\"\n",
              "            style=\"display:none;\">\n",
              "\n",
              "  <svg xmlns=\"http://www.w3.org/2000/svg\" height=\"24px\" viewBox=\"0 -960 960 960\">\n",
              "    <path d=\"M120-120v-720h720v720H120Zm60-500h600v-160H180v160Zm220 220h160v-160H400v160Zm0 220h160v-160H400v160ZM180-400h160v-160H180v160Zm440 0h160v-160H620v160ZM180-180h160v-160H180v160Zm440 0h160v-160H620v160Z\"/>\n",
              "  </svg>\n",
              "    </button>\n",
              "\n",
              "  <style>\n",
              "    .colab-df-container {\n",
              "      display:flex;\n",
              "      gap: 12px;\n",
              "    }\n",
              "\n",
              "    .colab-df-convert {\n",
              "      background-color: #E8F0FE;\n",
              "      border: none;\n",
              "      border-radius: 50%;\n",
              "      cursor: pointer;\n",
              "      display: none;\n",
              "      fill: #1967D2;\n",
              "      height: 32px;\n",
              "      padding: 0 0 0 0;\n",
              "      width: 32px;\n",
              "    }\n",
              "\n",
              "    .colab-df-convert:hover {\n",
              "      background-color: #E2EBFA;\n",
              "      box-shadow: 0px 1px 2px rgba(60, 64, 67, 0.3), 0px 1px 3px 1px rgba(60, 64, 67, 0.15);\n",
              "      fill: #174EA6;\n",
              "    }\n",
              "\n",
              "    .colab-df-buttons div {\n",
              "      margin-bottom: 4px;\n",
              "    }\n",
              "\n",
              "    [theme=dark] .colab-df-convert {\n",
              "      background-color: #3B4455;\n",
              "      fill: #D2E3FC;\n",
              "    }\n",
              "\n",
              "    [theme=dark] .colab-df-convert:hover {\n",
              "      background-color: #434B5C;\n",
              "      box-shadow: 0px 1px 3px 1px rgba(0, 0, 0, 0.15);\n",
              "      filter: drop-shadow(0px 1px 2px rgba(0, 0, 0, 0.3));\n",
              "      fill: #FFFFFF;\n",
              "    }\n",
              "  </style>\n",
              "\n",
              "    <script>\n",
              "      const buttonEl =\n",
              "        document.querySelector('#df-0545bfd7-4f8b-4d08-9562-39d7cc0d83ed button.colab-df-convert');\n",
              "      buttonEl.style.display =\n",
              "        google.colab.kernel.accessAllowed ? 'block' : 'none';\n",
              "\n",
              "      async function convertToInteractive(key) {\n",
              "        const element = document.querySelector('#df-0545bfd7-4f8b-4d08-9562-39d7cc0d83ed');\n",
              "        const dataTable =\n",
              "          await google.colab.kernel.invokeFunction('convertToInteractive',\n",
              "                                                    [key], {});\n",
              "        if (!dataTable) return;\n",
              "\n",
              "        const docLinkHtml = 'Like what you see? Visit the ' +\n",
              "          '<a target=\"_blank\" href=https://colab.research.google.com/notebooks/data_table.ipynb>data table notebook</a>'\n",
              "          + ' to learn more about interactive tables.';\n",
              "        element.innerHTML = '';\n",
              "        dataTable['output_type'] = 'display_data';\n",
              "        await google.colab.output.renderOutput(dataTable, element);\n",
              "        const docLink = document.createElement('div');\n",
              "        docLink.innerHTML = docLinkHtml;\n",
              "        element.appendChild(docLink);\n",
              "      }\n",
              "    </script>\n",
              "  </div>\n",
              "\n",
              "\n",
              "<div id=\"df-ee209a70-f8ba-4791-b8fe-e080fe06df95\">\n",
              "  <button class=\"colab-df-quickchart\" onclick=\"quickchart('df-ee209a70-f8ba-4791-b8fe-e080fe06df95')\"\n",
              "            title=\"Suggest charts\"\n",
              "            style=\"display:none;\">\n",
              "\n",
              "<svg xmlns=\"http://www.w3.org/2000/svg\" height=\"24px\"viewBox=\"0 0 24 24\"\n",
              "     width=\"24px\">\n",
              "    <g>\n",
              "        <path d=\"M19 3H5c-1.1 0-2 .9-2 2v14c0 1.1.9 2 2 2h14c1.1 0 2-.9 2-2V5c0-1.1-.9-2-2-2zM9 17H7v-7h2v7zm4 0h-2V7h2v10zm4 0h-2v-4h2v4z\"/>\n",
              "    </g>\n",
              "</svg>\n",
              "  </button>\n",
              "\n",
              "<style>\n",
              "  .colab-df-quickchart {\n",
              "      --bg-color: #E8F0FE;\n",
              "      --fill-color: #1967D2;\n",
              "      --hover-bg-color: #E2EBFA;\n",
              "      --hover-fill-color: #174EA6;\n",
              "      --disabled-fill-color: #AAA;\n",
              "      --disabled-bg-color: #DDD;\n",
              "  }\n",
              "\n",
              "  [theme=dark] .colab-df-quickchart {\n",
              "      --bg-color: #3B4455;\n",
              "      --fill-color: #D2E3FC;\n",
              "      --hover-bg-color: #434B5C;\n",
              "      --hover-fill-color: #FFFFFF;\n",
              "      --disabled-bg-color: #3B4455;\n",
              "      --disabled-fill-color: #666;\n",
              "  }\n",
              "\n",
              "  .colab-df-quickchart {\n",
              "    background-color: var(--bg-color);\n",
              "    border: none;\n",
              "    border-radius: 50%;\n",
              "    cursor: pointer;\n",
              "    display: none;\n",
              "    fill: var(--fill-color);\n",
              "    height: 32px;\n",
              "    padding: 0;\n",
              "    width: 32px;\n",
              "  }\n",
              "\n",
              "  .colab-df-quickchart:hover {\n",
              "    background-color: var(--hover-bg-color);\n",
              "    box-shadow: 0 1px 2px rgba(60, 64, 67, 0.3), 0 1px 3px 1px rgba(60, 64, 67, 0.15);\n",
              "    fill: var(--button-hover-fill-color);\n",
              "  }\n",
              "\n",
              "  .colab-df-quickchart-complete:disabled,\n",
              "  .colab-df-quickchart-complete:disabled:hover {\n",
              "    background-color: var(--disabled-bg-color);\n",
              "    fill: var(--disabled-fill-color);\n",
              "    box-shadow: none;\n",
              "  }\n",
              "\n",
              "  .colab-df-spinner {\n",
              "    border: 2px solid var(--fill-color);\n",
              "    border-color: transparent;\n",
              "    border-bottom-color: var(--fill-color);\n",
              "    animation:\n",
              "      spin 1s steps(1) infinite;\n",
              "  }\n",
              "\n",
              "  @keyframes spin {\n",
              "    0% {\n",
              "      border-color: transparent;\n",
              "      border-bottom-color: var(--fill-color);\n",
              "      border-left-color: var(--fill-color);\n",
              "    }\n",
              "    20% {\n",
              "      border-color: transparent;\n",
              "      border-left-color: var(--fill-color);\n",
              "      border-top-color: var(--fill-color);\n",
              "    }\n",
              "    30% {\n",
              "      border-color: transparent;\n",
              "      border-left-color: var(--fill-color);\n",
              "      border-top-color: var(--fill-color);\n",
              "      border-right-color: var(--fill-color);\n",
              "    }\n",
              "    40% {\n",
              "      border-color: transparent;\n",
              "      border-right-color: var(--fill-color);\n",
              "      border-top-color: var(--fill-color);\n",
              "    }\n",
              "    60% {\n",
              "      border-color: transparent;\n",
              "      border-right-color: var(--fill-color);\n",
              "    }\n",
              "    80% {\n",
              "      border-color: transparent;\n",
              "      border-right-color: var(--fill-color);\n",
              "      border-bottom-color: var(--fill-color);\n",
              "    }\n",
              "    90% {\n",
              "      border-color: transparent;\n",
              "      border-bottom-color: var(--fill-color);\n",
              "    }\n",
              "  }\n",
              "</style>\n",
              "\n",
              "  <script>\n",
              "    async function quickchart(key) {\n",
              "      const quickchartButtonEl =\n",
              "        document.querySelector('#' + key + ' button');\n",
              "      quickchartButtonEl.disabled = true;  // To prevent multiple clicks.\n",
              "      quickchartButtonEl.classList.add('colab-df-spinner');\n",
              "      try {\n",
              "        const charts = await google.colab.kernel.invokeFunction(\n",
              "            'suggestCharts', [key], {});\n",
              "      } catch (error) {\n",
              "        console.error('Error during call to suggestCharts:', error);\n",
              "      }\n",
              "      quickchartButtonEl.classList.remove('colab-df-spinner');\n",
              "      quickchartButtonEl.classList.add('colab-df-quickchart-complete');\n",
              "    }\n",
              "    (() => {\n",
              "      let quickchartButtonEl =\n",
              "        document.querySelector('#df-ee209a70-f8ba-4791-b8fe-e080fe06df95 button');\n",
              "      quickchartButtonEl.style.display =\n",
              "        google.colab.kernel.accessAllowed ? 'block' : 'none';\n",
              "    })();\n",
              "  </script>\n",
              "</div>\n",
              "    </div>\n",
              "  </div>\n"
            ]
          },
          "metadata": {},
          "execution_count": 5
        }
      ]
    },
    {
      "cell_type": "code",
      "source": [
        "trainData['SalePrice'].describe()\n"
      ],
      "metadata": {
        "colab": {
          "base_uri": "https://localhost:8080/"
        },
        "id": "aZANMIZ3Vs1g",
        "outputId": "a304b5cd-99aa-45af-f569-79e32df23629"
      },
      "execution_count": null,
      "outputs": [
        {
          "output_type": "execute_result",
          "data": {
            "text/plain": [
              "count      1460.000000\n",
              "mean     180921.195890\n",
              "std       79442.502883\n",
              "min       34900.000000\n",
              "25%      129975.000000\n",
              "50%      163000.000000\n",
              "75%      214000.000000\n",
              "max      755000.000000\n",
              "Name: SalePrice, dtype: float64"
            ]
          },
          "metadata": {},
          "execution_count": 5
        }
      ]
    },
    {
      "cell_type": "code",
      "source": [
        "sns.displot(trainData['SalePrice']);\n"
      ],
      "metadata": {
        "colab": {
          "base_uri": "https://localhost:8080/",
          "height": 506
        },
        "id": "sJapJxM1WPdb",
        "outputId": "afff7ef8-a9b6-4781-9894-f38640c091d1"
      },
      "execution_count": null,
      "outputs": [
        {
          "output_type": "display_data",
          "data": {
            "text/plain": [
              "<Figure size 500x500 with 1 Axes>"
            ],
            "image/png": "[encoded data removed]"
          },
          "metadata": {}
        }
      ]
    },
    {
      "cell_type": "markdown",
      "source": [
        "#DATA PRE-PROCESSING"
      ],
      "metadata": {
        "id": "6aXqgocrJPLd"
      }
    },
    {
      "cell_type": "code",
      "source": [
        "train_ID = trainData['Id']\n",
        "test_ID = testData['Id']\n",
        "\n",
        "#Now drop the  'Id' colum since it's unnecessary for  the prediction process.\n",
        "trainData.drop(\"Id\", axis = 1, inplace = True)\n",
        "testData.drop(\"Id\", axis = 1, inplace = True)"
      ],
      "metadata": {
        "id": "5E_jQd73ap75"
      },
      "execution_count": 6,
      "outputs": []
    },
    {
      "cell_type": "code",
      "source": [
        "Ytrain = trainData['SalePrice']\n",
        "combinedData = pd.concat([trainData,testData], keys=[0,1])\n",
        "combinedData.drop(['SalePrice'], axis=1, inplace=True)\n",
        "combinedData.shape"
      ],
      "metadata": {
        "colab": {
          "base_uri": "https://localhost:8080/"
        },
        "id": "0zK0ocD_blhR",
        "outputId": "6f8d0fa8-fe80-4777-c6dd-301ac2d6e78c"
      },
      "execution_count": 7,
      "outputs": [
        {
          "output_type": "execute_result",
          "data": {
            "text/plain": [
              "(2919, 79)"
            ]
          },
          "metadata": {},
          "execution_count": 7
        }
      ]
    },
    {
      "cell_type": "markdown",
      "source": [
        "#MISSING DATA"
      ],
      "metadata": {
        "id": "fr1omKGTJb1r"
      }
    },
    {
      "cell_type": "code",
      "source": [
        "missing_values = combinedData.isnull().sum()\n",
        "missing_values[missing_values > 0].sort_values(ascending=False)"
      ],
      "metadata": {
        "colab": {
          "base_uri": "https://localhost:8080/"
        },
        "id": "lvhHESZbcndv",
        "outputId": "1fa2f296-17c1-4e88-cf22-565b5367af52"
      },
      "execution_count": 8,
      "outputs": [
        {
          "output_type": "execute_result",
          "data": {
            "text/plain": [
              "PoolQC          2909\n",
              "MiscFeature     2814\n",
              "Alley           2721\n",
              "Fence           2348\n",
              "FireplaceQu     1420\n",
              "LotFrontage      486\n",
              "GarageFinish     159\n",
              "GarageQual       159\n",
              "GarageCond       159\n",
              "GarageYrBlt      159\n",
              "GarageType       157\n",
              "BsmtExposure      82\n",
              "BsmtCond          82\n",
              "BsmtQual          81\n",
              "BsmtFinType2      80\n",
              "BsmtFinType1      79\n",
              "MasVnrType        24\n",
              "MasVnrArea        23\n",
              "MSZoning           4\n",
              "BsmtFullBath       2\n",
              "BsmtHalfBath       2\n",
              "Functional         2\n",
              "Utilities          2\n",
              "GarageArea         1\n",
              "GarageCars         1\n",
              "Electrical         1\n",
              "KitchenQual        1\n",
              "TotalBsmtSF        1\n",
              "BsmtUnfSF          1\n",
              "BsmtFinSF2         1\n",
              "BsmtFinSF1         1\n",
              "Exterior2nd        1\n",
              "Exterior1st        1\n",
              "SaleType           1\n",
              "dtype: int64"
            ]
          },
          "metadata": {},
          "execution_count": 8
        }
      ]
    },
    {
      "cell_type": "code",
      "source": [
        "na_cols = ['PoolQC', 'MiscFeature', 'Alley', 'Fence', 'FireplaceQu', 'GarageType', 'GarageFinish', 'GarageQual', 'GarageCond', 'BsmtQual', 'BsmtCond', 'BsmtExposure', 'BsmtFinType1', 'BsmtFinType2', 'MasVnrType']\n",
        "for col in na_cols:\n",
        "    combinedData[col].fillna(\"None\", inplace=True)\n",
        "\n",
        "zero_cols = ['GarageYrBlt', 'GarageArea', 'GarageCars', 'BsmtFinSF1', 'BsmtFinSF2', 'BsmtUnfSF','TotalBsmtSF', 'BsmtFullBath', 'BsmtHalfBath', 'MasVnrArea']\n",
        "for col in zero_cols:\n",
        "    combinedData[col].fillna(0, inplace=True)\n",
        "\n",
        "combinedData[\"LotFrontage\"] = combinedData.groupby(\"Neighborhood\")[\"LotFrontage\"].transform(lambda x: x.fillna(x.median()))\n",
        "\n",
        "combinedData.drop(['Utilities'], axis=1, inplace = True)\n",
        "\n",
        "mode_cols = ['MSZoning', 'Exterior1st', 'Exterior2nd', 'KitchenQual', 'Functional', 'SaleType', 'Electrical']\n",
        "for col in mode_cols:\n",
        "    mode = combinedData[col].mode()[0]\n",
        "    combinedData[col].fillna(mode, inplace=True)\n",
        "\n"
      ],
      "metadata": {
        "id": "zEMFL9n2cxG_"
      },
      "execution_count": 9,
      "outputs": []
    },
    {
      "cell_type": "code",
      "source": [
        "missing_values = combinedData.isnull().sum()\n",
        "missing_values[missing_values > 0].sort_values(ascending=False)"
      ],
      "metadata": {
        "colab": {
          "base_uri": "https://localhost:8080/"
        },
        "id": "8E9VbwsxfN86",
        "outputId": "c5e743a4-b8da-4fa7-9a23-3cd79f72e157"
      },
      "execution_count": 10,
      "outputs": [
        {
          "output_type": "execute_result",
          "data": {
            "text/plain": [
              "Series([], dtype: int64)"
            ]
          },
          "metadata": {},
          "execution_count": 10
        }
      ]
    },
    {
      "cell_type": "markdown",
      "source": [
        "#CATEGORICAL FEATURES"
      ],
      "metadata": {
        "id": "ft2LAKKoJif9"
      }
    },
    {
      "cell_type": "code",
      "source": [
        "#Changing features into a categorical variable\n",
        "\n",
        "combinedData['MSSubClass'] = combinedData['MSSubClass'].apply(str)\n",
        "combinedData['OverallCond'] = combinedData['OverallCond'].astype(str)\n",
        "combinedData['OverallQual'] = combinedData['OverallQual'].astype(str)"
      ],
      "metadata": {
        "id": "z7-221hmmlbZ"
      },
      "execution_count": 11,
      "outputs": []
    },
    {
      "cell_type": "code",
      "source": [
        "combinedData.info()"
      ],
      "metadata": {
        "colab": {
          "base_uri": "https://localhost:8080/"
        },
        "id": "9Rsrw5H4nKbk",
        "outputId": "1ade986d-2b61-437f-abec-452fa6bfdfa9"
      },
      "execution_count": 12,
      "outputs": [
        {
          "output_type": "stream",
          "name": "stdout",
          "text": [
            "<class 'pandas.core.frame.DataFrame'>\n",
            "MultiIndex: 2919 entries, (0, 0) to (1, 1458)\n",
            "Data columns (total 78 columns):\n",
            " #   Column         Non-Null Count  Dtype  \n",
            "---  ------         --------------  -----  \n",
            " 0   MSSubClass     2919 non-null   object \n",
            " 1   MSZoning       2919 non-null   object \n",
            " 2   LotFrontage    2919 non-null   float64\n",
            " 3   LotArea        2919 non-null   int64  \n",
            " 4   Street         2919 non-null   object \n",
            " 5   Alley          2919 non-null   object \n",
            " 6   LotShape       2919 non-null   object \n",
            " 7   LandContour    2919 non-null   object \n",
            " 8   LotConfig      2919 non-null   object \n",
            " 9   LandSlope      2919 non-null   object \n",
            " 10  Neighborhood   2919 non-null   object \n",
            " 11  Condition1     2919 non-null   object \n",
            " 12  Condition2     2919 non-null   object \n",
            " 13  BldgType       2919 non-null   object \n",
            " 14  HouseStyle     2919 non-null   object \n",
            " 15  OverallQual    2919 non-null   object \n",
            " 16  OverallCond    2919 non-null   object \n",
            " 17  YearBuilt      2919 non-null   int64  \n",
            " 18  YearRemodAdd   2919 non-null   int64  \n",
            " 19  RoofStyle      2919 non-null   object \n",
            " 20  RoofMatl       2919 non-null   object \n",
            " 21  Exterior1st    2919 non-null   object \n",
            " 22  Exterior2nd    2919 non-null   object \n",
            " 23  MasVnrType     2919 non-null   object \n",
            " 24  MasVnrArea     2919 non-null   float64\n",
            " 25  ExterQual      2919 non-null   object \n",
            " 26  ExterCond      2919 non-null   object \n",
            " 27  Foundation     2919 non-null   object \n",
            " 28  BsmtQual       2919 non-null   object \n",
            " 29  BsmtCond       2919 non-null   object \n",
            " 30  BsmtExposure   2919 non-null   object \n",
            " 31  BsmtFinType1   2919 non-null   object \n",
            " 32  BsmtFinSF1     2919 non-null   float64\n",
            " 33  BsmtFinType2   2919 non-null   object \n",
            " 34  BsmtFinSF2     2919 non-null   float64\n",
            " 35  BsmtUnfSF      2919 non-null   float64\n",
            " 36  TotalBsmtSF    2919 non-null   float64\n",
            " 37  Heating        2919 non-null   object \n",
            " 38  HeatingQC      2919 non-null   object \n",
            " 39  CentralAir     2919 non-null   object \n",
            " 40  Electrical     2919 non-null   object \n",
            " 41  1stFlrSF       2919 non-null   int64  \n",
            " 42  2ndFlrSF       2919 non-null   int64  \n",
            " 43  LowQualFinSF   2919 non-null   int64  \n",
            " 44  GrLivArea      2919 non-null   int64  \n",
            " 45  BsmtFullBath   2919 non-null   float64\n",
            " 46  BsmtHalfBath   2919 non-null   float64\n",
            " 47  FullBath       2919 non-null   int64  \n",
            " 48  HalfBath       2919 non-null   int64  \n",
            " 49  BedroomAbvGr   2919 non-null   int64  \n",
            " 50  KitchenAbvGr   2919 non-null   int64  \n",
            " 51  KitchenQual    2919 non-null   object \n",
            " 52  TotRmsAbvGrd   2919 non-null   int64  \n",
            " 53  Functional     2919 non-null   object \n",
            " 54  Fireplaces     2919 non-null   int64  \n",
            " 55  FireplaceQu    2919 non-null   object \n",
            " 56  GarageType     2919 non-null   object \n",
            " 57  GarageYrBlt    2919 non-null   float64\n",
            " 58  GarageFinish   2919 non-null   object \n",
            " 59  GarageCars     2919 non-null   float64\n",
            " 60  GarageArea     2919 non-null   float64\n",
            " 61  GarageQual     2919 non-null   object \n",
            " 62  GarageCond     2919 non-null   object \n",
            " 63  PavedDrive     2919 non-null   object \n",
            " 64  WoodDeckSF     2919 non-null   int64  \n",
            " 65  OpenPorchSF    2919 non-null   int64  \n",
            " 66  EnclosedPorch  2919 non-null   int64  \n",
            " 67  3SsnPorch      2919 non-null   int64  \n",
            " 68  ScreenPorch    2919 non-null   int64  \n",
            " 69  PoolArea       2919 non-null   int64  \n",
            " 70  PoolQC         2919 non-null   object \n",
            " 71  Fence          2919 non-null   object \n",
            " 72  MiscFeature    2919 non-null   object \n",
            " 73  MiscVal        2919 non-null   int64  \n",
            " 74  MoSold         2919 non-null   int64  \n",
            " 75  YrSold         2919 non-null   int64  \n",
            " 76  SaleType       2919 non-null   object \n",
            " 77  SaleCondition  2919 non-null   object \n",
            "dtypes: float64(11), int64(22), object(45)\n",
            "memory usage: 1.8+ MB\n"
          ]
        }
      ]
    },
    {
      "cell_type": "code",
      "source": [
        "#Apply LabelEncoder to categorical features which can be ordered\n",
        "\n",
        "label_cols = ('FireplaceQu', 'BsmtQual', 'BsmtCond', 'GarageQual', 'GarageCond',\n",
        "        'ExterQual', 'ExterCond','HeatingQC', 'PoolQC', 'KitchenQual', 'BsmtFinType1',\n",
        "        'BsmtFinType2', 'Functional', 'Fence', 'BsmtExposure', 'GarageFinish', 'LandSlope',\n",
        "        'LotShape', 'PavedDrive', 'Street', 'Alley', 'CentralAir', 'MSSubClass', 'OverallCond',\n",
        "        'YrSold', 'MoSold')\n",
        "\n",
        "for c in label_cols:\n",
        "    lbl = LabelEncoder()\n",
        "    lbl.fit(list(combinedData[c].values))\n",
        "    combinedData[c] = lbl.transform(list(combinedData[c].values))\n",
        "\n",
        "combinedData.shape"
      ],
      "metadata": {
        "colab": {
          "base_uri": "https://localhost:8080/"
        },
        "id": "FkVzTgpGnVuj",
        "outputId": "fd2f91fb-7c92-4396-c3f6-0820fc72f907"
      },
      "execution_count": 13,
      "outputs": [
        {
          "output_type": "execute_result",
          "data": {
            "text/plain": [
              "(2919, 78)"
            ]
          },
          "metadata": {},
          "execution_count": 13
        }
      ]
    },
    {
      "cell_type": "code",
      "source": [
        "categorical_columns = combinedData.select_dtypes(include=['object', 'category']).columns\n",
        "TrainCols = list(categorical_columns.values)\n",
        "print(TrainCols)"
      ],
      "metadata": {
        "colab": {
          "base_uri": "https://localhost:8080/"
        },
        "id": "CvJ49C6YWVgm",
        "outputId": "6310ac9d-d8c2-44ab-9d6f-79f0a361d00d"
      },
      "execution_count": 14,
      "outputs": [
        {
          "output_type": "stream",
          "name": "stdout",
          "text": [
            "['MSZoning', 'LandContour', 'LotConfig', 'Neighborhood', 'Condition1', 'Condition2', 'BldgType', 'HouseStyle', 'OverallQual', 'RoofStyle', 'RoofMatl', 'Exterior1st', 'Exterior2nd', 'MasVnrType', 'Foundation', 'Heating', 'Electrical', 'GarageType', 'MiscFeature', 'SaleType', 'SaleCondition']\n"
          ]
        }
      ]
    },
    {
      "cell_type": "code",
      "source": [
        "combinedData = pd.get_dummies(combinedData)\n",
        "combinedData.shape"
      ],
      "metadata": {
        "colab": {
          "base_uri": "https://localhost:8080/"
        },
        "id": "-n1iBIk3oCoC",
        "outputId": "c8a1daca-96f6-4ce6-f77c-48c7ad6a9ca1"
      },
      "execution_count": 15,
      "outputs": [
        {
          "output_type": "execute_result",
          "data": {
            "text/plain": [
              "(2919, 229)"
            ]
          },
          "metadata": {},
          "execution_count": 15
        }
      ]
    },
    {
      "cell_type": "code",
      "source": [
        "Xtrain = combinedData.xs(0)\n",
        "Xtest = combinedData.xs(1)\n",
        "\n",
        "Xtrain.to_csv('new_train_hw4.csv', index=False)\n",
        "Xtest.to_csv('new_test_hw4.csv', index=False)\n",
        "Ytrain.to_csv('new_ytrain_hw4.csv', index=False)\n"
      ],
      "metadata": {
        "id": "z7HNV0QEpC4K"
      },
      "execution_count": 16,
      "outputs": []
    },
    {
      "cell_type": "markdown",
      "source": [
        "#Decision Tree Regressor"
      ],
      "metadata": {
        "id": "tBzwsTLHo8S8"
      }
    },
    {
      "cell_type": "code",
      "source": [
        "#Decision Tree Regressor\n",
        "\n",
        "dtr = DecisionTreeRegressor()\n",
        "dtr.fit(Xtrain, Ytrain)\n",
        "dtr_train_pred = dtr.predict(Xtrain)\n",
        "\n",
        "dtr_mse = mean_squared_error(Ytrain, dtr_train_pred)\n",
        "dtr_rmse = sqrt(dtr_mse)\n",
        "print(\"RMSE (training) for Decision Tree:{0:5f}\".format(dtr_rmse))\n",
        "\n",
        "dtr_test_pred = dtr.predict(Xtest)"
      ],
      "metadata": {
        "colab": {
          "base_uri": "https://localhost:8080/"
        },
        "id": "dgX1ZDrCpi2i",
        "outputId": "e4639e3a-b724-4b3b-d05e-51dc4f3c5bae"
      },
      "execution_count": null,
      "outputs": [
        {
          "output_type": "stream",
          "name": "stdout",
          "text": [
            "RMSE (training) for Decision Tree:0.000000\n"
          ]
        }
      ]
    },
    {
      "cell_type": "code",
      "source": [
        "result_df = pd.DataFrame({\n",
        "    'ID': test_ID,\n",
        "    'SalePrice': dtr_test_pred\n",
        "})\n",
        "\n",
        "# Save the DataFrame to a CSV file\n",
        "result_df.to_csv('DTR1.csv', index=False)"
      ],
      "metadata": {
        "id": "m9Hn-VgJu2sx"
      },
      "execution_count": null,
      "outputs": []
    },
    {
      "cell_type": "markdown",
      "source": [
        "![image.png](data:image/png;base64,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)"
      ],
      "metadata": {
        "id": "lhCPKwNnAOp1"
      }
    },
    {
      "cell_type": "code",
      "source": [
        "#HYPER PARAMETER TUNING\n",
        "\n",
        "dt_param_grid = {\n",
        "    'max_depth': [9 , 10, 11, 12],\n",
        "    'min_samples_split': [9, 10, 11, 12],\n",
        "    'min_samples_leaf': [3, 4, 5]\n",
        "}\n",
        "\n",
        "dt_grid_search = GridSearchCV(dtr, dt_param_grid, cv=5, n_jobs=-1, verbose=2)\n",
        "dt_grid_search.fit(Xtrain, Ytrain)\n",
        "dt_best_params = dt_grid_search.best_params_\n",
        "print(dt_best_params)\n",
        "\n",
        "dt_model_optimized = DecisionTreeRegressor(**dt_best_params)\n",
        "dt_model_optimized.fit(Xtrain, Ytrain)\n",
        "\n",
        "dt_predictions_optimized = dt_model_optimized.predict(Xtest)\n"
      ],
      "metadata": {
        "colab": {
          "base_uri": "https://localhost:8080/"
        },
        "id": "VJIt---4ATXT",
        "outputId": "7c748954-8a00-4eb9-f822-40d41df80195"
      },
      "execution_count": null,
      "outputs": [
        {
          "output_type": "stream",
          "name": "stdout",
          "text": [
            "Fitting 5 folds for each of 48 candidates, totalling 240 fits\n",
            "{'max_depth': 11, 'min_samples_leaf': 4, 'min_samples_split': 12}\n"
          ]
        }
      ]
    },
    {
      "cell_type": "code",
      "source": [
        "result_df = pd.DataFrame({\n",
        "    'ID': test_ID,\n",
        "    'SalePrice': dt_predictions_optimized\n",
        "})\n",
        "\n",
        "# Save the DataFrame to a CSV file\n",
        "result_df.to_csv('DTR2.csv', index=False)"
      ],
      "metadata": {
        "id": "YBgjmQjFAvZg"
      },
      "execution_count": null,
      "outputs": []
    },
    {
      "cell_type": "markdown",
      "source": [
        "![image.png](data:image/png;base64,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)"
      ],
      "metadata": {
        "id": "Yr_C-_GKDqR3"
      }
    },
    {
      "cell_type": "markdown",
      "source": [
        "#Random Forest Regressor\n"
      ],
      "metadata": {
        "id": "tWnaHlMTxm-s"
      }
    },
    {
      "cell_type": "code",
      "source": [
        "#Random Forest Regressor\n",
        "\n",
        "rfr = RandomForestRegressor(n_jobs=-1)\n",
        "rfr.fit(Xtrain, Ytrain)\n",
        "rfr_train_pred = rfr.predict(Xtrain)\n",
        "\n",
        "rfr_mse = mean_squared_error(Ytrain, rfr_train_pred)\n",
        "rfr_rmse = sqrt(rfr_mse)\n",
        "print(\"RMSE (training) for Random Forest:{0:5f}\".format(rfr_rmse))\n",
        "\n",
        "rfr_test_pred = rfr.predict(Xtest)"
      ],
      "metadata": {
        "colab": {
          "base_uri": "https://localhost:8080/"
        },
        "id": "h9QTMG7av806",
        "outputId": "4db1e10b-8f8a-4c82-db35-d61fe9378fde"
      },
      "execution_count": null,
      "outputs": [
        {
          "output_type": "stream",
          "name": "stdout",
          "text": [
            "RMSE (training) for Random Forest:11066.788871\n"
          ]
        }
      ]
    },
    {
      "cell_type": "code",
      "source": [
        "result_df = pd.DataFrame({\n",
        "    'ID': test_ID,\n",
        "    'SalePrice': rfr_test_pred\n",
        "})\n",
        "\n",
        "# Save the DataFrame to a CSV file\n",
        "result_df.to_csv('RFR1.csv', index=False)"
      ],
      "metadata": {
        "id": "JBBDKw1Qv9wb"
      },
      "execution_count": null,
      "outputs": []
    },
    {
      "cell_type": "markdown",
      "source": [
        "![image.png](data:image/png;base64,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)"
      ],
      "metadata": {
        "id": "3xg774cEAKZF"
      }
    },
    {
      "cell_type": "code",
      "source": [
        "#HYPER PARAMETER TUNING\n",
        "\n",
        "rf_param_grid = {\n",
        "    'n_estimators' : [50, 75, 100],\n",
        "    'max_depth': [9 , 10, 11, 12],\n",
        "    'min_samples_split': [9, 10, 11, 12],\n",
        "    'min_samples_leaf': [3, 4, 5]\n",
        "}\n",
        "\n",
        "rf_grid_search = GridSearchCV(rfr, rf_param_grid, cv=5, n_jobs=-1, verbose=2)\n",
        "rf_grid_search.fit(Xtrain, Ytrain)\n",
        "rf_best_params = rf_grid_search.best_params_\n",
        "print(rf_best_params)\n",
        "\n",
        "rf_model_optimized = RandomForestRegressor(**rf_best_params)\n",
        "rf_model_optimized.fit(Xtrain, Ytrain)\n",
        "\n",
        "rf_predictions_optimized = rf_model_optimized.predict(Xtest)\n"
      ],
      "metadata": {
        "colab": {
          "base_uri": "https://localhost:8080/"
        },
        "id": "x-5-9N5pGtLn",
        "outputId": "a5dfe4ac-41b6-40cb-aa73-c78f32930da0"
      },
      "execution_count": null,
      "outputs": [
        {
          "output_type": "stream",
          "name": "stdout",
          "text": [
            "Fitting 5 folds for each of 144 candidates, totalling 720 fits\n",
            "{'max_depth': 12, 'min_samples_leaf': 3, 'min_samples_split': 10, 'n_estimators': 50}\n"
          ]
        }
      ]
    },
    {
      "cell_type": "code",
      "source": [
        "result_df = pd.DataFrame({\n",
        "    'ID': test_ID,\n",
        "    'SalePrice': rf_predictions_optimized\n",
        "})\n",
        "\n",
        "# Save the DataFrame to a CSV file\n",
        "result_df.to_csv('RFR2.csv', index=False)"
      ],
      "metadata": {
        "id": "Cp_6itQJGlAM"
      },
      "execution_count": null,
      "outputs": []
    },
    {
      "cell_type": "markdown",
      "source": [
        "![image.png](data:image/png;base64,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)"
      ],
      "metadata": {
        "id": "GaGXKC13J6zu"
      }
    },
    {
      "cell_type": "markdown",
      "source": [
        "#Gradient Boosting Regressor\n"
      ],
      "metadata": {
        "id": "Ptuv9hloxpuL"
      }
    },
    {
      "cell_type": "code",
      "source": [
        "#Gradient Boosting Regressor\n",
        "\n",
        "gbr = GradientBoostingRegressor()\n",
        "gbr.fit(Xtrain, Ytrain)\n",
        "gbr_train_pred = gbr.predict(Xtrain)\n",
        "\n",
        "gbr_mse = mean_squared_error(Ytrain, gbr_train_pred)\n",
        "gbr_rmse = sqrt(gbr_mse)\n",
        "print(\"RMSE (training) for Gradient Boosting:{0:5f}\".format(gbr_rmse))\n",
        "\n",
        "\n",
        "gbr_test_pred = gbr.predict(Xtest)"
      ],
      "metadata": {
        "colab": {
          "base_uri": "https://localhost:8080/"
        },
        "id": "3sNk0iq-xchj",
        "outputId": "f1a3930b-ddad-46ea-b130-ce17eec5ccda"
      },
      "execution_count": null,
      "outputs": [
        {
          "output_type": "stream",
          "name": "stdout",
          "text": [
            "RMSE (training) for Gradient Boosting:14897.509250\n"
          ]
        }
      ]
    },
    {
      "cell_type": "code",
      "source": [
        "result_df = pd.DataFrame({\n",
        "    'ID': test_ID,\n",
        "    'SalePrice': gbr_test_pred\n",
        "})\n",
        "\n",
        "# Save the DataFrame to a CSV file\n",
        "result_df.to_csv('GBR1.csv', index=False)"
      ],
      "metadata": {
        "id": "BGN1Gbhmxdb5"
      },
      "execution_count": null,
      "outputs": []
    },
    {
      "cell_type": "markdown",
      "source": [
        "![image.png](data:image/png;base64,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)"
      ],
      "metadata": {
        "id": "grf71DW_AIE8"
      }
    },
    {
      "cell_type": "code",
      "source": [
        "#HYPER PARAMETER TUNING\n",
        "\n",
        "gb_param_grid = {\n",
        "    'n_estimators' : [50, 75, 100],\n",
        "    'max_depth': [9 , 10, 11, 12],\n",
        "    'min_samples_split': [9, 10, 11, 12],\n",
        "    'min_samples_leaf': [3, 4, 5]\n",
        "}\n",
        "\n",
        "gb_grid_search = GridSearchCV(gbr, gb_param_grid, cv=3, n_jobs=-1, verbose=2)\n",
        "gb_grid_search.fit(Xtrain, Ytrain)\n",
        "gb_best_params = gb_grid_search.best_params_\n",
        "print(gb_best_params)\n",
        "\n",
        "gb_model_optimized = GradientBoostingRegressor(**gb_best_params)\n",
        "gb_model_optimized.fit(Xtrain, Ytrain)\n",
        "\n",
        "gb_predictions_optimized = gb_model_optimized.predict(Xtest)\n"
      ],
      "metadata": {
        "id": "IygygmB9IUvC",
        "colab": {
          "base_uri": "https://localhost:8080/"
        },
        "outputId": "054cc00a-d4e8-47d7-c54b-4f89c69df9b5"
      },
      "execution_count": null,
      "outputs": [
        {
          "output_type": "stream",
          "name": "stdout",
          "text": [
            "Fitting 3 folds for each of 144 candidates, totalling 432 fits\n",
            "{'max_depth': 9, 'min_samples_leaf': 5, 'min_samples_split': 12, 'n_estimators': 100}\n"
          ]
        }
      ]
    },
    {
      "cell_type": "code",
      "source": [
        "result_df = pd.DataFrame({\n",
        "    'ID': test_ID,\n",
        "    'SalePrice': gb_predictions_optimized\n",
        "})\n",
        "\n",
        "# Save the DataFrame to a CSV file\n",
        "result_df.to_csv('GBR2.csv', index=False)"
      ],
      "metadata": {
        "id": "bFd4UVgIIX7F"
      },
      "execution_count": null,
      "outputs": []
    },
    {
      "cell_type": "markdown",
      "source": [
        "![image.png](data:image/png;base64,iVBORw0KGgoAAAANSUhEUgAACGgAAACGCAYAAACLkS4WAAAKrWlDQ1BJQ0MgUHJvZmlsZQAASImVlwdQU1kXgO976SGhJUQ6oYYivQWQEkILoCAdbIQkQCghBoKKHVlcwbWgIoINdEFEwVUpYkNEsbAIKGBfkEVEWRcLNlT+Bwxhd//5/3/+M3PmfO+8c8899867b84FgKzIFYtTYEUAUkUZkhBfT3pUdAwdNwSIgAwUgTzQ4/LSxazg4ECAyIz9u3zoAdCkvWs+mevf3/9XUeIL0nkAQMEIx/HTeakIn0X0JU8syQAAdRjx66/IEE9yC8JUCVIgwvcnOWGaRyY5borRYComLISNMBUAPInLlSQAQKIjfnomLwHJQ/JA2ErEF4oQFiPslpqaxkf4FMLGSAziI03mZ8b9JU/C33LGyXJyuQkynl7LlOC9hOniFO6q/3M7/rekpkhn5jBClJQo8QtBrDKyZ/eT0wJkLIpbEDTDQv5U/BQnSv3CZ5iXzo6ZYT7XK0A2NmVB4AzHC304sjwZnLAZFqR7h86wJC1ENle8hM2aYa5kdl5pcrjMnyjgyPJnJYZFznCmMGLBDKcnhwbMxrBlfok0RFa/QOTrOTuvj2ztqel/Wa+QIxubkRjmJ1s7d7Z+gYg1mzM9SlYbX+DlPRsTLosXZ3jK5hKnBMviBSm+Mn96ZqhsbAbyQc6ODZbtYRLXP3iGARukgRREJYAOApEnLwAyBCszJhfCThOvkggTEjPoLOSECegcEc9iLt3GysYWgMnzOv05vKNNnUOIdmvWt6kWANdLExMT52d9ATsAOMMAgNgx62PsBEBBA4AbpTypJHPaN3WWMMifQAFQgRrQBvrAGJgDG+AAXIAH8Ab+IAiEgWiwFPBAIkhFKl8B1oCNIBfkgx1gDygGh8ARcAycBKdBPbgAroDr4DboAN3gEegDg+AVGAUfwDgEQTiIDFEgNUgHMoTMIBuICblB3lAgFAJFQ7FQAiSCpNAaaBOUDxVAxVApVAn9Ap2DrkA3oU7oAdQPDUNvoS8wCibBVFgLNoItYSbMggPgMHgJnAAvh7PgHHgbXASXwSfgOvgKfBvuhvvgV/AYCqDkUDSULsocxUSxUUGoGFQ8SoJah8pDFaLKUNWoRlQr6i6qDzWC+ozGoiloOtoc7YL2Q4ejeejl6HXorehi9DF0HboFfRfdjx5Ff8eQMZoYM4wzhoOJwiRgVmByMYWYckwt5hqmGzOI+YDFYmlYBtYR64eNxiZhV2O3Yg9ga7BN2E7sAHYMh8Op4cxwrrggHBeXgcvF7cOdwF3GdeEGcZ/wcngdvA3eBx+DF+Gz8YX44/hL+C78EH6coEgwJDgTggh8wirCdsJRQiPhDmGQME5UIjKIrsQwYhJxI7GIWE28RnxMfCcnJ6cn5yS3UE4ot0GuSO6U3A25frnPJGWSKYlNWkySkraRKkhNpAekd2Qy2YjsQY4hZ5C3kSvJV8lPyZ/kKfIW8hx5vvx6+RL5Ovku+dcKBAVDBZbCUoUshUKFMwp3FEYUCYpGimxFruI6xRLFc4q9imNKFCVrpSClVKWtSseVbiq9UMYpGyl7K/OVc5SPKF9VHqCgKPoUNoVH2UQ5SrlGGaRiqQwqh5pEzaeepLZTR1WUVexUIlRWqpSoXFTpo6FoRjQOLYW2nXaa1kP7MkdrDmuOYM6WOdVzuuZ8VNVQ9VAVqOap1qh2q35Ro6t5qyWr7VSrV3uijlY3VV+ovkL9oPo19RENqoaLBk8jT+O0xkNNWNNUM0RzteYRzTbNMS1tLV8tsdY+rataI9o0bQ/tJO3d2pe0h3UoOm46Qp3dOpd1XtJV6Cx6Cr2I3kIf1dXU9dOV6pbqtuuO6zH0wvWy9Wr0nugT9Zn68fq79Zv1Rw10DOYbrDGoMnhoSDBkGiYa7jVsNfxoxDCKNNpsVG/0gqHK4DCyGFWMx8ZkY3fj5cZlxvdMsCZMk2STAyYdprCpvWmiaYnpHTPYzMFMaHbArHMuZq7TXNHcsrm95iRzlnmmeZV5vwXNItAi26Le4rWlgWWM5U7LVsvvVvZWKVZHrR5ZK1v7W2dbN1q/tTG14dmU2NyzJdv62K63bbB9Y2dmJ7A7aHffnmI/336zfbP9NwdHB4lDtcOwo4FjrON+x14mlRnM3Mq84YRx8nRa73TB6bOzg3OG82nnP13MXZJdjru8mMeYJ5h3dN6Aq54r17XUtc+N7hbrdtitz13Xnete5v7MQ9+D71HuMcQyYSWxTrBee1p5SjxrPT+yndlr2U1eKC9frzyvdm9l73DvYu+nPno+CT5VPqO+9r6rfZv8MH4Bfjv9ejlaHB6nkjPq7+i/1r8lgBQQGlAc8CzQNFAS2Dgfnu8/f9f8xwsMF4gW1AeBIE7QrqAnwYzg5cHnF2IXBi8sWfg8xDpkTUhrKCV0Wejx0A9hnmHbwx6FG4dLw5sjFCIWR1RGfIz0iiyI7IuyjFobdTtaPVoY3RCDi4mIKY8ZW+S9aM+iwcX2i3MX9yxhLFm55OZS9aUpSy8uU1jGXXYmFhMbGXs89is3iFvGHYvjxO2PG+WxeXt5r/ge/N38YYGroEAwFO8aXxD/IsE1YVfCcKJ7YmHiiJAtLBa+SfJLOpT0MTkouSJ5IiUypSYVnxqbek6kLEoWtaRpp61M6xSbiXPFfcudl+9ZPioJkJSnQ+lL0hsyqEhj1CY1lv4g7c90yyzJ/LQiYsWZlUorRSvbVpmu2rJqKMsn6+fV6NW81c1rdNdsXNO/lrW2dB20Lm5d83r99TnrBzf4bji2kbgxeeOv2VbZBdnvN0VuaszRytmQM/CD7w9VufK5ktzezS6bD/2I/lH4Y/sW2y37tnzP4+fdyrfKL8z/upW39dZP1j8V/TSxLX5b+3aH7Qd3YHeIdvTsdN95rECpIKtgYNf8XXW76bvzdr/fs2zPzUK7wkN7iXule/uKAosa9hns27Hva3FicXeJZ0nNfs39W/Z/PMA/0HXQ42D1Ia1D+Ye+HBYevl/qW1pXZlRWeAR7JPPI86MRR1t/Zv5cWa5enl/+rUJU0Xcs5FhLpWNl5XHN49ur4Cpp1fCJxSc6TnqdbKg2ry6todXknwKnpKde/hL7S8/pgNPNZ5hnqs8ant1fS6nNq4PqVtWN1ifW9zVEN3Se8z/X3OjSWHve4nzFBd0LJRdVLm6/RLyUc2nictblsSZx08iVhCsDzcuaH12NunqvZWFL+7WAazeu+1y/2spqvXzD9caFm843z91i3qq/7XC7rs2+rfZX+19r2x3a6+443mnocOpo7JzXeanLvevKXa+71+9x7t3uXtDd2RPec793cW/fff79Fw9SHrx5mPlw/NGGx5jHeU8UnxQ+1Xxa9pvJbzV9Dn0X+736256FPns0wBt49Xv6718Hc56TnxcO6QxVvrB5cWHYZ7jj5aKXg6/Er8ZHcv9Q+mP/a+PXZ//0+LNtNGp08I3kzcTbre/U3lW8t3vfPBY89vRD6ofxj3mf1D4d+8z83Pol8svQ+IqvuK9F30y+NX4P+P54InViQsyVcKdaARSicHw8AG8rACBHA0DpQPqHRdP99JRA03eAKQL/iad77ilxAKAaMZNtEbsJgFOIGnkA5MIBwGRLFOYBYFtbmc70vlN9+qRgkRvLYbdJ6lblbwD/kOke/i91/9OCyax24J/2Xz70BdyZ8wvsAAAAimVYSWZNTQAqAAAACAAEARoABQAAAAEAAAA+ARsABQAAAAEAAABGASgAAwAAAAEAAgAAh2kABAAAAAEAAABOAAAAAAAAAJAAAAABAAAAkAAAAAEAA5KGAAcAAAASAAAAeKACAAQAAAABAAAIaKADAAQAAAABAAAAhgAAAABBU0NJSQAAAFNjcmVlbnNob3T6uRd4AAAACXBIWXMAABYlAAAWJQFJUiTwAAAB12lUWHRYTUw6Y29tLmFkb2JlLnhtcAAAAAAAPHg6eG1wbWV0YSB4bWxuczp4PSJhZG9iZTpuczptZXRhLyIgeDp4bXB0az0iWE1QIENvcmUgNi4wLjAiPgogICA8cmRmOlJERiB4bWxuczpyZGY9Imh0dHA6Ly93d3cudzMub3JnLzE5OTkvMDIvMjItcmRmLXN5bnRheC1ucyMiPgogICAgICA8cmRmOkRlc2NyaXB0aW9uIHJkZjphYm91dD0iIgogICAgICAgICAgICB4bWxuczpleGlmPSJodHRwOi8vbnMuYWRvYmUuY29tL2V4aWYvMS4wLyI+CiAgICAgICAgIDxleGlmOlBpeGVsWURpbWVuc2lvbj4xMzQ8L2V4aWY6UGl4ZWxZRGltZW5zaW9uPgogICAgICAgICA8ZXhpZjpQaXhlbFhEaW1lbnNpb24+MjE1MjwvZXhpZjpQaXhlbFhEaW1lbnNpb24+CiAgICAgICAgIDxleGlmOlVzZXJDb21tZW50PlNjcmVlbnNob3Q8L2V4aWY6VXNlckNvbW1lbnQ+CiAgICAgIDwvcmRmOkRlc2NyaXB0aW9uPgogICA8L3JkZjpSREY+CjwveDp4bXBtZXRhPgrOukqIAAAAHGlET1QAAAACAAAAAAAAAEMAAAAoAAAAQwAAAEMAACdNHzUbdgAAJxlJREFUeAHs3Xd4FNUax/E3xUgwFA1gLIQuKEgxdBRCR3oREAKhg/QiiFIEBJGOCFKkSQlFCNKlF+lNkggaVELxitQAAgklhLtncYednS0BsgTkO/fxmTnvOXNm9rP73H/y4xyPO6ZDOBBAAAEEEEAAAQQQQAABBBBAAAEEEEAAAQQQQAABBBBAAAEEEEAAAQTcJuBBQMNttkyMAAIIIIAAAggggAACCCCAAAIIIIAAAggggAACCCCAAAIIIIAAAgiYBQho8ENAAAEEEEAAAQQQQAABBBBAAAEEEEAAAQQQQAABBBBAAAEEEEAAAQTcLEBAw83ATI8AAggggAACCCCAAAIIIIAAAggggAACCCCAAAIIIIAAAggggAACCBDQ4DeAAAIIIIAAAggggAACCCCAAAIIIIAAAggggAACCCCAAAIIIIAAAgi4WYCAhpuBmR4BBBBAAAEEEEAAAQQQQAABBBBAAAEEEEAAAQQQQAABBBBAAAEEECCgwW8AAQQQQAABBBBAAAEEEEAAAQQQQAABBBBAAAEEEEAAAQQQQAABBBBwswABDTcDMz0CCCCAAAIIIIAAAggggAACCCCAAAIIIIAAAggggAACCCCAAAIIIEBAg98AAggggAACCCCAAAIIIIAAAggggAACCCCAAAIIIIAAAggggAACCCDgZgECGm4GZnoEEEAAAQQQQAABBBBAAAEEEEAAAQQQQAABBBBAAAEEEEAAAQQQQICABr8BBBBAAAEEEEAAAQQQQAABBBBAAAEEEEAAAQQQQAABBBBAAAEEEEDAzQIENNwMzPQIIIAAAggggAACCCCAAAIIIIAAAggggAACCCCAAAIIIIAAAggggAABDX4DCCCAAAIIIIAAAggggAACCCCAAAIIIIAAAggggAACCCCAAAIIIICAmwUIaLgZmOkRQAABBBBAAAEEEEAAAQQQQAABBBBAAAEEEEAAAQQQQAABBBBAAAECGvwGEEAAAQQQQAABBBBAAAEEEEAAAQQQQAABBBBAAAEEEEAAAQQQQAABNwsQ0HAzMNMjgAACCCCAAAIIIIAAAggggAACCCCAAAIIIIAAAggggAACCCCAAAIENPgNIIAAAggggAACCCCAAAIIIIAAAggggAACCCCAAAIIIIAAAggggAACbhYgoOFmYKZHAAEEEEAAAQQQQAABBBBAAAEEEEAAAQQQQAABBBBAAAEEEEAAAQQIaPAbQAABBBBAAAEEEEAAAQQQQAABBBBAAAEEEEAAAQQQQAABBBBAAAEE3CxAQMPNwEyPAAIIIIAAAggggAACCCCAAAIIIIAAAggggAACCCCAAAIIIIAAAggQ0OA3gAACCCCAAAIIIIAAAggggAACCCCAAAIIIIAAAggggAACCCCAAAIIuFmAgIabgZkeAQQQQAABBBBAAAEEEEAAAQQQQAABBBBAAAEEEEAAAQQQQAABBBAgoMFvAAEEEEAAAQQQQAABBBBAAAEEEEAAAQQQQAABBBBAAAEEEEAAAQQQcLMAAQ03AzM9AggggAACCCCAAAIIIIAAAggggAACCCCAAAIIIIAAAggggAACCCBAQIPfAAIIIIAAAggggAACCCCAAAIIIIAAAggggAACCCCAAAIIIIAAAggg4GYBAhpuBmZ6BBBAAAEEEEAAAQQQQAABBBBAAAEEEEAAAQQQQAABBBBAAAEEEECAgAa/AQQQQAABBBBAAAEEEEAAAQQQQAABBBBAAAEEEEAAAQQQQAABBBBAwM0CBDTcDMz0CCCAAAIIIIAAAggggAACCCCAAAIIIIAAAggggAACCCCAAAIIIIAAAQ1+AwgggAACCCCAAAIIIIAAAggggAACCCCAAAIIIIAAAggggAACCCCAgJsFCGi4GZjpEUAAAQQQQAABBBBAAAEEEEAAAQQQQAABBBBAAAEEEEAAAQQQQAABAhr8BhBAAAEEEEAAAQQQQAABBBBAAAEEEEAAAQQQQAABBBBAAAEEEEAAATcLENBwMzDTI4AAAggggAACCCCAAAIIIIAAAggggAACCCCAAAIIIIAAAggggAACBDT4DSCAAAIIIIAAAggggAACCCCAAAIIIIAAAggggAACCCCAAAIIIIAAAm4WIKDhZmCmRwABBBBAAAEEEEAAAQQQQAABBBBAAAEEEEAAAQQQQAABBBBAAAEECGjwG0AAAQQQQAABBBBAAAEEEEAAAQQQQAABBBBAAAEEEEAAAQQQQAABBNwsQEDDzcBMn3wCCQkJsn37Dtm8ZatERETKX3/9JdevX5ccOXLIa6/llJw5ckrp0u/I66/ncfnQRYvD5cD+Ay7HBbwUIG/myydvvPG6vPTSS07HJ2VO72e8xd/fXzJkyCBvFSokefO+4XRO684rV67Ihg0b5Yc1a+X48eNy6tTfkipVKnnllVfM71e9WlUpVryYeHt5Wd/GNQIIIIAAAggggAACCCCAAAIIIIAAAggggAACCCCAAAIIIIDAYyBAQOMx+BJ4BdcCKpDQtduHEhUV5XJwnTq1pVvXLhIYmNnh2I8/7iMLv1vksN9ehwpWfNijmzRs2EA8PT0NQx5kTvWO/fv1lQoVyhvmsy7ExByTkCahcvr0aeuy4bpc2WAZP36cpE6d2tBHAQEEEEAAAQQQQAABBBBAAAEEEEAAAQQQQAABBBBAAAEEEEAg5QQIaKScPU9OgsCdO3dkwYKF0qdv/ySM1g/5atxYqVGjur74b+tBwhSWid57r66MGD5MPDw8LCXz+WHmbNO6lfTp87FuPksjMjLKHM64du2apeT0nC9fXpk29Rt58cVMTsfRiQACCCCAAAIIIIAAAggggAACCCCAAAIIIIAAAggggAACCCDw6AQIaDyk9R25I7+d/l2Onj0qF65ekAvXTP9dvWg+x5ra6njBz1/8nzP95/e8+fyC3wuSM1NOeS0gl3iY/sfhWGDo0GEyddp0xwNc9CyYHybFihU1jHqYMIWabMSIYVL/vXq6ed0x5+HDv0j1GrV0z7E0nnvuOXEU2ggICJAtmzfIs88+axnOGQEEEEAAAQQQQAABBBBAAAEEEEAAAQQQQAABBBBAAAEEEEAgBQUIaDwAfsLtBIn4M1J2/rFLdh/dLef/DWLc71QZTMGN4jmKS8mcJaRg5gLi7eV9v1P8p8f/+mu0VK1Ww+5nbNu2tRQpXFief+F5OXP6jGzfsVPmz19gGKtCDKtXrTBsd2IvTKHGWY7ExES5dOmS/PLLLzLuqwmGIES2bNlk08Z1luHms705l4Tf20bl5s2bEhMTI9FHfpPw8CWGOdW7HvxpnzzzzDPavN269ZBly++9l+qoXLmSfNy7l2TJkkWuX78ue/fuk46duhjmGzliuKjVPjgQQAABBBBAAAEEEEAAAQQQQAABBBBAAAEEEEAAAQQQQAABBFJegIDGfXwHx88fl/l7FsrumD0SfzP+Pu50PdTXx1eKZy8mjYo1lKwZsrq+4T8+Qm1t0qBBI9l/4IDukxYpUlimTJ4kzz+fXldXjePHj0ujxk3l9OnTur4O7T+QXr0+1NVswxQqHHHo5wjdGEvjzJmzUr5CJUMAIiryJ0mTJo1lmNzPnEeOHDFtW9JMLly4u8qKZZJpU6dI+fLlzE0V6MidJ6+ly3x+++1SMmP6VF2IQ3XExBwzv6P1YLW9i9rmJTmPhIQE89YuXl5eDzXtjRs3xMfHx7BNzENNys0IIIAAAggggAACCCCAAAIIIIAAAggggAACCCCAAAIIIIDAYyxAQCMJX865K+dk1o45sv6XDaKCA+48PDw8pOIbFaRZqaaSMU1Gdz7qsZ576bLl0r27PlSRL19eWbxoodNtO1RIo2y5irrP5u/vL3v37BRPT0+tfj9hCnXTqFFj5OuJk7T71cXmTesla9asWu1+51y6dJl079FTu19dfPhhd+nUsYO5dvLkn1Im+G5YwzJo9KgRUrduHUtTd65f/31doEV5rVi+VDfmfhtqhY41a9ZK+JLvRa1oYgmUFC9eTAoVLCj5C+SXChXKm1Z/cR7YUFu1bNy4SaKjo+VgRKQWolErkbz+eh4JCWkkJUuU0L3eqVOnpN0Hdy0sHWVKl5aePXtYmobzwEGD5YBNqOe7hfPF19fXMJYCAggggAACCCCAAAIIIIAAAggggAACCCCAAAIIIIAAAggg8CgFCGg40b56/aos2PudLD24TG4m3HQyMvm7fLx9pHahWvJ+0Qbil8ov+R/wmM/YNLS5bN++Q/eWKmygQgeujgEDP5PZs+fohqmtRgoVKqjV7jdMMXzESJk8+RvtfnUR/eshXVjkfue0FyZRQYUhgz8zP+f8+fMyZMhQSbh9W3tu7496SebMr2pt64suXbvLihUrtVLhoCBZtMi47Ys2wMVFhClI0bpNOy2U4Wi4WtVjwvhxki5dOsOQ26Z3nzp1uig/V4daHUWtDuLnd+/3Xq58JTl27Jh2q1rpJCLigN1ASHx8vLyRN782Vl2o79x6mxldJw0EEEAAAQQQQAABBBBAAAEEEEAAAQQQQAABBBBAAAEEEEDgEQoQ0HCAffBkhHy+8gv5J/4fByNcl9VqGOp4mFU30vqmlb7VP5FCgffCBa6f/OSPKFykuC4YoP54r1ZCSMoRFxcn586d0w0NCAh44DDFrVu3pHKVarqggL3ww/0GNOxtS9IkpLEMHjxI9+5JbZQo+Y62MoW6p1XLFtKvX5+k3q4bt2XLVmnRsrWu5qyhVsKYOWOqZMmSRTesY6cusnr1D7qas4ZamWP2rJnaFi5q1RK1eon1oX4H6vdge2zatFlatW6rKytLZcqBAAIIIIAAAggggAACCCCAAAIIIIAAAggggAACCCCAAAIIpLQAAQ0738Cyg8tl8pZv5HbivZUL7AzTSql9UkvR7EXkzVfyib+fv/bfC889bx4Te+2iXLh64e5/12Ll5//9LHtj9knczThtDmcXXp5e8kFwW6lVqKazYf+ZvsuXL0vBQvo/wH/av5+0aNEs2T5jUsMUf//9t/T4sJfs3r1H9+zJk76WypUr6WpJndNy0+LFS6TXR70tTfNZbd/RsUN7XS0pDXvbpYwdO1pq17r/34zaxqRMcHm5du2a4dEqiKFW8Pjxx22Gvvz588vS7xeLJZh04Kef5L33GhrGBQeXkaJFi8g///xjWuEjXBfEUYMnmWyr/Gt74sQJCS5bQTdHu3Zt5OPeH+lqqvFJn36yYMFCXX3f3l2SIUMGXY0GAggggAACCCCAAAIIIIAAAggggAACCCCAAAIIIIAAAgggkBICBDSs1BMSE2TCxomyOsr1v/hPnzq9vJ2rlJTMWUIKZi5g2nLB22om15cJtxMk4s9I2fnHLtn++w65FHfJ5U1V878rncp3EG/P+3uWy4kfswGRkVFSu0493VvNnTtLSpUsqas9TMM2TKHmUsEBy5GYmCiHD/9iCA+o/kGDBkho0yaWodrZdk61HcehnyO0fuuL/QcOSPPmrQwhiOmmLT7KlQ22Hury+tSpU1KpclXdXLly5ZRVK5drK1G4nMRqwKefDpQ5c8OsKiIqfPHVV2MlS2Cgua62X2nVup1ERUXpxi2YHybFihU119SWMLZbmyxftkTefPNN7Z6LFy9J45CmEh0drdXerVJZJk6coLXr1qsvBw/ecwwMzCxbt2zS+tWF2gamYMEgnYFyVJ4cCCCAAAIIIIAAAggggAACCCCAAAIIIIAAAggggAACCCCAwOMgQEDj32/hyvUrMnDZYPPqFs6+GF8fX2lYpL7UC6orzz7zrLOhSe67ceuGhB9YIgv3LZL4m/FO73vz1TdlYK3+kiZVGqfjnuROe6tB/LB6heTJk8fwsdRqGzNmfiuJiXcMfdaFwkFvSZkypbWSbZhC63ByoZ4/edIEwzYellvszalWsbAcaquUmJgY+e3Ib7Jp8xZLWTv7+/ubVurYYQr7eGk1VxexsbHyXv33dduvqHsWL14oQW+95ep2Q//NmzflraCiuqCDCpqsW7taXn75Zd14FZpQ4Qnro/dHveSDD+5uMzJkyFCZPmOmdbfs3bNTMmbMqKupebZt2y4BLwXIi5kymXwDJWvWrNqYsLD50q//p1pbXaz5YaXkzp1bq6nAS32Tg/Xx1bixUqNGdesS1wgggAACCCCAAAIIIIAAAggggAACCCCAAAIIIIAAAggggECKCRDQMNGrlTN6L+rjNJyhVq2oVqCqNCnRWNL5pnPLF3Y5/rLM3TVPVkWuNr+To4eokMbw+kP/sytpzJ4zVwYMGKT7+OvXrZGcOXPoaqph7w/zhkGmgto2RG0fYjnshSksfa7Obdu2FhVE8PT01A19mDnVRNZbe+gmdtBQW4SENAmVQ4cO60a0atlC+vXro6sltbFjx05p0lS/lUz/fn2lZcvmdqeYOm26nDl9RutTIZh33nnb3Lb3PRYvXkw6tP9ASpYsIV5JDKKoLVcKFymuPUNdfPRRT2n/QTutplbqUCt2WB+HD0VK6tSprUtcI4AAAggggAACCCCAAAIIIIAAAggggAACCCCAAAIIIIAAAikmQEDDRP/l+q+cbmuSKW0mGVRrgOTIlP2RfFFHz8bIgGWD5Ow/Zx0+T2130q1iF4f9T3LH6tU/SMdO+s+2aNECKRwUZPhYyRnQqFevrm7+S5cumVa02KNbTcIyoGmTEPNWJx4eHpaSPExAw1kIQnuA1YVaOSS0WUvDFiMVK1Ywbw9yP6twWE0rC79bZP4c1rV5YXOkRAl9QMK639H1kSNHpMq79lewUKtyvP12KSlUsKBpa5ICEmRa4cTb2/HWPa1atdGtOqK2XFm2NFx7dJngcnLy5J9au06d2jJm9EitzQUCCCCAAAIIIIAAAggggAACCCCAAAIIIIAAAggggAACCCCQ0gJPfUBj2cHl8vWmSQ6/hzdefsO8pUj61OkdjnFHx6W4S+YtV3459YvD6TuWay+1CtV02P+kduzbt18aNGyke/1xpu0qatrZriKpAY3OnTtKj+7dtDltwxQqMHDo5wit33Jx584diYiIlDZtPxC1koP1MXbMKKldu5ZWsp1T63BxsXLFMsmb9w0Xo+51X7x4yRTOaG5YOaNkiRIybdoU8fX1vTf4Pq/Gj/9axoz9UneXvW1JdAOcNEaOHC0TJ012MuJul/IPCWkknTp2kDRpjNv3rFy5Sjp3uff9qbt27dwmAQEB8tvvv0vlylV1z/h25nTdlja6ThoIIIAAAggggAACCCCAAAIIIIAAAggggAACCCCAAAIIIIBACgg81QGNgycjpE94P7mdeNsufaW8Fc2rVHh7Of6X/XZvTKZiwu0E8+oe6w6vtzujl6eXDK03RAoFFrTb/6QWjx8/LmXLVdS9vgpCqECE7XHr1i2Jjb2oK587d05q1Kytqw0aNEBCmzbRarZhCkcBDcsNJ06ckOCyFSxN81mtuDFq5HCtZjun6lArY1iOEydPyuzZcyxN7bxn907JlCmj1nZ2ERsba9rWpJlER0frhqmtQ6ZPm2ra0uPBwxlqQhXOUCEN6yPi4H5Jl+7Bt/VZvHiJDBz0md2VSKyfo65V4CJ88UJ5+eWXdV1xcfGSN19+XW3o54OlUaP3ZcqUqTJs+AitT32X6p2drcihDeYCAQQQQAABBBBAAAEEEEAAAQQQQAABBBBAAAEEEEAAAQQQeEQCT21A4+r1q9J8Riv5J/4fu9QqnNGzSg+7fY+6OGrNGHEU0kjrm1a+bTld/FL5PerXctvzEhMTpdTbZeT06dPaM9Qf3Xds35qkoMD69Rukbbv22r3q4pspk0Rt/2E5bMMUrgIa6r769d8XtWKH5fD395f9+3ZbmoYtTuzNOXToMJk6bbp2j7poEtJYBg8epKvZa6jgSUiTUPn99z903ckVzlCTzp4zVwYM0L/LkvBFUqjQw4WAEm7flj179si2bdvlwP6fdI66D2NqlC79jsz6doZtWXr26i3h4Uu0enBwGZk5Y5rUql1Pt9VLy5bNdcEY7QYuEEAAAQQQQAABBBBAAAEEEEAAAQQQQAABBBBAAAEEEEAAgRQUeGoDGlN/nC6L9i22S6+2NRnVYLik1MoZti+lVtLo+V1vcbTdSYMi9aV16Za2tz3R7dFjvpQJE/QrOYSGNpVBAz91+bls/5Cvbtiwfq3kyJFdu/dBAhqdOneVVatWa3Ooi8iIA5I2bVpzLSlzXrx4Ud4KKqqbQzVs3892wJkzZ6VR4yZy7NgxXVfhoCCZNWuGaeWM1Lr6gzbWrF0n7dt31N0+YsQwqf9ePV3N0jh4MMK0gkmspSmvvfaaZM78qtZ2dJGQkGDaOiZC5s6dJ8uWrzAMO3wo0vCZVLgjtFkL3di1a1ZJ5SrVdLXkCJToJqSBAAIIIIAAAggggAACCCCAAAIIIIAAAggggAACCCCAAAIIJIPAUxnQOHflnLSY0VpuJtw0EGZKm0kmhIyT9KnTG/pSsnAp7pJ0CusqZ/85a3gNH28fmdlymmRMk7RtMgwTPIaFI0eOSJV3qxvebOCA/tKsWaihrgp37tyR4SNGmre8sB6gVn9Qf7S3PpISprAef/bsOSlXvqJhm46jfxwRT09P89Ckzvn1xEkyatQY6+mlcuVKMnmSPpBiGaBWEmn4fmM5efJPS8l8Vp9r9qyZ4ud3/6unXLt2TdQKH7bHhQsXpHCR4rpyrlw5ZdnSJeLrq98+JS4uzrTtSAHd2D6f9JY2bVrLbdOKGUePHpXzpvkunL8g586dl6Cgt6RAgfy68arRvUdPWbp0ma6+5oeVkjt3bl1NrcJRsGCQ7jtQARXrVU0CAzPLls0bxcPDQ3cvDQQQQAABBBBAAAEEEEAAAQQQQAABBBBAAAEEEEAAAQQQQCClBZ7KgIajLUO8Pb1lvCmckSPTvZUWUuILir8VL77P6P8Yrt7j6NkY6WwKaSQkJhhe63HaksXwcg9YGDzkc5kx41vD3VWrvittTSGAN9/MZw5HqBUcoqJ+luUrVsr33y81jB87ZpTUrl1LV09qmCI+Pt60NcdeGfrFMMPWIiocsGjRAm3epM6pgg2ly5QTFYawPtRcak7r49SpU+aVM2zDGfnz55e5c76VNGnSWA93eX3ixAkZMXK0rF79g+TLl1c+7NFd1FYh1kez5i3lxx+3WZekYYP68sUXn2vBBxWWGDTwM5kbNk83bsuWjZIlMFBu3LgheV7Pp+sLCAgwrRSyxhAM6df/UwkLm68bu2/vLsmQIYOuphpDhgyV6TNmGuqWQvduXaVLl06WJmcEEEAAAQQQQAABBBBAAAEEEEAAAQQQQAABBBBAAAEEEEDgsRF46gIax88fl3azO5hXW7D9FmoVqikdy7W3LT/Sduy1i9LLtJ1JcO7S0rRkE8Ozv940SZYdXG6oqxUDpoROlKwZshr6ntSCCkdUq17LsK2H9efx9/c3BB2s+ytWrGBemcKyyoWlzzZMoeoqQGB9XLlyRbdag3Wfuh47drTUrlVTK9vOqVaoOPRzhNZvfTFv3gLp26+/dUnUihjhi7/TQhAqyFG+QmVRK2jYHmpuV+EMH59nZOGCebrP1a1bD92WIspv544fxcfHR3uE2rakbr36WttyoXwqlC8n/hn8ZfPmraZQTJSly3xWgY8Vy+8FZGw91CAVQKlRo5pp5Y28phU2YmTr1h/NYRHribJlyyabNq6zLmnXkZFRUruO/e1W1KCNG9ZJ9uzZtPFcIIAAAggggAACCCCAAAIIIIAAAggggAACCCCAAAIIIIAAAo+LwFMX0Phi1XDZHL3F4O/r4yuzW8+UdL7pDH2PqmAJZ/wZe3cri6YlQgwhjcvxlyV0WguJvxlveK2yeYLlk2q9DfUnuaBWfGjRso3TkIajz6e25li8aKGkTZvWMMReeMAwyEmhXbs20qvnh+Ll5aWNsp3TWUDj1q1bUqFiZcO2JZNM25xUMW13oo7Tp89IiZJva/M/yMUPq1dInjx5zLeqVS9y5bp7bT3X3LmzpFTJktYlGWlaZWPipMm6mqvGzBnTdKtxREdHy7tVa7i6zdA/ffpUKVc22FBXBbWNTXDZ8gY31WcbEFE1DgQQQAABBBBAAAEEEEAAAQQQQAABBBBAAAEEEEAAAQQQQOBxEXiqAhoJtxOk3sQGdsMNzUuFSuPijVLse7ENZ1hexF5IY97u+fLtjtmWIdpZhUzCO3wn3l7eWu2/cKFWsuj10ceydq39VRXsfcaQkEbSt88n4utr3CpGjbcNU9ibw1Ft9KgRUrduHUO37ZzOAhrqZrXNSMdOXXTzBAZmNq8C4e3tnewBDfWgVq3ayKbNW3TP3LVzu2mVjRd1tcTERJkwYaKM/XKcrm6voT7nnNnfmlcAse3fu3efNHy/sW3Zblut5jFp4gQpUqSw3X5Lcfz4r2XM2C8tTe08aOCnEhraVGtzgQACCCCAAAIIIIAAAggggAACCCCAAAIIIIAAAggggAACCDxOAk9VQGP/8QPSJ7yfwT996vQyp/W38uwzzxr6HkXBUTjD8mzbkMaNWzek6bTmcinukmWIdh5ab4gUzhqktf9LF4cP/yLzFyyQsLD5dj+WCgrUq1dX6tSuJQULFrA7xlK0DVNY6vbOamuPzJlflbKmVR3erVJZsmbNam+YIfShAgf79+22O1YVVQiiVu26cujQYd2Y8V99KdWrV3NLQENtEdK9R09tRZI+fT6WNq1b6Z5v3dh/4IDMnDnLsA2JZYzy6N27l2TJksVSMpzVFi1z5oTJrNlz7G4Zo1Y6KVa0qPTo0U2ef/55w/22hZiYY6atX+6uMmLdt2f3TsmUKaN1iWsEEEAAAQQQQAABBBBAAAEEEEAAAQQQQAABBBBAAAEEEEDgsRF4qgIaX22YICsjVxnwqxeoJl0qdDLUH0XBVThDvYNtQEPVHH2WGqbP0jmFPot6r0dxqG0uYmNj5e+/T0tCQoJpmxFPyZgxk2TImMG0esi9LUcexbs8ic9QfseOHRd//xckXbqkbelz9epVOXXqlJy/cEHuJN6R9OnTm0IZgeLn55dkArXFyvlz503Bk9Pm7++ll16SbNmySqpUqZI8BwMRQAABBBBAAAEEEEAAAQQQQAABBBBAAAEEEEAAAQSefAH1D5gXhy+Ro0ePyh9/HBW1on62bFklMDBQihcvJvVMq9mnTp06WT7or79GS9i8eZJwK0E3n/pHyI7+8fCw4SPk0kXjP5bXTWCn8frreaRZs1A7PfdKF0x/b/tm6jS5fOnyvaLpqn6D9yTorbd0NUtj8eIlsn//fkszyWfvZ7xlyODPtPHbtm2XVatWa+37vfA0/S22V88PTW7p7/dWxv8r8NQENO7IHQmZ0lTOX71g+PJTatWJBw1nqA/gaDWQDH7+EtZujniY/seBAAIIIIAAAggggAACCCCAAAIIIIAAAggggAACCCCAAAIIPC4C//vfX6bV2T+Rnbt2OX0ltXJ+9+5dpVXLFk7HOeuMj4+X8eO/lkmTp9gdtnbNKnnttdfs9mXLnstu3VWxfPlyMm2q/eepf0QdHv69DBz0md1V51WQIiSkkd1HtG3XXtav32C3z1XxWMzv2pBZs2abnj9Yaz/IxbKl4ZI/f/4HuZV7TAJPTUDjyOnfpHNYV8OXntontSzusNC08oK3oc+dhYcJZ6j3SridIO9NbChxN+MMrzk+ZJzkDrD/fyaGwRQQQAABBBBAAAEEEEAAAQQQQAABBBBAAAEEEEAAAQQQQAABNwv8/vsf0qhxE1ErSCT1aN48VPr36yuenp5JvcU8Tq0U8ZEpCKJWdnd0OApoxMXFSd58BRzd5rTuKKBx/Phx6dv3U6fBFGcBjVq160lUVJTTZzvqJKDhSCZl6k9NQGNV1GoZt368QTk4TxnpU+1jQ92dhYcNZ1jebeiqYbIlequlqZ27Vuws1fJX1dpcIIAAAggggAACCCCAAAIIIIAAAggggAACCCCAAAIIIIAAAiklcPnyZSn1dhm7K0e4eqce3btJ584dXQ0z96vwx+dDh8n33y91Od5RQOPPP/8npcuUdXm/vQG2AY1bt27J1GnTZeTI0faG62rOAholSr7jNGyim8imQUDDBiSFm09NQGPOzrkyZ1eYgbtzhU5So0A1Q91dheQKZ6j3WxG5SsZvmGB41aYlQqRpySaGOgUEEEAAAQQQQAABBBBAAAEEEEAAAQQQQAABBBBAAAEEEEDgUQsMGTJUps+YafexlStXMm01kkt27dwt+w8csDtm249b5NVXX7HbZ11UQYiJkyZblxxeOwpoREZGSe069XT3BQQESM6cOXQ1e43g4DK6bVm2bv1RmrdoZW+ooeYooKG2RsmeQ797gtoCplChgoY5bAsZM2aUMaNHauU1a9dJWNg8re3s4q+/TsmxY8cMQ1YsXyr58uU11CkkTeCpCWh8uX6crI5aY1AZWOtTKZmzhKHujkJyhjPU++38Y5cMXPaZ4VWr5q8i3Soat3MxDKSAAAIIIIAAAggggAACCCCAAAIIIIAAAggggAACCCCAAAIIuFHgxMmTEhxc3vAEFTJYEv6dKZxxN3yggghfT5wko0ePNYytU6e2LmhgGPBvYdSoMeY5rPtz5copansV28NRQGPT5i3SqlUb3fA+fT6WNq2TFrSwvlFttRLarIV1Sfz9/e1u8+IooKFWHylYqLBujnJlg2X69Km6WnI32rZrL+vXb9BNmy1bNlm37gfx9vLS1WkkXeCpCWj0/36g7InZY5AZHzJOcgfoE0eGQclQSO5whnqlI6d/k85hxiBGsezFZHCdgcnw1kyBAAIIIIAAAggggAACCCCAAAIIIIAAAggggAACCCCAAAIIPLjArFmzZeCgwYYJ5s6ZJaVKldTVVUijpSkcsWXLVl1dNY5EHxYfHx9D3bpgHdBQAZD+/fqI2nakSFHjP9h3FND4btFi6d37E+tpZdy4sVKzRnVdLSkN24CGCnl069bFvEKHbWjEUUAjJuaYlK9QSfe4Ro3el6GfG011gx6i8fOhQ1KzZh3DDF+ZHGo8gINhoqe48NQENDrM7Sx/nDEmo+a1mysZ/Pxd/gSuXr8qfqn8XI6zN8Ad4Qz1nPNXL0jjKcatTHK+mFMmNhlv71WoIYAAAggggAACCCCAAAIIIIAAAggggAACCCCAAAIIIIAAAo9MoGloc9m+fYfueYGBmWXL5o3i4eGhq6vGjp07pUmTZob6/HlzpXjxYoa6dcES0KhVs4b07fuJqC0+YmNjJaiw8T5HAQ21RYraKsX6SMqzrcdbri0BDbUlyLAvhkrevG+YuypVftewqoejgIba9qV+/fctU5rP3bt1lS5dOulqydlo3aadbNy4STclq2foOB648X8AAAD//wN04qcAACx+SURBVO3dd3wUxf/H8Q9JqFJCQokg0hGkiQ0pKtKkd4j0KkgJxUbvSG+hhA6hlxAg9GKhCKFKUfzRVbAgEAQFIhDgdzO4x97tXQpwwte81ge5nc/Mzu49N9+/8v7OJLlnOyQRHO9NbSSXr//h8E2TJEkiG7qtFa8kXg5158aMbTNl56ldMjpwlGRI7e/cHWtb3fOTZd3l3OVzbsc1LdFYmpZs4rbfXcfde3el8rhq4vwK/Z5JL0s+WOTuMuoIIIAAAggggAACCCCAAAIIIIAAAggggAACCCCAAAIIIICAxwVu3bolL+QvaLnPRx92k06dOljqqhBz547kzZvf0telS5B07dLZUjcXvvzyK0maNKm8+WZpe/ny5cvyyqvF7W3jZNPGdZIvXz6jaf8cPOQzmT071N5WJ59v2STJkyeX3bv3yLfffScnTpwQf39/yZE9u1StWkUKFLA+r7rup59+km3bd0ijRg3Fx9tblfRR8d3KcvLkKaOpP4cMHiSNGzd0qKnGpk2b5YP2HR3qw4d9JpUrV5KduyLl2yPfytHvv9ffO3v25+XN0qX19/c23c/h4jgahw8fkVq161pGTZwwXqpVq2qpU0iYQBICGrEHNFQ4I2x/uFbNmj6rjAkcKX7P+MVL2ZPhDPUABDTi9RoYhAACCCCAAAIIIIAAAggggAACCCCAAAIIIIAAAggggAACT0Dg/PnfpUTJB2EJ4xHmzJ4pZcq8bTQtnw0bNdFhCHNHYIP6Mnz4UHMpXucJDWh0Cuoi69atd5i7R/dPZfiIkQ41c6NKlcoyftwYHZIw192dJySgsWjREundp6/DVO3avS8REWvk/PnzDnWjkTNnTlm0cL4EBGQ2SvH+bNmqjWzdus1hvJpvy+YN8rChD4fJEnkj0QQ0OiwIklO/O6aQ1Ltf1G6B21UxzOEM4/ckm18220oaIyR9qvRGyeWnp8MZ6qaXrkVJo2lNLPfPkzmPhDSZaKlTQAABBBBAAAEEEEAAAQQQQAABBBBAAAEEEEAAAQQQQAABBP4tgWPHjknlKtUtt1sdsUIKFy5sqRuF7t17yrKw5UZTf5YrV1ZmzpjmUItPI6EBjQaBDWXfvv3xmdphjAppBAePc1gpw2GAqZGQgMaECZNk3Phg09XxO1WhimVLF0mGDBnid4Ft1MGDh6RO3fqW8ZMnTRD1/TgeXSDRBDT6rhwge87ssYhNbBwsLwRYl65xFc4wLs7u/7wtpDFS0qVMZ5QcPv+NcIa64fHzJyRoYReHe6tG8VzFZXDtAZY6BQQQQAABBBBAAAEEEEAAAQQQQAABBBBAAAEEEEAAAQQQQODfEoiM3C2NGje13G7H9q3y3HNZLXWjMGTIUJk1e47R1J/Fir0kK8LDHGrxaSQ0oPF2mbJy9uy5+ExtGVO7di0ZPWqEeHl5WfrMhYQENPr1GyDzFyw0Xx7v87x589hCGkvE19f137WdJ2reopVst23JYj7UHBvWr2X1DDPKI5wnmoDG+C3Bsv7IRgvVgJr9pGSeEpZ62L7lMmP7LEvdKOTMkENGNRghaVOmNUr6898KZ6ib7ToVKQMiBjncXzWqFKkkXStYgxuWgRQQQAABBBBAAAEEEEAAAQQQQAABBBBAAAEEEEAAAQQQQAABDwls27ZdWrRsbZn9wP494ufnZ6kbBVcBjfz589uCAmuMIfH+TGhAI2euvC7nbt68mbzycjHdt2fvXlm4cLHLcQvmz5VSpUq67DOKCQlodOjQSTZs3GRcav+sUKG8lCv7jvj7+8uBb76RsLBwiYqKsvcbJ0FBHeXDbl2NpttPNUe9eoGW/pDJE6Vy5UqWOoWHE0g0AY35uxbI/EhrsiioXEep/lI1l3pL9i6T2Tsck1nmgbkz5ZKR9YdLmhRpdPnfDGeoG645tFYmfjHZ/Ej6vGmJxtK0pHXrE8tACggggAACCCCAAAIIIIAAAggggAACCCCAAAIIIIAAAggggICHBA4dOiy169SzzB7XChoffvSJrFy5yuG60qVLyfx5oQ61+DQSGtC4cuWqnDp1Uk6cOCVqi5afzp6Vrl06i1rBw3xs3bpNWrZqYy7p85o1qsv48WMtdXMhIQGN6OhoOXPmBzl58qQcO35cjh8/oQMTDeo7uqpVP9T2JM4hDRXg2LN7Z5wrYDRt1kK+/nqn+TGF1TMcOB5LI9EENNYdWS/BWyZa0Mrkf1t6Ve1hqRuFRXuWSOjXc42m5TNv5rwyov4wuRVzSz5Z1l3OXXa/3M3jDk4MXTdcth7bZnmmLhWCpGqRKpY6BQQQQAABBBBAAAEEEEAAAQQQQAABBBBAAAEEEEAAAQQQQODfEvjpp5+kzDvlLbdbuyZCChZ80VI3Cq622ohP8MG43vyZ0ICG+dq4zkePHiuTQ6Y4DMuZM6d8+cVmh5pzIyEBDedrY2vv2PG1NGve0jJkd+ROyZw5k6VuFPbv3y/1GzQ0mvbPkJBJUrnSu/Y2J48ukGgCGsfPn5CghdZtP1IlSyXLOywVH28ft5oLIhfJvF3z3fa/EJBPbtyK/lfDGTF3YqReSKDtvjcszzWxcbCoZ+JAAAEEEEAAAQQQQAABBBBAAAEEEEAAAQQQQAABBBBAAAEEnpSAWo2i2MuvWm4/dswoqV27lqVuFMqWqyg//PCD0dSfrVu1lD59ejnU4tPwZEDDXSDihzMnY300TwU0rl27JoWL3N+GxfwAq1evlMKFCplLDueNGzeTXZGRDjW1esbGDevEy8vLoU7j0QQSTUDjntyTxtOayqVr1n13htYdIq/meCVWSRXQUEGNhzke98oZ6hn2/3hAeoX3sTxOhtT+srDdfEli+48DAQQQQAABBBBAAAEEEEAAAQQQQAABBBBAAAEEEEAAAQQQeJICJUq+KefPn3d4hMaNG8qQwYMcakbj1KnTUqFiJaNp/xwzeqTUqVPb3o7viScDGocPH5FatetaHuXM6ROSJIn7v9d6KqARc+eObVuS/JbniVgVLkWKFLHUVWHPnr3yXsPGlr6pUybLu+9WtNQpPJpAogloKKYJn0+StYfXWcSqFa0qnct3stSdC2qrE7XlSUIOT4Qz1P3dfZfqtu8SFI/vkpDvwFgEEEAAAQQQQAABBBBAAAEEEEAAAQQQQAABBBBAAAEEEEDgYQQGDhosoaHzLJd+e+SgpE6d2lIPDp4o44MnWOpxbdNhueCfQkICGkuXhUmPHo6rdJQuXUrmzwt1Of28+Qukf/+BDn2Pc4uTkydPiQpzmI9nnnlG9u7ZJalSpTKX9fmxY8ekcpXqlnpsdg0CG8q+ffsdrsmfP7+sWxvB6hkOKo+nkagCGu5WnfBN5Svz24RK8qTJ41SdvWOOLNm7LM5xaoCnwhk3b9+UpjNbyJUbVyzPEZ/VQCwXUUAAAQQQQAABBBBAAAEEEEAAAQQQQAABBBBAAAEEEEAAAQQ8IPDlV1uldev3LTO3aNFM+vfr61BXAYN69d+T69evO9RVYGDD+jUOtXv37ulggQoxVKlSSdKnT+/QbzQSEtDYuXOXNGna3LjU/rlm9SopVKigva1OLl68aHvWQDl79pxDvUqVyjJ5kjVgYh4U3xU0oqOj5cWC1pUvBg7sL82aNjFPKWr1jC5dusn69Rsc6irQcfjQAfH29naoq0Zk5G5p1LippT5taohUrFjBUqfw6AKJKqARcydG6oY0kOhb0Ra5FqWaSaM3Glrqrgozts+SsH3LXXXZa54KZ6gbLNq9WEJ3WlNmKZOllPAOy8TH28f+HJwggAACCCCAAAIIIIAAAggggAACCCCAAAIIIIAAAggggAACT0pABQeqVKkmKkjhfDRv3kw+aNdWUqZMIbt375HeffpJVFSU8zAZN26M1KpZw16/ffu21KhZR1SgwzhchRZUX0ICGleuXJViL79qTGn/9Pf3t4VJ+kj58uXkju37HDx4SAYP+czldwqdM0vefvst+7WuTuIb0FDX1qlbX9/PeZ6PPuomjRs11KuQfPfdUZk5a7YlnKGu6dD+A/nkk4+cL9ft+rYwzP4DBxz6WD3DgeOxNxJVQEPpDVs3Qr46ttUCqcIN89rMkXQp01n6XBWmbZ0h4QdWuOry2MoZ6mZXo69Ks5ktXYZM3slfRnpW7e7ymSgigAACCCCAAAIIIIAAAggggAACCCCAAAIIIIAAAggggAACT0LA3coU8XmWYsVekuVhSx2221i7dp0Ede5qufz7o0dsYY+UDvWEBDTUhSNGjpKpU6c7zBHfRpEiRWRF+DKXq1WY50hIQGPr1m3SslUb8+XxPlerZ3y+ZaMEBARYrnH3TmZMn6qDKJYLKDwWgUQX0Pjx0o/Sbl4HUUveOB81i9WQjmXbO5fdtqd8NU1WfrPKod+TK2eoG03+copEHFztcE/VSJIkiUxrFiI5MuSw9FFAAAEEEEAAAQQQQAABBBBAAAEEEEAAAQQQQAABBBBAAAEEnqTAwEGDJTTUuktAbM+kAgYq8JAvXz6HYX369pOFCxc71FRj+7avJFu25xzqCQ1o3Lx5U9T8y5e7/j/rO0xuasQWhjAN06cJCWioC+bNXyD9+w90nibO9ry5c+TNN0u7HOdqZQ61jcvqiJX6b88uL6L4yAKJLqChxEZvHCubj26x4Pl4+cjExsGSO1MuS5+7QogtMLHqn8CEp8MZpy+ckaCFXSTmbozlcSoWrCAfV/rQUqeAAAIIIIAAAggggAACCCCAAAIIIIAAAggggAACCCCAAAIIPGkB9X+gHz16rIRMmRqvR1HbiixZvFDy5MltGb9o0RLbdih9Hepq/L69kZZwQUIDGsaks2bPkSFDhhrNWD/VyhkTgsdK9uzZYx1ndCY0oKGu2xUZKW3btpfr168b07j9VBbjxo52G87YseNrada8peX6mTOmSblyZS11Co9PIFEGNC7+dVFazm4jt2JuWSQzpc0kk2whDd9UvpY+d4WJX0wWX9vWKE1LNnE35JHrV25ckU62cMaFPy9Y5krmk0zmtJopGdNktPRRQAABBBBAAAEEEEAAAQQQQAABBBBAAAEEEEAAAQQQQAABBJ4WgcjI3TJ12nTZvn2Hy0dSK1G0fb+NNGnSSPz8/FyOiYmJkQEDBzmsohEWtkRefeUVy/iHDWioiXbv3iOhc+fJpk2bLfOqgrpfg8D6UrtWTfHx8XE5xlXxYQIaap6fzp6VGTNmyqpVq10GNZ5/PpsEBjaQhu8FSvr06V3dWtfUlilq6xTzweoZZg3PnSfKgIbinLF9loTtW+5S9sUsL8roBiPExzv+/yNyOdFjKsbciZGPl3WX73/93uWMDV6rL23eauWyjyICCCCAAAIIIIAAAggggAACCCCAAAIIIIAAAggggAACCCDwtAmcO/eznLUFDs6dOye3bt+WDLZVH7JkyaK3M0mVKmW8Hvfq1aty/vx5yZEjhyRPnjxe1zzMoOjoaPn1198kKipKvLy9JG2aNJI5c2ZJly7dw0z3yNfE3Lkjv/7yq36e2za7VKlSSaZMmSRjxgyWFUQe+WZM8FgFEm1A49rf16TF7NbyZ/SfLkGfpi1D3G3Joh48bcq0EtpqlqROkdrl96CIAAIIIIAAAggggAACCCCAAAIIIIAAAggggAACCCCAAAIIIIAAAk9eINEGNBT9wbOHpFd4H7lz947LN6FCGl0rdH5iK2molTPGb5kgm49ucfl83l7eMrTuECn2/Esu+ykigAACCCCAAAIIIIAAAggggAACCCCAAAIIIIAAAggggAACCCCAwNMhkKgDGuoVRBxcLZO/nOL2bajtTgbU7Cu+qXzdjvFEx5UbV2RAxGC325qoe3Ys215qFqvhidszJwIIIIAAAggggAACCCCAAAIIIIAAAggggAACCCCAAAIIIIAAAgg8RoFEH9BQlmqVivVHNrhlzZQ2kwys2V9yZ8rldszj7Dh94Yz0jxgoF/684HbaKkUq69U93A6gAwEEEEAAAQQQQAABBBBAAAEEEEAAAQQQQAABBBBAAAEEEEAAAQSeGgECGrZXEXM3RrqH9ZJvf/7W7Yvx8fKRqkWrSJMSjSRdynRuxz1Kx9Xoq7IgcpGsO7xeP5O7uQo/V1hG1B8q6pk4EEAAAQQQQAABBBBAAAEEEEAAAQQQQAABBBBAAAEEEEAAAQQQQODpFyCg8c87+uvvv/SWIrGFNNTQlMlSSuBr9aXuK3UkedLkj+UN37x9U8IPrJCl+8Ik+lZ0rHOqcIbaciVNijSxjqMTAQQQQAABBBBAAAEEEEAAAQQQQAABBBBAAAEEEEAAAQQQQAABBJ4eAQIapnehVtKY9EVIrNudGMN9U/lK6bylpGSeEvJStqLi452w1Sxi7sTIoXOHZdepSPn65E65cuOKMbXbT7WtSadyHRLdyhmXL1+WNWvXy74DB+Tc2XNy89YtyZMnt+TOmVNq1qguuXLldGv2v94RExMjffsPlLt370rnTh0ka9as/+tfiedHAAEEEEAAAQQQQAABBBBAAAEEEEAAAQQQQAABBBBAAAEEEqUAAQ0Xrz3i4GqZunW63Ll7x0WvtZQqWSp5PddrUjhrIfFP7W//l94W4kiSJIlcvv6HRF2Luv/v+mW9lcreM/vkxq0b1slcVLy9vOWDMm2lZrEaLnr/26XVa9fJ6DHjYv2SlSu9Kx927SzJkz+eFU1ivdm/3Pn3zZtSsVJVfdepIRPlxQIFHvkJfvjxR9m1a7ekTv2MDrg88oRMgAACCCCAAAIIIIAAAggggAACCCCAAAIIIIAAAggggAACCCAQpwABDTdEB88eks/WDpM/o/90MyLusgpnqOPevXtxD3YzIm3KtNK7Wk8p9vxLbkb8d8vzFiyUmbPm2L9gndq1pOCLBSRp0qRy9tw5iVi9Vi5evKj73ynztvTv21u8vLzs4/8LJ54IaGzYuEmGjRglWZ59VpYsmv9fYOI7IIAAAggggAACCCCAAAIIIIAAAggggAACCCCAAAIIIIAAAk+9AAGNWF7Rtb+vyZK9y2TVwQi5FXMrlpGPvyuZTzKpVaymvPd6A0mdIvXjv8FTPuP3//d/8kGHIP2U6X19ZdrUyRKQObPDU9+2bf8xOWSqrFi5Ste7BHWSunVqOYz5X28Q0Phff4M8PwIIIIAAAggggAACCCCAAAIIIIAAAggggAACCCCAAAIIIHBfgIBGPH4TLv51UebunC9bvv/8kVbDiMet9JYoFV4sL81LNZWMaTLG55L/5Jj2HYPk6Pf/p7/bzOlTJF/evC6/513b6iQ9evaW3Xv2SrbnnpOF80NdjlMrbhw9+r1txY1LkiZtGsmRPbsULVpEvP5Z5cR80S+//CInTp6STJky6RU7LkVFyaFDhyXq8mUpWriw5M2bR7y9vfUlt2/fluMnTui5U6ZMKQXy59f95vnUuas5v7d9v5/OnhXfdL5SoMALkid3bufLJD4BDfUM+/Yf0PeIibkj2bM/r7dC8fVN5zDf7xcuiLpnuC3QcuTIt7pvYP+++tP4rg4X2BpmtwwZ/CVnzhz6OzqP80Tb2ezatWvyne0dnjp12v4d/f39Yr311atXZf+Bb+T877+Lj4+PZM2SRV599RVJ4bQdzpFvv5Mo23t+NiBA8ud/wWFOtQLO1m3bdS37889Lrlw5HfrVO4qM3K1rhQsXkgz+/g79NBBAAAEEEEAAAQQQQAABBBBAAAEEEEAAAQQQQAABBBBAAAElQEAjAb8HP176URbvWSq7z+yR6FvRCbgy7qEpk6WUN3IVl4bFAyVHhhxxX/AfHvHbb+clsFET/Q0//fhDqVa1SqzfVv0B/sOPP9VjFsybI89ny2Yff+fOHb2dx+Ytn9trxokKdIwaOUxv9WHU1OesOaEyd94CqVihvA5bqFU6zEfuXLkkZFKwnPv5Z+nc9SO5ceOGuVvUVixdO3dyqJnnLFWyhPQfONihXzXeerO0DOjXRwcJjM64AhqHDh+R/gMGyR9XrhiX2D+7dQmSGtWr2cMkWz7/QgZ/Nszebz5R37VPrx72UmxuKuCgvp/Z2X7hYzwxm73ycjH9Hp2nV8+hvF0dy8NXyIRJIZauVKlS6e1wSrxR3N43YtQYWbd+gw4CqUCQ+fjhxx+lecs2ulS6VEkZOmSQuVuHgz7t0UvXli1eIAG2kAcHAggggAACCCCAAAIIIIAAAggggAACCCCAAAIIIIAAAggg4CxAQMNZJB7tmDsxcujcYdl1KlJ2n94tl65FxeMq65AMqf3ljdxvSMk8JeSlbEXFx9vHOigRViJWr5Ex44L1N1+8YK5kzZr1oRVGjxknq9eu09erP8yXLPGGHD9+QocrVFGFNKZMniBp06a138MIBmTMmNG24sZFUZ9FixSWA7YgiBGEUCEFtRqFCme8W7GCqNUddu6KtM8xaEA/KfP2W/a2Mae6nwp2qEMFPXLmzCG7bKsvGCGPmjWqy0fduqhufcQW0Dh79py0bd/Rfu3LxYpJunRpZc/effZax/btJLBBfT2X2jZm85Yv7FvCqKIRbihiW/mh7Dtl9Dj1Y9z4CbIyYrVuqy1mihd/XX786Sc5duy4vaZWK0md2nPb7xhmxntQ76/4669JsmTJZMfXO+3f0dlaPaBzGEWFYpTxQdtKKMYxbcok+2ogO3ftkp69++muVSvCxC99emOYhK9YJcETJ9nbX2zeIEmTJrW3J06eImHLw/X7nDNrur3OCQIIIIAAAggggAACCCCAAAIIIIAAAggggAACCCCAAAIIIGAWIKBh1niI83tyT06cPymnL5yWKFtQI+q67d+1P/Tn5X+CG362IIb/M7Z/qdPrT7/UfpInUx7JF5BXktj+43AUmDZjpixctEQXt365xeU2JI5XuG4tCwuXSSH3V0NwXk3i1OnT0qlzN/1H+8KFCsmkCeP09jJqJiMYoM7VigmDB/bXq1CoVSXGjg+WNWvXqy59mAMkajuNdu07ya+//aZXwxgyaMA/oxznVMVZ06fat0JR8y5eskymz5ylx5tXDXEX0FCBkDZt2+t7qe1fxo0ZKWnSpNHXq/kGDRkqX23dptvmZ1SFDRs36dUosjz7rCxZNF+PMf9YuSpCxgVP1CW1qkaF8uXsNmrbGbX9jDqcwyS6+Bh/mN+DekejbaudqG1k1HHx0iX5oEOQDtColUfM1uZnVOGZD7t2tl+nAjbdbVviqKCJCnyoFVfUliTR0dHybpXqeu7+fXtLubLv6HP14+NPe8jeffvt7Qnjx8pLtu1xjKNug4b6OVq1bC4tmjU1ynwigAACCCCAAAIIIIAAAggggAACCCCAAAIIIIAAAggggAACDgIENBw4aDwNAsNGjNIhArUixPixox76kVq2biunz5yRd8q8LQP797XM88WXX8nAwZ/pujnEYA4GrF+zymGViB9+sG130er+dheu5lVBiynTpkuO7NllXuj9wIW6gXnO7p9+LFUrV3J4nrv37smn3XvqIMDrr71qCyMM1/3uAhpqtY6evfvqkMEi20oWfn5+DvPdunVLmrVorQMc7du1lYbvNbD3xxXQMNzcBQ7Wb9gow0eO1vN99fkm+xYq9hu4OFHhFbWyR7FiL0nGDBlcjLCWzGYrli/VQQrzKBWUGTVmrKgVPiJWLrd3qS1ploYt1yufqHfwjC2IYT5+/vkXadS0uS717P6JVK707v1zm6dyrfRuRenV41NdM/urVVP27z8gzZs1kdYtW+h+81zTp4ZI/hfy6To/EEAAAQQQQAABBBBAAAEEEEAAAQQQQAABBBBAAAEEEEAAAWcBAhrOIrSfuIBa/eHzL74UtS3FsM8GP9TzmFdEmDEtRF7I5/oP5zVr19PblqgAhwpcqMMIBqiVKWZOv78Ch/kh3nqnvG7269NLypcra+4SI/ThHBow5lSDt2xcJ8mTJ3e4TjXMoYsNayP0qhXmgMDUkInyYoEC+ro5ofNkztx5OlygQgauDmN7FxUGUaEQ44gtoPH3339LxcrV9FBzaMW4Vn3+fuGC1A9spEtqBQ61EkdshwqfNG3WUm/tolatUFuIpHDx/Z3nMMzcrfRhXilj3eqV9hVE1Aofqi+oY3upX6+u87S6bYSA1BYvXTt30rV16zfIiFFjdOhFBXO8vLxk3/798tEnPXTgpu37raVXn35i/r1Q28Co7WDU+15p+15eSVgRxyU4RQQQQAABBBBAAAEEEEAAAQQQQAABBBBAAAEEEEAAAQQQEAIa/BI8dQLGCgjOIYeEPOh3R49Kh05d9CWb1q+xb3HhPIfa7iJy9x5p9F6gfNDufd1tBAPeKP66jBw+1PkSMQIanw0eKG+WLuXQH1dAI9tzz8lC24oXrg7zagxLFy2QZ58NEHcBDfO2G+4CEmqrFXXkz/+CTJ8y2X7L2AIaZreMGTNKUh8f+3XmE2PuUSOGSfHXXzN3Wc7NYRnVqbYVeT5bNss450Jc7+HMmR+kRev772zNqnBJly6d3I6JkXIV7q9OMmbUcHnt1Vedp9XtpcvCZPKUaQ5hi0tRUVKnXqDuN1bDUGPU2CaNG+rfkSrVa+l+FTLxS59eb5eifn9q16wh3WxbqXAggAACCCCAAAIIIIAAAggggAACCCCAAAIIIIAAAggggAAC7gQIaLiTof7EBJYsXSYhU6fr+69cvkz8/R2374jPgxlBCbViw8Z1q91eMmZcsESsXuOwDUpcwYBHCWgUfLGATJk80eXz/PXXX1K1Rm3dFzIpWAoVLOg2oFG3QUO5ePGiy3mci84rUMQW0FArl6gVTOJ79O/bW8qVfSfO4Wo7khUrV+kwR7u2bfTqIHFdFNd7MAc0Vq8MF1/fdHLhwkWpF9hQTz1n1nTJnSuXy9u4+/1o276jHDt2XNq2aa1DGY2bttArf0wYP1ZeKlpEunT7SA4eOizqe5cqVVIqVqqq51dBHhXo4UAAAQQQQAABBBBAAAEEEEAAAQQQQAABBBBAAAEEEEAAAQTcCRDQcCdD/YkJ/N+xY9Ku/f1tJ+Lzh++zZ8/ZVkOYqp+3W5cgCQgIkNNnzkjL1m11zVhdwdUXMv7g3rplC2nerIkeElcw4FECGrEFRo4dPyFtP+ign2FtxApJmzat24BGn34DZPuOr3WwpEP7dq6+mr2mthNRq0sYR2wBjZMnT0nrth/ooSrgkDp1auMyl5/+fn7i42aVDZcXJKAY13twFdBQ26lUqVZTbty4IUOHDJLSthCFq2PuvAV6K5tiLxWV4HFj7EMWLFws02fOksKFCknf3j2kQcP7vxNfbNmoVxMxwkOVK70rFcqXkw8//lRf627bGvvEnCCAAAIIIIAAAggggAACCCCAAAIIIIAAAggggAACCCCAQKIXIKCR6H8Fnj6Ae7Y/stcLbKRXiFCrP0yfOlmHFdw96YSJk2X5ipWiwg8q2KACAzG2rS7K/rPVxbgxo+SVl4tZLlfbYVSvWUf/Md8cBIkrGPAoAQ31EKvCl4mfLdjgfKzbsFFGjBwtamuR8GWLdbe7LU4WLloi02bMFOeAgfOcrtqxBTTMW4RMDB4rRYsUcTXFv1KL6z24CmioBzO2f2nZvJm0bNHM5bP27N1Xdu6KlMaN3pN277exjzEHe9RKH9Omz5S333pTBg/sr8cY/ep3rVrVyrIsLNyh3z4RJwgggAACCCCAAAIIIIAAAggggAACCCCAAAIIIIAAAggggICTAAENJxCaT4eAESJQT1OkSGEZO2qEJEuWzPJwX23dJv0HDtb1wPr1pGOH+6s/qELHoK7y7Xff6W0upk2ZZLl+xszZMn/hIn3tqhVh4pc+vT6PKxjwqAENtfpCz+6f6HsZP/60bW/StFlL+ePKFYftVtwFNPYf+Ma+esP4saPk5WKOARQVchn82TBJbls9o2KF8jrIYdzLbPvV55vE29vb6NKfhpvasuMz2yoUSZ1WyDhy5FuZPmu2lCheXGrVqiHP2MIKnjjieg/uAhpz5s6TOaHz9CMtXjBXsmbN6vB4e/buk0+699S1IYMGyFtvlrb3m8NBRrH7px9L1cqVdFP116pTX78no793z+7ybsUKRpNPBBBAAAEEEEAAAQQQQAABBBBAAAEEEEAAAQQQQAABBBBAwKUAAQ2XLBSftID6Q3iPXn0kcvce/SgFXyxgW+2goeTP/4L4ePvIz7/8LKvXrJONmzbr/mzPPSdTQyZKmjRp7I9uDjGUL1dWGgY2kDx5ckvU5cuybdsOCZ44SY+tV6e2dA7qaL8urmDAowY01I3eb9NKqlSqJOn90ssJ29Yms0Pnyu49e/UzhEwKlkIFC+pzdwGN27dv20IGveSbgwf1OBU0eOWVl3VYQm3vMWvOXAlbHq77Bvbvq0MfumH7Yd7GpEtQJylbtozN1NtuZw4wvFPmbVHbv2TL9pwkSZJEDh85IoOGDNOrm+TInl3UNijOAQ/jPo/6Gdd7cBfQuHjxorRp216HKPLlzSsftHtfihYtIrdv3RL1OzFm7Hjdp36XJowfK2oLGPMxKWSKXhnDqIUtXSSZM2UymjJ6zDhZvXadvR2xcrmk9/W1tzlBAAEEEEAAAQQQQAABBBBAAAEEEEAAAQQQQAABBBBAAAEEXAkQ0HClQu2pEFDhhGHDR4paJSO2Q20JMil4nDz7bIBl2MbNW2TosBH2utqaQgUYjEOtnjBoQD/x8vIySrZwQ6jMnbdA1AoSausT5+NRAhq5c+WSy7aAiFopQx3Oz9PLthpDJdNqDO4CGura69evS6fO3URtu2EcykIFFIyjVMkSMtS2CoYKVxjHXVv4pVHjZvLrb78ZJb1ChFopwjjMq2yomnpOdZjtJk8cL4ULFdJ1T/yI6z24C2ioZzG2InH3XGrrnKkhk8TXN51lyIFvDkq3j+6vcKJCKPNCZzmM2b7ja+nTb4Cuqe+vHDgQQAABBBBAAAEEEEAAAQQQQAABBBBAAAEEEEAAAQQQQACBuAQIaMQlRP8TFVBhgh22P4gvCwvX25WYH0aFEZo0ek+qVqls2b7EPE6FDWbODnUILqh+tXJG27ZtLCsoxBUMiC2gsW37Dunbf6CoZwtfttj+GOY5u3YJkgGDhsixY8ft/WoFhlYtm0vNGtXtNXUSW0BD9V+KipKp02bI5i2fq6b9UPO1bNFcalSv6hA+MQZc/uMPGT5ilH3VDrUCycL5oUa3/txkC7eorULMQQ7VoYIrXTp3kqxZsjiMf9wNs5mroMzZs+ekSfOW+rarV4ZbwhbfHT0qU6bOsPzelC5VUm+F4+75b8fESLkK97c0aWz7/Wr3fhuHr/aXbTuaqjVq61rH9u0ksEF9h34aCCCAAAIIIIAAAggggAACCCCAAAIIIIAAAggggAACCCCAgCsBAhquVKg9lQIqrHDhwgWJuR0jWbI8KylSpIj3c969e1dfe+XKVUmRMoUEBARYghnxnuwhBroKG6hwxa+//qaDBc/aVnRI6uPzEDPfv0StbPG7zebmzVsSkDmzJazgbmJlGmV7Dn8/P5eeKiBz6eIl24off9i8UkjWrFnE5xGe091zeLIeFXVZr1qi7hEQkNm+lYsn78ncCCCAAAIIIIAAAggggAACCCCAAAIIIIAAAggggAACCCCAgLMAAQ1nEdoIeEDAVUDDA7dhSgQQQAABBBBAAAEEEEAAAQQQQAABBBBAAAEEEEAAAQQQQACBp1SAgMZT+mJ4rP+WAAGN/9b75NsggAACCCCAAAIIIIAAAggggAACCCCAAAIIIIAAAggggAACCRUgoJFQMcYj8BACBDQeAo1LEEAAAQQQQAABBBBAAAEEEEAAAQQQQAABBBBAAAEEEEAAgf+QAAGN/9DL5Ks8vQKLliyVpUvD5LXXXpU+vXo8vQ/KkyGAAAIIIIAAAggggAACCCCAAAIIIIAAAggggAACCCCAAAIIeESAgIZHWJkUAQQQQAABBBBAAAEEEEAAAQQQQAABBBBAAAEEEEAAAQQQQAABBBB4IEBA44EFZwgggAACCCCAAAIIIIAAAggggAACCCCAAAIIIIAAAggggAACCCCAgEcECGh4hJVJEUAAAQQQQAABBBBAAAEEEEAAAQQQQAABBBBAAAEEEEAAAQQQQACBBwIENB5YcIYAAggggAACCCCAAAIIIIAAAggggAACCCCAAAIIIIAAAggggAACCHhEgICGR1iZFAEEEEAAAQQQQAABBBBAAAEEEEAAAQQQQAABBBBAAAEEEEAAAQQQeCBAQOOBBWcIIIAAAggggAACCCCAAAIIIIAAAggggAACCCCAAAIIIIAAAggggIBHBAhoeISVSRFAAAEEEEAAAQQQQAABBBBAAAEEEEAAAQQQQAABBBBAAAEEEEAAgQcCBDQeWHCGAAIIIIAAAggggAACCCCAAAIIIIAAAggggAACCCCAAAIIIIAAAgh4RICAhkdYmRQBBBBAAAEEEEAAAQQQQAABBBBAAAEEEEAAAQQQQAABBBBAAAEEEHggQEDjgQVnCCCAAAIIIIAAAggggAACCCCAAAIIIIAAAggggAACCCCAAAIIIICARwQIaHiElUkRQAABBBBAAAEEEEAAAQQQQAABBBBAAAEEEEAAAQQQQAABBBBAAIEHAgQ0HlhwhgACCCCAAAIIIIAAAggggAACCCCAAAIIIIAAAggggAACCCCAAAIIeESAgIZHWJkUAQQQQAABBBBAAAEEEEAAAQQQQAABBBBAAAEEEEAAAQQQQAABBBB4IEBA44EFZwgggAACCCCAAAIIIIAAAggggAACCCCAAAIIIIAAAggggAACCCCAgEcECGh4hJVJEUAAAQQQQAABBBBAAAEEEEAAAQQQQAABBBBAAAEEEEAAAQQQQACBBwIENB5YcIYAAggggAACCCCAAAIIIIAAAggggAACCCCAAAIIIIAAAggggAACCHhEgICGR1iZFAEEEEAAAQQQQAABBBBAAAEEEEAAAQQQQAABBBBAAAEEEEAAAQQQeCBAQOOBBWcIIIAAAggggAACCCCAAAIIIIAAAggggAACCCCAAAIIIIAAAggggIBHBAhoeISVSRFAAAEEEEAAAQQQQAABBBBAAAEEEEAAAQQQQAABBBBAAAEEEEAAgQcCBDQeWHCGAAIIIIAAAggggAACCCCAAAIIIIAAAggggAACCCCAAAIIIIAAAgh4RICAhkdYmRQBBBBAAAEEEEAAAQQQQAABBBBAAAEEEEAAAQQQQAABBBBAAAEEEHgg8P/atXD1TAO3eQAAAABJRU5ErkJggg==)"
      ],
      "metadata": {
        "id": "2oEegtyTJ4dH"
      }
    },
    {
      "cell_type": "markdown",
      "source": [
        "#STACKING"
      ],
      "metadata": {
        "id": "u0gC1DBQJ7hl"
      }
    },
    {
      "cell_type": "code",
      "source": [
        "models = [ GradientBoostingRegressor(), RandomForestRegressor(n_jobs = -1), DecisionTreeRegressor()]\n",
        "\n",
        "S_Train, S_Test = stacking(models,\n",
        "                           Xtrain, Ytrain, Xtest,\n",
        "                           regression=True,\n",
        "                           mode='oof_pred_bag',\n",
        "                           needs_proba=False,\n",
        "                           save_dir=None,\n",
        "                           n_folds=5,\n",
        "                           shuffle=True,\n",
        "                           random_state=7,\n",
        "                           verbose=2)"
      ],
      "metadata": {
        "id": "ALde479cJ_TX",
        "colab": {
          "base_uri": "https://localhost:8080/"
        },
        "outputId": "6968a519-5a4d-4fbe-9870-c95069dc7f55"
      },
      "execution_count": 17,
      "outputs": [
        {
          "output_type": "stream",
          "name": "stdout",
          "text": [
            "task:         [regression]\n",
            "metric:       [mean_absolute_error]\n",
            "mode:         [oof_pred_bag]\n",
            "n_models:     [3]\n",
            "\n",
            "model  0:     [GradientBoostingRegressor]\n",
            "    fold  0:  [15901.49250336]\n",
            "    fold  1:  [16127.17438928]\n",
            "    fold  2:  [20096.37355102]\n",
            "    fold  3:  [14477.68052167]\n",
            "    fold  4:  [16533.09588772]\n",
            "    ----\n",
            "    MEAN:     [16627.16337061] + [1867.67939830]\n",
            "    FULL:     [16627.16337061]\n",
            "\n",
            "model  1:     [RandomForestRegressor]\n",
            "    fold  0:  [17472.38794521]\n",
            "    fold  1:  [16929.23636986]\n",
            "    fold  2:  [20827.61965753]\n",
            "    fold  3:  [16203.15452055]\n",
            "    fold  4:  [17453.12099315]\n",
            "    ----\n",
            "    MEAN:     [17777.10389726] + [1593.71635630]\n",
            "    FULL:     [17777.10389726]\n",
            "\n",
            "model  2:     [DecisionTreeRegressor]\n",
            "    fold  0:  [25471.59931507]\n",
            "    fold  1:  [26417.06506849]\n",
            "    fold  2:  [30505.46917808]\n",
            "    fold  3:  [24259.41438356]\n",
            "    fold  4:  [25136.48630137]\n",
            "    ----\n",
            "    MEAN:     [26358.00684932] + [2185.71968674]\n",
            "    FULL:     [26358.00684932]\n",
            "\n"
          ]
        }
      ]
    },
    {
      "cell_type": "code",
      "source": [
        "stacked_model = GradientBoostingRegressor()\n",
        "stacked_model.fit(S_Train,Ytrain)\n",
        "stacked_pred = stacked_model.predict(S_Test)\n",
        "\n",
        "result_df = pd.DataFrame({\n",
        "    'ID': test_ID,\n",
        "    'SalePrice': stacked_pred\n",
        "})\n",
        "\n",
        "# Save the DataFrame to a CSV file\n",
        "result_df.to_csv('STACKED.csv', index=False)"
      ],
      "metadata": {
        "id": "S8ZSChTCT6uq"
      },
      "execution_count": 18,
      "outputs": []
    },
    {
      "cell_type": "markdown",
      "source": [
        "![image.png](data:image/png;base64,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)"
      ],
      "metadata": {
        "id": "pyg3UQRP0fMB"
      }
    },
    {
      "cell_type": "code",
      "source": [
        "#HYPER PARAMETER TUNING OF STACKED MODEL\n",
        "\n",
        "param_grid_meta = {\n",
        "    'n_estimators' : [75, 100, 150],\n",
        "    'max_depth': range(5,20,2),\n",
        "    'min_samples_split': range(1,15,2),\n",
        "    'min_samples_leaf': range(1,15,2)\n",
        "}\n",
        "\n",
        "random_search = RandomizedSearchCV(estimator=stacked_model, param_distributions=param_grid_meta,\n",
        "                                   n_iter=25, cv=5, random_state=7,verbose=2)\n",
        "\n",
        "random_search.fit(S_Train, Ytrain)\n",
        "best_param = random_search.best_params_\n",
        "print(best_param)\n",
        "#CV_mlp = GridSearchCV(estimator=model, param_grid=param_grid_meta, cv=5,n_jobs =-1, verbose = 1)\n",
        "#CV_mlp.fit(S_Train, y_res1)\n",
        "#print(CV_mlp.best_params_)\n",
        "\n",
        "final_model = GradientBoostingRegressor(**best_param)\n",
        "final_model.fit(S_Train, Ytrain)\n",
        "final_y_pred = final_model.predict(S_Test)\n",
        "\n",
        "\n",
        "result_df = pd.DataFrame({\n",
        "    'ID': test_ID,\n",
        "    'SalePrice': final_y_pred\n",
        "})\n",
        "\n",
        "# Save the DataFrame to a CSV file\n",
        "result_df.to_csv('STACKED1.csv', index=False)\n"
      ],
      "metadata": {
        "colab": {
          "base_uri": "https://localhost:8080/"
        },
        "id": "PHb-_kaRVptv",
        "outputId": "b0ac0cd7-d399-496d-8120-f8b29012b28b"
      },
      "execution_count": 19,
      "outputs": [
        {
          "output_type": "stream",
          "name": "stdout",
          "text": [
            "Fitting 5 folds for each of 25 candidates, totalling 125 fits\n",
            "[CV] END max_depth=13, min_samples_leaf=11, min_samples_split=5, n_estimators=150; total time=   0.7s\n",
            "[CV] END max_depth=13, min_samples_leaf=11, min_samples_split=5, n_estimators=150; total time=   0.7s\n",
            "[CV] END max_depth=13, min_samples_leaf=11, min_samples_split=5, n_estimators=150; total time=   0.7s\n",
            "[CV] END max_depth=13, min_samples_leaf=11, min_samples_split=5, n_estimators=150; total time=   0.7s\n",
            "[CV] END max_depth=13, min_samples_leaf=11, min_samples_split=5, n_estimators=150; total time=   0.7s\n",
            "[CV] END max_depth=17, min_samples_leaf=7, min_samples_split=3, n_estimators=150; total time=   0.9s\n",
            "[CV] END max_depth=17, min_samples_leaf=7, min_samples_split=3, n_estimators=150; total time=   1.3s\n",
            "[CV] END max_depth=17, min_samples_leaf=7, min_samples_split=3, n_estimators=150; total time=   1.3s\n",
            "[CV] END max_depth=17, min_samples_leaf=7, min_samples_split=3, n_estimators=150; total time=   1.3s\n",
            "[CV] END max_depth=17, min_samples_leaf=7, min_samples_split=3, n_estimators=150; total time=   1.3s\n",
            "[CV] END max_depth=19, min_samples_leaf=13, min_samples_split=1, n_estimators=75; total time=   0.0s\n",
            "[CV] END max_depth=19, min_samples_leaf=13, min_samples_split=1, n_estimators=75; total time=   0.0s\n",
            "[CV] END max_depth=19, min_samples_leaf=13, min_samples_split=1, n_estimators=75; total time=   0.0s\n",
            "[CV] END max_depth=19, min_samples_leaf=13, min_samples_split=1, n_estimators=75; total time=   0.0s\n",
            "[CV] END max_depth=19, min_samples_leaf=13, min_samples_split=1, n_estimators=75; total time=   0.0s\n",
            "[CV] END max_depth=5, min_samples_leaf=7, min_samples_split=13, n_estimators=150; total time=   0.6s\n",
            "[CV] END max_depth=5, min_samples_leaf=7, min_samples_split=13, n_estimators=150; total time=   1.2s\n",
            "[CV] END max_depth=5, min_samples_leaf=7, min_samples_split=13, n_estimators=150; total time=   0.5s\n",
            "[CV] END max_depth=5, min_samples_leaf=7, min_samples_split=13, n_estimators=150; total time=   0.4s\n",
            "[CV] END max_depth=5, min_samples_leaf=7, min_samples_split=13, n_estimators=150; total time=   0.4s\n",
            "[CV] END max_depth=17, min_samples_leaf=11, min_samples_split=7, n_estimators=150; total time=   0.8s\n",
            "[CV] END max_depth=17, min_samples_leaf=11, min_samples_split=7, n_estimators=150; total time=   0.9s\n",
            "[CV] END max_depth=17, min_samples_leaf=11, min_samples_split=7, n_estimators=150; total time=   0.9s\n",
            "[CV] END max_depth=17, min_samples_leaf=11, min_samples_split=7, n_estimators=150; total time=   0.8s\n",
            "[CV] END max_depth=17, min_samples_leaf=11, min_samples_split=7, n_estimators=150; total time=   0.8s\n",
            "[CV] END max_depth=7, min_samples_leaf=13, min_samples_split=3, n_estimators=150; total time=   0.5s\n",
            "[CV] END max_depth=7, min_samples_leaf=13, min_samples_split=3, n_estimators=150; total time=   0.5s\n",
            "[CV] END max_depth=7, min_samples_leaf=13, min_samples_split=3, n_estimators=150; total time=   0.5s\n",
            "[CV] END max_depth=7, min_samples_leaf=13, min_samples_split=3, n_estimators=150; total time=   0.5s\n",
            "[CV] END max_depth=7, min_samples_leaf=13, min_samples_split=3, n_estimators=150; total time=   0.5s\n",
            "[CV] END max_depth=17, min_samples_leaf=1, min_samples_split=11, n_estimators=75; total time=   0.4s\n",
            "[CV] END max_depth=17, min_samples_leaf=1, min_samples_split=11, n_estimators=75; total time=   0.4s\n",
            "[CV] END max_depth=17, min_samples_leaf=1, min_samples_split=11, n_estimators=75; total time=   0.4s\n",
            "[CV] END max_depth=17, min_samples_leaf=1, min_samples_split=11, n_estimators=75; total time=   0.4s\n",
            "[CV] END max_depth=17, min_samples_leaf=1, min_samples_split=11, n_estimators=75; total time=   0.5s\n",
            "[CV] END max_depth=9, min_samples_leaf=11, min_samples_split=1, n_estimators=75; total time=   0.0s\n",
            "[CV] END max_depth=9, min_samples_leaf=11, min_samples_split=1, n_estimators=75; total time=   0.0s\n",
            "[CV] END max_depth=9, min_samples_leaf=11, min_samples_split=1, n_estimators=75; total time=   0.0s\n",
            "[CV] END max_depth=9, min_samples_leaf=11, min_samples_split=1, n_estimators=75; total time=   0.0s\n",
            "[CV] END max_depth=9, min_samples_leaf=11, min_samples_split=1, n_estimators=75; total time=   0.0s\n",
            "[CV] END max_depth=15, min_samples_leaf=7, min_samples_split=1, n_estimators=75; total time=   0.0s\n",
            "[CV] END max_depth=15, min_samples_leaf=7, min_samples_split=1, n_estimators=75; total time=   0.0s\n",
            "[CV] END max_depth=15, min_samples_leaf=7, min_samples_split=1, n_estimators=75; total time=   0.0s\n",
            "[CV] END max_depth=15, min_samples_leaf=7, min_samples_split=1, n_estimators=75; total time=   0.0s\n",
            "[CV] END max_depth=15, min_samples_leaf=7, min_samples_split=1, n_estimators=75; total time=   0.0s\n",
            "[CV] END max_depth=11, min_samples_leaf=5, min_samples_split=11, n_estimators=150; total time=   0.8s\n",
            "[CV] END max_depth=11, min_samples_leaf=5, min_samples_split=11, n_estimators=150; total time=   1.0s\n",
            "[CV] END max_depth=11, min_samples_leaf=5, min_samples_split=11, n_estimators=150; total time=   1.0s\n",
            "[CV] END max_depth=11, min_samples_leaf=5, min_samples_split=11, n_estimators=150; total time=   1.0s\n",
            "[CV] END max_depth=11, min_samples_leaf=5, min_samples_split=11, n_estimators=150; total time=   1.0s\n",
            "[CV] END max_depth=7, min_samples_leaf=1, min_samples_split=3, n_estimators=100; total time=   0.5s\n",
            "[CV] END max_depth=7, min_samples_leaf=1, min_samples_split=3, n_estimators=100; total time=   0.5s\n",
            "[CV] END max_depth=7, min_samples_leaf=1, min_samples_split=3, n_estimators=100; total time=   0.5s\n",
            "[CV] END max_depth=7, min_samples_leaf=1, min_samples_split=3, n_estimators=100; total time=   0.5s\n",
            "[CV] END max_depth=7, min_samples_leaf=1, min_samples_split=3, n_estimators=100; total time=   0.5s\n",
            "[CV] END max_depth=17, min_samples_leaf=5, min_samples_split=3, n_estimators=150; total time=   1.1s\n",
            "[CV] END max_depth=17, min_samples_leaf=5, min_samples_split=3, n_estimators=150; total time=   0.9s\n",
            "[CV] END max_depth=17, min_samples_leaf=5, min_samples_split=3, n_estimators=150; total time=   0.9s\n",
            "[CV] END max_depth=17, min_samples_leaf=5, min_samples_split=3, n_estimators=150; total time=   0.9s\n",
            "[CV] END max_depth=17, min_samples_leaf=5, min_samples_split=3, n_estimators=150; total time=   0.9s\n",
            "[CV] END max_depth=7, min_samples_leaf=9, min_samples_split=9, n_estimators=100; total time=   0.3s\n",
            "[CV] END max_depth=7, min_samples_leaf=9, min_samples_split=9, n_estimators=100; total time=   0.3s\n",
            "[CV] END max_depth=7, min_samples_leaf=9, min_samples_split=9, n_estimators=100; total time=   0.3s\n",
            "[CV] END max_depth=7, min_samples_leaf=9, min_samples_split=9, n_estimators=100; total time=   0.3s\n",
            "[CV] END max_depth=7, min_samples_leaf=9, min_samples_split=9, n_estimators=100; total time=   0.3s\n",
            "[CV] END max_depth=13, min_samples_leaf=13, min_samples_split=7, n_estimators=150; total time=   0.7s\n",
            "[CV] END max_depth=13, min_samples_leaf=13, min_samples_split=7, n_estimators=150; total time=   0.7s\n",
            "[CV] END max_depth=13, min_samples_leaf=13, min_samples_split=7, n_estimators=150; total time=   0.7s\n",
            "[CV] END max_depth=13, min_samples_leaf=13, min_samples_split=7, n_estimators=150; total time=   0.7s\n",
            "[CV] END max_depth=13, min_samples_leaf=13, min_samples_split=7, n_estimators=150; total time=   0.7s\n",
            "[CV] END max_depth=13, min_samples_leaf=1, min_samples_split=7, n_estimators=75; total time=   0.4s\n",
            "[CV] END max_depth=13, min_samples_leaf=1, min_samples_split=7, n_estimators=75; total time=   0.5s\n",
            "[CV] END max_depth=13, min_samples_leaf=1, min_samples_split=7, n_estimators=75; total time=   0.6s\n",
            "[CV] END max_depth=13, min_samples_leaf=1, min_samples_split=7, n_estimators=75; total time=   0.5s\n",
            "[CV] END max_depth=13, min_samples_leaf=1, min_samples_split=7, n_estimators=75; total time=   0.6s\n",
            "[CV] END max_depth=11, min_samples_leaf=3, min_samples_split=3, n_estimators=150; total time=   1.0s\n",
            "[CV] END max_depth=11, min_samples_leaf=3, min_samples_split=3, n_estimators=150; total time=   1.0s\n",
            "[CV] END max_depth=11, min_samples_leaf=3, min_samples_split=3, n_estimators=150; total time=   1.0s\n",
            "[CV] END max_depth=11, min_samples_leaf=3, min_samples_split=3, n_estimators=150; total time=   1.1s\n",
            "[CV] END max_depth=11, min_samples_leaf=3, min_samples_split=3, n_estimators=150; total time=   1.0s\n",
            "[CV] END max_depth=11, min_samples_leaf=5, min_samples_split=11, n_estimators=75; total time=   0.4s\n",
            "[CV] END max_depth=11, min_samples_leaf=5, min_samples_split=11, n_estimators=75; total time=   0.3s\n",
            "[CV] END max_depth=11, min_samples_leaf=5, min_samples_split=11, n_estimators=75; total time=   0.3s\n",
            "[CV] END max_depth=11, min_samples_leaf=5, min_samples_split=11, n_estimators=75; total time=   0.3s\n",
            "[CV] END max_depth=11, min_samples_leaf=5, min_samples_split=11, n_estimators=75; total time=   0.3s\n",
            "[CV] END max_depth=15, min_samples_leaf=13, min_samples_split=11, n_estimators=100; total time=   0.5s\n",
            "[CV] END max_depth=15, min_samples_leaf=13, min_samples_split=11, n_estimators=100; total time=   0.5s\n",
            "[CV] END max_depth=15, min_samples_leaf=13, min_samples_split=11, n_estimators=100; total time=   0.5s\n",
            "[CV] END max_depth=15, min_samples_leaf=13, min_samples_split=11, n_estimators=100; total time=   0.5s\n",
            "[CV] END max_depth=15, min_samples_leaf=13, min_samples_split=11, n_estimators=100; total time=   0.5s\n",
            "[CV] END max_depth=7, min_samples_leaf=5, min_samples_split=11, n_estimators=75; total time=   0.2s\n",
            "[CV] END max_depth=7, min_samples_leaf=5, min_samples_split=11, n_estimators=75; total time=   0.2s\n",
            "[CV] END max_depth=7, min_samples_leaf=5, min_samples_split=11, n_estimators=75; total time=   0.3s\n",
            "[CV] END max_depth=7, min_samples_leaf=5, min_samples_split=11, n_estimators=75; total time=   0.2s\n",
            "[CV] END max_depth=7, min_samples_leaf=5, min_samples_split=11, n_estimators=75; total time=   0.3s\n",
            "[CV] END max_depth=9, min_samples_leaf=1, min_samples_split=7, n_estimators=150; total time=   0.6s\n",
            "[CV] END max_depth=9, min_samples_leaf=1, min_samples_split=7, n_estimators=150; total time=   0.6s\n",
            "[CV] END max_depth=9, min_samples_leaf=1, min_samples_split=7, n_estimators=150; total time=   0.6s\n",
            "[CV] END max_depth=9, min_samples_leaf=1, min_samples_split=7, n_estimators=150; total time=   0.6s\n",
            "[CV] END max_depth=9, min_samples_leaf=1, min_samples_split=7, n_estimators=150; total time=   0.6s\n",
            "[CV] END max_depth=7, min_samples_leaf=3, min_samples_split=1, n_estimators=150; total time=   0.0s\n",
            "[CV] END max_depth=7, min_samples_leaf=3, min_samples_split=1, n_estimators=150; total time=   0.0s\n",
            "[CV] END max_depth=7, min_samples_leaf=3, min_samples_split=1, n_estimators=150; total time=   0.0s\n",
            "[CV] END max_depth=7, min_samples_leaf=3, min_samples_split=1, n_estimators=150; total time=   0.0s\n",
            "[CV] END max_depth=7, min_samples_leaf=3, min_samples_split=1, n_estimators=150; total time=   0.0s\n",
            "[CV] END max_depth=7, min_samples_leaf=11, min_samples_split=7, n_estimators=100; total time=   0.3s\n",
            "[CV] END max_depth=7, min_samples_leaf=11, min_samples_split=7, n_estimators=100; total time=   0.3s\n",
            "[CV] END max_depth=7, min_samples_leaf=11, min_samples_split=7, n_estimators=100; total time=   0.3s\n",
            "[CV] END max_depth=7, min_samples_leaf=11, min_samples_split=7, n_estimators=100; total time=   0.3s\n",
            "[CV] END max_depth=7, min_samples_leaf=11, min_samples_split=7, n_estimators=100; total time=   0.3s\n",
            "[CV] END max_depth=5, min_samples_leaf=13, min_samples_split=9, n_estimators=150; total time=   0.4s\n",
            "[CV] END max_depth=5, min_samples_leaf=13, min_samples_split=9, n_estimators=150; total time=   0.5s\n",
            "[CV] END max_depth=5, min_samples_leaf=13, min_samples_split=9, n_estimators=150; total time=   0.5s\n",
            "[CV] END max_depth=5, min_samples_leaf=13, min_samples_split=9, n_estimators=150; total time=   0.5s\n",
            "[CV] END max_depth=5, min_samples_leaf=13, min_samples_split=9, n_estimators=150; total time=   0.6s\n",
            "[CV] END max_depth=19, min_samples_leaf=1, min_samples_split=11, n_estimators=75; total time=   0.7s\n",
            "[CV] END max_depth=19, min_samples_leaf=1, min_samples_split=11, n_estimators=75; total time=   0.6s\n",
            "[CV] END max_depth=19, min_samples_leaf=1, min_samples_split=11, n_estimators=75; total time=   0.7s\n",
            "[CV] END max_depth=19, min_samples_leaf=1, min_samples_split=11, n_estimators=75; total time=   0.6s\n",
            "[CV] END max_depth=19, min_samples_leaf=1, min_samples_split=11, n_estimators=75; total time=   0.7s\n",
            "[CV] END max_depth=9, min_samples_leaf=7, min_samples_split=3, n_estimators=100; total time=   0.6s\n",
            "[CV] END max_depth=9, min_samples_leaf=7, min_samples_split=3, n_estimators=100; total time=   0.5s\n",
            "[CV] END max_depth=9, min_samples_leaf=7, min_samples_split=3, n_estimators=100; total time=   0.6s\n",
            "[CV] END max_depth=9, min_samples_leaf=7, min_samples_split=3, n_estimators=100; total time=   0.5s\n",
            "[CV] END max_depth=9, min_samples_leaf=7, min_samples_split=3, n_estimators=100; total time=   0.4s\n",
            "{'n_estimators': 100, 'min_samples_split': 3, 'min_samples_leaf': 1, 'max_depth': 7}\n"
          ]
        }
      ]
    },
    {
      "cell_type": "markdown",
      "source": [
        "![image.png](data:image/png;base64,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)"
      ],
      "metadata": {
        "id": "JDYVlQXLNcyy"
      }
    },
    {
      "cell_type": "markdown",
      "source": [
        "#CONCLUSION\n",
        "In this assignment, we worked with regressors to predict the value of the target variable. We also used stacking to combine predictions from different regressors to get a final prediction from the meta-model.\n",
        "We also handled missing values using various methods."
      ],
      "metadata": {
        "id": "2QwZpkBEr1Uw"
      }
    },
    {
      "cell_type": "markdown",
      "source": [
        "![image.png](data:image/png;base64,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)"
      ],
      "metadata": {
        "id": "wd_GZQ_c1HDg"
      }
    }
  ]
}